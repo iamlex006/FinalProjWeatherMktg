{
 "cells": [
  {
   "cell_type": "code",
   "execution_count": 6,
   "id": "1e055512",
   "metadata": {},
   "outputs": [],
   "source": [
    "import requests\n",
    "import pandas as pd\n",
    "from pandas import json_normalize"
   ]
  },
  {
   "cell_type": "code",
   "execution_count": 18,
   "id": "5b37b407",
   "metadata": {},
   "outputs": [],
   "source": [
    "response = requests.get(\"http://api.openweathermap.org/data/2.5/find?q=London,UK&units=metric&appid=XXXX\")"
   ]
  },
  {
   "cell_type": "code",
   "execution_count": 19,
   "id": "841ed2b2",
   "metadata": {},
   "outputs": [
    {
     "data": {
      "text/html": [
       "<div>\n",
       "<style scoped>\n",
       "    .dataframe tbody tr th:only-of-type {\n",
       "        vertical-align: middle;\n",
       "    }\n",
       "\n",
       "    .dataframe tbody tr th {\n",
       "        vertical-align: top;\n",
       "    }\n",
       "\n",
       "    .dataframe thead th {\n",
       "        text-align: right;\n",
       "    }\n",
       "</style>\n",
       "<table border=\"1\" class=\"dataframe\">\n",
       "  <thead>\n",
       "    <tr style=\"text-align: right;\">\n",
       "      <th></th>\n",
       "      <th>temp</th>\n",
       "      <th>feels_like</th>\n",
       "      <th>temp_min</th>\n",
       "      <th>temp_max</th>\n",
       "      <th>pressure</th>\n",
       "      <th>humidity</th>\n",
       "      <th>wind_speed</th>\n",
       "      <th>wind_deg</th>\n",
       "      <th>clouds_all</th>\n",
       "      <th>weather_id</th>\n",
       "      <th>weather_main</th>\n",
       "      <th>weather_description</th>\n",
       "      <th>weather_icon</th>\n",
       "    </tr>\n",
       "  </thead>\n",
       "  <tbody>\n",
       "    <tr>\n",
       "      <th>0</th>\n",
       "      <td>6.12</td>\n",
       "      <td>4.09</td>\n",
       "      <td>4.2</td>\n",
       "      <td>8.26</td>\n",
       "      <td>1021</td>\n",
       "      <td>62</td>\n",
       "      <td>2.68</td>\n",
       "      <td>85</td>\n",
       "      <td>40</td>\n",
       "      <td>802</td>\n",
       "      <td>Clouds</td>\n",
       "      <td>scattered clouds</td>\n",
       "      <td>03d</td>\n",
       "    </tr>\n",
       "  </tbody>\n",
       "</table>\n",
       "</div>"
      ],
      "text/plain": [
       "   temp  feels_like  temp_min  temp_max  pressure  humidity  wind_speed  \\\n",
       "0  6.12        4.09       4.2      8.26      1021        62        2.68   \n",
       "\n",
       "   wind_deg  clouds_all  weather_id weather_main weather_description  \\\n",
       "0        85          40         802       Clouds    scattered clouds   \n",
       "\n",
       "  weather_icon  \n",
       "0          03d  "
      ]
     },
     "execution_count": 19,
     "metadata": {},
     "output_type": "execute_result"
    }
   ],
   "source": [
    "def clean_current_weather(response):\n",
    "    current = response.text\n",
    "    current_df = pd.read_json(current, orient='records')\n",
    "    flat1 = json_normalize(current_df['list'])\n",
    "    flat1_df = flat1.drop(['id','weather'],axis=1)\n",
    "    weather_df = json_normalize(flat1['weather'][0])\n",
    "    current_weather = pd.concat([flat1_df,weather_df],axis=1)\n",
    "    current_weather = current_weather.drop(['name','dt','rain','snow','coord.lat','coord.lon','sys.country'], axis=1)\n",
    "    current_weather = current_weather.rename(columns={\n",
    "    'main.temp':'temp',\n",
    "    'main.feels_like':'feels_like',\n",
    "    'main.temp_min':'temp_min',\n",
    "    'main.temp_max':'temp_max',\n",
    "    'main.pressure':'pressure',\n",
    "    'main.humidity':'humidity',\n",
    "    'wind.speed':'wind_speed',\n",
    "    'wind.deg':'wind_deg',\n",
    "    'clouds.all':'clouds_all',\n",
    "    'id':'weather_id',\n",
    "    'main':'weather_main',\n",
    "    'description':'weather_description',\n",
    "    'icon':'weather_icon'})\n",
    "    return (current_weather)\n",
    "current_weather = clean_current_weather(response)\n",
    "current_weather"
   ]
  },
  {
   "cell_type": "code",
   "execution_count": 10,
   "id": "c63dd925",
   "metadata": {},
   "outputs": [],
   "source": []
  },
  {
   "cell_type": "code",
   "execution_count": 11,
   "id": "f948bf63",
   "metadata": {},
   "outputs": [
    {
     "ename": "ValueError",
     "evalue": "Mixing dicts with non-Series may lead to ambiguous ordering.",
     "output_type": "error",
     "traceback": [
      "\u001b[0;31m---------------------------------------------------------------------------\u001b[0m",
      "\u001b[0;31mValueError\u001b[0m                                Traceback (most recent call last)",
      "\u001b[0;32m/var/folders/4x/ppplmryx5_d7mfrd5d6968kr0000gn/T/ipykernel_5866/2442340957.py\u001b[0m in \u001b[0;36m<module>\u001b[0;34m\u001b[0m\n\u001b[1;32m     22\u001b[0m     'icon':'weather_icon'})\n\u001b[1;32m     23\u001b[0m     \u001b[0;32mreturn\u001b[0m \u001b[0;34m(\u001b[0m\u001b[0mcurrent_weather\u001b[0m\u001b[0;34m)\u001b[0m\u001b[0;34m\u001b[0m\u001b[0;34m\u001b[0m\u001b[0m\n\u001b[0;32m---> 24\u001b[0;31m \u001b[0mcurrent_weather\u001b[0m \u001b[0;34m=\u001b[0m \u001b[0mclean_current_weather\u001b[0m\u001b[0;34m(\u001b[0m\u001b[0mresponse\u001b[0m\u001b[0;34m)\u001b[0m\u001b[0;34m\u001b[0m\u001b[0;34m\u001b[0m\u001b[0m\n\u001b[0m\u001b[1;32m     25\u001b[0m \u001b[0mcurrent_weather\u001b[0m\u001b[0;34m\u001b[0m\u001b[0;34m\u001b[0m\u001b[0m\n",
      "\u001b[0;32m/var/folders/4x/ppplmryx5_d7mfrd5d6968kr0000gn/T/ipykernel_5866/2442340957.py\u001b[0m in \u001b[0;36mclean_current_weather\u001b[0;34m(response)\u001b[0m\n\u001b[1;32m      1\u001b[0m \u001b[0;32mdef\u001b[0m \u001b[0mclean_current_weather\u001b[0m\u001b[0;34m(\u001b[0m\u001b[0mresponse\u001b[0m\u001b[0;34m)\u001b[0m\u001b[0;34m:\u001b[0m\u001b[0;34m\u001b[0m\u001b[0;34m\u001b[0m\u001b[0m\n\u001b[1;32m      2\u001b[0m     \u001b[0mcurrent\u001b[0m \u001b[0;34m=\u001b[0m \u001b[0mresponse\u001b[0m\u001b[0;34m.\u001b[0m\u001b[0mtext\u001b[0m\u001b[0;34m\u001b[0m\u001b[0;34m\u001b[0m\u001b[0m\n\u001b[0;32m----> 3\u001b[0;31m     \u001b[0mcurrent_df\u001b[0m \u001b[0;34m=\u001b[0m \u001b[0mpd\u001b[0m\u001b[0;34m.\u001b[0m\u001b[0mread_json\u001b[0m\u001b[0;34m(\u001b[0m\u001b[0mcurrent\u001b[0m\u001b[0;34m,\u001b[0m \u001b[0morient\u001b[0m\u001b[0;34m=\u001b[0m\u001b[0;34m'records'\u001b[0m\u001b[0;34m)\u001b[0m\u001b[0;34m\u001b[0m\u001b[0;34m\u001b[0m\u001b[0m\n\u001b[0m\u001b[1;32m      4\u001b[0m     \u001b[0mflat1\u001b[0m \u001b[0;34m=\u001b[0m \u001b[0mjson_normalize\u001b[0m\u001b[0;34m(\u001b[0m\u001b[0mcurrent_df\u001b[0m\u001b[0;34m[\u001b[0m\u001b[0;34m'list'\u001b[0m\u001b[0;34m]\u001b[0m\u001b[0;34m)\u001b[0m\u001b[0;34m\u001b[0m\u001b[0;34m\u001b[0m\u001b[0m\n\u001b[1;32m      5\u001b[0m     \u001b[0mflat1_df\u001b[0m \u001b[0;34m=\u001b[0m \u001b[0mflat1\u001b[0m\u001b[0;34m.\u001b[0m\u001b[0mdrop\u001b[0m\u001b[0;34m(\u001b[0m\u001b[0;34m[\u001b[0m\u001b[0;34m'id'\u001b[0m\u001b[0;34m,\u001b[0m\u001b[0;34m'weather'\u001b[0m\u001b[0;34m]\u001b[0m\u001b[0;34m,\u001b[0m\u001b[0maxis\u001b[0m\u001b[0;34m=\u001b[0m\u001b[0;36m1\u001b[0m\u001b[0;34m)\u001b[0m\u001b[0;34m\u001b[0m\u001b[0;34m\u001b[0m\u001b[0m\n",
      "\u001b[0;32m~/opt/anaconda3/lib/python3.9/site-packages/pandas/util/_decorators.py\u001b[0m in \u001b[0;36mwrapper\u001b[0;34m(*args, **kwargs)\u001b[0m\n\u001b[1;32m    205\u001b[0m                 \u001b[0;32melse\u001b[0m\u001b[0;34m:\u001b[0m\u001b[0;34m\u001b[0m\u001b[0;34m\u001b[0m\u001b[0m\n\u001b[1;32m    206\u001b[0m                     \u001b[0mkwargs\u001b[0m\u001b[0;34m[\u001b[0m\u001b[0mnew_arg_name\u001b[0m\u001b[0;34m]\u001b[0m \u001b[0;34m=\u001b[0m \u001b[0mnew_arg_value\u001b[0m\u001b[0;34m\u001b[0m\u001b[0;34m\u001b[0m\u001b[0m\n\u001b[0;32m--> 207\u001b[0;31m             \u001b[0;32mreturn\u001b[0m \u001b[0mfunc\u001b[0m\u001b[0;34m(\u001b[0m\u001b[0;34m*\u001b[0m\u001b[0margs\u001b[0m\u001b[0;34m,\u001b[0m \u001b[0;34m**\u001b[0m\u001b[0mkwargs\u001b[0m\u001b[0;34m)\u001b[0m\u001b[0;34m\u001b[0m\u001b[0;34m\u001b[0m\u001b[0m\n\u001b[0m\u001b[1;32m    208\u001b[0m \u001b[0;34m\u001b[0m\u001b[0m\n\u001b[1;32m    209\u001b[0m         \u001b[0;32mreturn\u001b[0m \u001b[0mcast\u001b[0m\u001b[0;34m(\u001b[0m\u001b[0mF\u001b[0m\u001b[0;34m,\u001b[0m \u001b[0mwrapper\u001b[0m\u001b[0;34m)\u001b[0m\u001b[0;34m\u001b[0m\u001b[0;34m\u001b[0m\u001b[0m\n",
      "\u001b[0;32m~/opt/anaconda3/lib/python3.9/site-packages/pandas/util/_decorators.py\u001b[0m in \u001b[0;36mwrapper\u001b[0;34m(*args, **kwargs)\u001b[0m\n\u001b[1;32m    309\u001b[0m                     \u001b[0mstacklevel\u001b[0m\u001b[0;34m=\u001b[0m\u001b[0mstacklevel\u001b[0m\u001b[0;34m,\u001b[0m\u001b[0;34m\u001b[0m\u001b[0;34m\u001b[0m\u001b[0m\n\u001b[1;32m    310\u001b[0m                 )\n\u001b[0;32m--> 311\u001b[0;31m             \u001b[0;32mreturn\u001b[0m \u001b[0mfunc\u001b[0m\u001b[0;34m(\u001b[0m\u001b[0;34m*\u001b[0m\u001b[0margs\u001b[0m\u001b[0;34m,\u001b[0m \u001b[0;34m**\u001b[0m\u001b[0mkwargs\u001b[0m\u001b[0;34m)\u001b[0m\u001b[0;34m\u001b[0m\u001b[0;34m\u001b[0m\u001b[0m\n\u001b[0m\u001b[1;32m    312\u001b[0m \u001b[0;34m\u001b[0m\u001b[0m\n\u001b[1;32m    313\u001b[0m         \u001b[0;32mreturn\u001b[0m \u001b[0mwrapper\u001b[0m\u001b[0;34m\u001b[0m\u001b[0;34m\u001b[0m\u001b[0m\n",
      "\u001b[0;32m~/opt/anaconda3/lib/python3.9/site-packages/pandas/io/json/_json.py\u001b[0m in \u001b[0;36mread_json\u001b[0;34m(path_or_buf, orient, typ, dtype, convert_axes, convert_dates, keep_default_dates, numpy, precise_float, date_unit, encoding, encoding_errors, lines, chunksize, compression, nrows, storage_options)\u001b[0m\n\u001b[1;32m    612\u001b[0m \u001b[0;34m\u001b[0m\u001b[0m\n\u001b[1;32m    613\u001b[0m     \u001b[0;32mwith\u001b[0m \u001b[0mjson_reader\u001b[0m\u001b[0;34m:\u001b[0m\u001b[0;34m\u001b[0m\u001b[0;34m\u001b[0m\u001b[0m\n\u001b[0;32m--> 614\u001b[0;31m         \u001b[0;32mreturn\u001b[0m \u001b[0mjson_reader\u001b[0m\u001b[0;34m.\u001b[0m\u001b[0mread\u001b[0m\u001b[0;34m(\u001b[0m\u001b[0;34m)\u001b[0m\u001b[0;34m\u001b[0m\u001b[0;34m\u001b[0m\u001b[0m\n\u001b[0m\u001b[1;32m    615\u001b[0m \u001b[0;34m\u001b[0m\u001b[0m\n\u001b[1;32m    616\u001b[0m \u001b[0;34m\u001b[0m\u001b[0m\n",
      "\u001b[0;32m~/opt/anaconda3/lib/python3.9/site-packages/pandas/io/json/_json.py\u001b[0m in \u001b[0;36mread\u001b[0;34m(self)\u001b[0m\n\u001b[1;32m    746\u001b[0m                 \u001b[0mobj\u001b[0m \u001b[0;34m=\u001b[0m \u001b[0mself\u001b[0m\u001b[0;34m.\u001b[0m\u001b[0m_get_object_parser\u001b[0m\u001b[0;34m(\u001b[0m\u001b[0mself\u001b[0m\u001b[0;34m.\u001b[0m\u001b[0m_combine_lines\u001b[0m\u001b[0;34m(\u001b[0m\u001b[0mdata_lines\u001b[0m\u001b[0;34m)\u001b[0m\u001b[0;34m)\u001b[0m\u001b[0;34m\u001b[0m\u001b[0;34m\u001b[0m\u001b[0m\n\u001b[1;32m    747\u001b[0m         \u001b[0;32melse\u001b[0m\u001b[0;34m:\u001b[0m\u001b[0;34m\u001b[0m\u001b[0;34m\u001b[0m\u001b[0m\n\u001b[0;32m--> 748\u001b[0;31m             \u001b[0mobj\u001b[0m \u001b[0;34m=\u001b[0m \u001b[0mself\u001b[0m\u001b[0;34m.\u001b[0m\u001b[0m_get_object_parser\u001b[0m\u001b[0;34m(\u001b[0m\u001b[0mself\u001b[0m\u001b[0;34m.\u001b[0m\u001b[0mdata\u001b[0m\u001b[0;34m)\u001b[0m\u001b[0;34m\u001b[0m\u001b[0;34m\u001b[0m\u001b[0m\n\u001b[0m\u001b[1;32m    749\u001b[0m         \u001b[0mself\u001b[0m\u001b[0;34m.\u001b[0m\u001b[0mclose\u001b[0m\u001b[0;34m(\u001b[0m\u001b[0;34m)\u001b[0m\u001b[0;34m\u001b[0m\u001b[0;34m\u001b[0m\u001b[0m\n\u001b[1;32m    750\u001b[0m         \u001b[0;32mreturn\u001b[0m \u001b[0mobj\u001b[0m\u001b[0;34m\u001b[0m\u001b[0;34m\u001b[0m\u001b[0m\n",
      "\u001b[0;32m~/opt/anaconda3/lib/python3.9/site-packages/pandas/io/json/_json.py\u001b[0m in \u001b[0;36m_get_object_parser\u001b[0;34m(self, json)\u001b[0m\n\u001b[1;32m    768\u001b[0m         \u001b[0mobj\u001b[0m \u001b[0;34m=\u001b[0m \u001b[0;32mNone\u001b[0m\u001b[0;34m\u001b[0m\u001b[0;34m\u001b[0m\u001b[0m\n\u001b[1;32m    769\u001b[0m         \u001b[0;32mif\u001b[0m \u001b[0mtyp\u001b[0m \u001b[0;34m==\u001b[0m \u001b[0;34m\"frame\"\u001b[0m\u001b[0;34m:\u001b[0m\u001b[0;34m\u001b[0m\u001b[0;34m\u001b[0m\u001b[0m\n\u001b[0;32m--> 770\u001b[0;31m             \u001b[0mobj\u001b[0m \u001b[0;34m=\u001b[0m \u001b[0mFrameParser\u001b[0m\u001b[0;34m(\u001b[0m\u001b[0mjson\u001b[0m\u001b[0;34m,\u001b[0m \u001b[0;34m**\u001b[0m\u001b[0mkwargs\u001b[0m\u001b[0;34m)\u001b[0m\u001b[0;34m.\u001b[0m\u001b[0mparse\u001b[0m\u001b[0;34m(\u001b[0m\u001b[0;34m)\u001b[0m\u001b[0;34m\u001b[0m\u001b[0;34m\u001b[0m\u001b[0m\n\u001b[0m\u001b[1;32m    771\u001b[0m \u001b[0;34m\u001b[0m\u001b[0m\n\u001b[1;32m    772\u001b[0m         \u001b[0;32mif\u001b[0m \u001b[0mtyp\u001b[0m \u001b[0;34m==\u001b[0m \u001b[0;34m\"series\"\u001b[0m \u001b[0;32mor\u001b[0m \u001b[0mobj\u001b[0m \u001b[0;32mis\u001b[0m \u001b[0;32mNone\u001b[0m\u001b[0;34m:\u001b[0m\u001b[0;34m\u001b[0m\u001b[0;34m\u001b[0m\u001b[0m\n",
      "\u001b[0;32m~/opt/anaconda3/lib/python3.9/site-packages/pandas/io/json/_json.py\u001b[0m in \u001b[0;36mparse\u001b[0;34m(self)\u001b[0m\n\u001b[1;32m    883\u001b[0m \u001b[0;34m\u001b[0m\u001b[0m\n\u001b[1;32m    884\u001b[0m         \u001b[0;32melse\u001b[0m\u001b[0;34m:\u001b[0m\u001b[0;34m\u001b[0m\u001b[0;34m\u001b[0m\u001b[0m\n\u001b[0;32m--> 885\u001b[0;31m             \u001b[0mself\u001b[0m\u001b[0;34m.\u001b[0m\u001b[0m_parse_no_numpy\u001b[0m\u001b[0;34m(\u001b[0m\u001b[0;34m)\u001b[0m\u001b[0;34m\u001b[0m\u001b[0;34m\u001b[0m\u001b[0m\n\u001b[0m\u001b[1;32m    886\u001b[0m \u001b[0;34m\u001b[0m\u001b[0m\n\u001b[1;32m    887\u001b[0m         \u001b[0;32mif\u001b[0m \u001b[0mself\u001b[0m\u001b[0;34m.\u001b[0m\u001b[0mobj\u001b[0m \u001b[0;32mis\u001b[0m \u001b[0;32mNone\u001b[0m\u001b[0;34m:\u001b[0m\u001b[0;34m\u001b[0m\u001b[0;34m\u001b[0m\u001b[0m\n",
      "\u001b[0;32m~/opt/anaconda3/lib/python3.9/site-packages/pandas/io/json/_json.py\u001b[0m in \u001b[0;36m_parse_no_numpy\u001b[0;34m(self)\u001b[0m\n\u001b[1;32m   1156\u001b[0m             \u001b[0mself\u001b[0m\u001b[0;34m.\u001b[0m\u001b[0mobj\u001b[0m \u001b[0;34m=\u001b[0m \u001b[0mparse_table_schema\u001b[0m\u001b[0;34m(\u001b[0m\u001b[0mjson\u001b[0m\u001b[0;34m,\u001b[0m \u001b[0mprecise_float\u001b[0m\u001b[0;34m=\u001b[0m\u001b[0mself\u001b[0m\u001b[0;34m.\u001b[0m\u001b[0mprecise_float\u001b[0m\u001b[0;34m)\u001b[0m\u001b[0;34m\u001b[0m\u001b[0;34m\u001b[0m\u001b[0m\n\u001b[1;32m   1157\u001b[0m         \u001b[0;32melse\u001b[0m\u001b[0;34m:\u001b[0m\u001b[0;34m\u001b[0m\u001b[0;34m\u001b[0m\u001b[0m\n\u001b[0;32m-> 1158\u001b[0;31m             self.obj = DataFrame(\n\u001b[0m\u001b[1;32m   1159\u001b[0m                 \u001b[0mloads\u001b[0m\u001b[0;34m(\u001b[0m\u001b[0mjson\u001b[0m\u001b[0;34m,\u001b[0m \u001b[0mprecise_float\u001b[0m\u001b[0;34m=\u001b[0m\u001b[0mself\u001b[0m\u001b[0;34m.\u001b[0m\u001b[0mprecise_float\u001b[0m\u001b[0;34m)\u001b[0m\u001b[0;34m,\u001b[0m \u001b[0mdtype\u001b[0m\u001b[0;34m=\u001b[0m\u001b[0;32mNone\u001b[0m\u001b[0;34m\u001b[0m\u001b[0;34m\u001b[0m\u001b[0m\n\u001b[1;32m   1160\u001b[0m             )\n",
      "\u001b[0;32m~/opt/anaconda3/lib/python3.9/site-packages/pandas/core/frame.py\u001b[0m in \u001b[0;36m__init__\u001b[0;34m(self, data, index, columns, dtype, copy)\u001b[0m\n\u001b[1;32m    612\u001b[0m         \u001b[0;32melif\u001b[0m \u001b[0misinstance\u001b[0m\u001b[0;34m(\u001b[0m\u001b[0mdata\u001b[0m\u001b[0;34m,\u001b[0m \u001b[0mdict\u001b[0m\u001b[0;34m)\u001b[0m\u001b[0;34m:\u001b[0m\u001b[0;34m\u001b[0m\u001b[0;34m\u001b[0m\u001b[0m\n\u001b[1;32m    613\u001b[0m             \u001b[0;31m# GH#38939 de facto copy defaults to False only in non-dict cases\u001b[0m\u001b[0;34m\u001b[0m\u001b[0;34m\u001b[0m\u001b[0m\n\u001b[0;32m--> 614\u001b[0;31m             \u001b[0mmgr\u001b[0m \u001b[0;34m=\u001b[0m \u001b[0mdict_to_mgr\u001b[0m\u001b[0;34m(\u001b[0m\u001b[0mdata\u001b[0m\u001b[0;34m,\u001b[0m \u001b[0mindex\u001b[0m\u001b[0;34m,\u001b[0m \u001b[0mcolumns\u001b[0m\u001b[0;34m,\u001b[0m \u001b[0mdtype\u001b[0m\u001b[0;34m=\u001b[0m\u001b[0mdtype\u001b[0m\u001b[0;34m,\u001b[0m \u001b[0mcopy\u001b[0m\u001b[0;34m=\u001b[0m\u001b[0mcopy\u001b[0m\u001b[0;34m,\u001b[0m \u001b[0mtyp\u001b[0m\u001b[0;34m=\u001b[0m\u001b[0mmanager\u001b[0m\u001b[0;34m)\u001b[0m\u001b[0;34m\u001b[0m\u001b[0;34m\u001b[0m\u001b[0m\n\u001b[0m\u001b[1;32m    615\u001b[0m         \u001b[0;32melif\u001b[0m \u001b[0misinstance\u001b[0m\u001b[0;34m(\u001b[0m\u001b[0mdata\u001b[0m\u001b[0;34m,\u001b[0m \u001b[0mma\u001b[0m\u001b[0;34m.\u001b[0m\u001b[0mMaskedArray\u001b[0m\u001b[0;34m)\u001b[0m\u001b[0;34m:\u001b[0m\u001b[0;34m\u001b[0m\u001b[0;34m\u001b[0m\u001b[0m\n\u001b[1;32m    616\u001b[0m             \u001b[0;32mimport\u001b[0m \u001b[0mnumpy\u001b[0m\u001b[0;34m.\u001b[0m\u001b[0mma\u001b[0m\u001b[0;34m.\u001b[0m\u001b[0mmrecords\u001b[0m \u001b[0;32mas\u001b[0m \u001b[0mmrecords\u001b[0m\u001b[0;34m\u001b[0m\u001b[0;34m\u001b[0m\u001b[0m\n",
      "\u001b[0;32m~/opt/anaconda3/lib/python3.9/site-packages/pandas/core/internals/construction.py\u001b[0m in \u001b[0;36mdict_to_mgr\u001b[0;34m(data, index, columns, dtype, typ, copy)\u001b[0m\n\u001b[1;32m    462\u001b[0m         \u001b[0;31m# TODO: can we get rid of the dt64tz special case above?\u001b[0m\u001b[0;34m\u001b[0m\u001b[0;34m\u001b[0m\u001b[0m\n\u001b[1;32m    463\u001b[0m \u001b[0;34m\u001b[0m\u001b[0m\n\u001b[0;32m--> 464\u001b[0;31m     return arrays_to_mgr(\n\u001b[0m\u001b[1;32m    465\u001b[0m         \u001b[0marrays\u001b[0m\u001b[0;34m,\u001b[0m \u001b[0mdata_names\u001b[0m\u001b[0;34m,\u001b[0m \u001b[0mindex\u001b[0m\u001b[0;34m,\u001b[0m \u001b[0mcolumns\u001b[0m\u001b[0;34m,\u001b[0m \u001b[0mdtype\u001b[0m\u001b[0;34m=\u001b[0m\u001b[0mdtype\u001b[0m\u001b[0;34m,\u001b[0m \u001b[0mtyp\u001b[0m\u001b[0;34m=\u001b[0m\u001b[0mtyp\u001b[0m\u001b[0;34m,\u001b[0m \u001b[0mconsolidate\u001b[0m\u001b[0;34m=\u001b[0m\u001b[0mcopy\u001b[0m\u001b[0;34m\u001b[0m\u001b[0;34m\u001b[0m\u001b[0m\n\u001b[1;32m    466\u001b[0m     )\n",
      "\u001b[0;32m~/opt/anaconda3/lib/python3.9/site-packages/pandas/core/internals/construction.py\u001b[0m in \u001b[0;36marrays_to_mgr\u001b[0;34m(arrays, arr_names, index, columns, dtype, verify_integrity, typ, consolidate)\u001b[0m\n\u001b[1;32m    117\u001b[0m         \u001b[0;31m# figure out the index, if necessary\u001b[0m\u001b[0;34m\u001b[0m\u001b[0;34m\u001b[0m\u001b[0m\n\u001b[1;32m    118\u001b[0m         \u001b[0;32mif\u001b[0m \u001b[0mindex\u001b[0m \u001b[0;32mis\u001b[0m \u001b[0;32mNone\u001b[0m\u001b[0;34m:\u001b[0m\u001b[0;34m\u001b[0m\u001b[0;34m\u001b[0m\u001b[0m\n\u001b[0;32m--> 119\u001b[0;31m             \u001b[0mindex\u001b[0m \u001b[0;34m=\u001b[0m \u001b[0m_extract_index\u001b[0m\u001b[0;34m(\u001b[0m\u001b[0marrays\u001b[0m\u001b[0;34m)\u001b[0m\u001b[0;34m\u001b[0m\u001b[0;34m\u001b[0m\u001b[0m\n\u001b[0m\u001b[1;32m    120\u001b[0m         \u001b[0;32melse\u001b[0m\u001b[0;34m:\u001b[0m\u001b[0;34m\u001b[0m\u001b[0;34m\u001b[0m\u001b[0m\n\u001b[1;32m    121\u001b[0m             \u001b[0mindex\u001b[0m \u001b[0;34m=\u001b[0m \u001b[0mensure_index\u001b[0m\u001b[0;34m(\u001b[0m\u001b[0mindex\u001b[0m\u001b[0;34m)\u001b[0m\u001b[0;34m\u001b[0m\u001b[0;34m\u001b[0m\u001b[0m\n",
      "\u001b[0;32m~/opt/anaconda3/lib/python3.9/site-packages/pandas/core/internals/construction.py\u001b[0m in \u001b[0;36m_extract_index\u001b[0;34m(data)\u001b[0m\n\u001b[1;32m    636\u001b[0m \u001b[0;34m\u001b[0m\u001b[0m\n\u001b[1;32m    637\u001b[0m             \u001b[0;32mif\u001b[0m \u001b[0mhave_dicts\u001b[0m\u001b[0;34m:\u001b[0m\u001b[0;34m\u001b[0m\u001b[0;34m\u001b[0m\u001b[0m\n\u001b[0;32m--> 638\u001b[0;31m                 raise ValueError(\n\u001b[0m\u001b[1;32m    639\u001b[0m                     \u001b[0;34m\"Mixing dicts with non-Series may lead to ambiguous ordering.\"\u001b[0m\u001b[0;34m\u001b[0m\u001b[0;34m\u001b[0m\u001b[0m\n\u001b[1;32m    640\u001b[0m                 )\n",
      "\u001b[0;31mValueError\u001b[0m: Mixing dicts with non-Series may lead to ambiguous ordering."
     ]
    }
   ],
   "source": [
    "def clean_current_weather(response):\n",
    "    current = response.text\n",
    "    current_df = pd.read_json(current, orient='records')\n",
    "    flat1 = json_normalize(current_df['list'])\n",
    "    flat1_df = flat1.drop(['id','weather'],axis=1)\n",
    "    weather_df = json_normalize(flat1['weather'][0])\n",
    "    current_weather = pd.concat([flat1_df,weather_df],axis=1)\n",
    "    current_weather = current_weather.drop(['name','dt','rain','snow','coord.lat','coord.lon','sys.country'], axis=1)\n",
    "    current_weather = current_weather.rename(columns={\n",
    "    'main.temp':'temp',\n",
    "    'main.feels_like':'feels_like',\n",
    "    'main.temp_min':'temp_min',\n",
    "    'main.temp_max':'temp_max',\n",
    "    'main.pressure':'pressure',\n",
    "    'main.humidity':'humidity',\n",
    "    'wind.speed':'wind_speed',\n",
    "    'wind.deg':'wind_deg',\n",
    "    'clouds.all':'clouds_all',\n",
    "    'id':'weather_id',\n",
    "    'main':'weather_main',\n",
    "    'description':'weather_description',\n",
    "    'icon':'weather_icon'})\n",
    "    return (current_weather)\n",
    "current_weather = clean_current_weather(response)\n",
    "current_weather"
   ]
  },
  {
   "cell_type": "code",
   "execution_count": 12,
   "id": "7effccb3",
   "metadata": {},
   "outputs": [],
   "source": [
    "current = response.text"
   ]
  },
  {
   "cell_type": "code",
   "execution_count": 15,
   "id": "0265b1cf",
   "metadata": {},
   "outputs": [
    {
     "data": {
      "text/plain": [
       "'{\"cod\":\"200\",\"message\":0,\"cnt\":40,\"list\":[{\"dt\":1646676000,\"main\":{\"temp\":5.62,\"feels_like\":2.08,\"temp_min\":4.68,\"temp_max\":5.62,\"pressure\":1021,\"sea_level\":1021,\"grnd_level\":1018,\"humidity\":59,\"temp_kf\":0.94},\"weather\":[{\"id\":802,\"main\":\"Clouds\",\"description\":\"scattered clouds\",\"icon\":\"03n\"}],\"clouds\":{\"all\":28},\"wind\":{\"speed\":5.08,\"deg\":96,\"gust\":10.77},\"visibility\":10000,\"pop\":0,\"sys\":{\"pod\":\"n\"},\"dt_txt\":\"2022-03-07 18:00:00\"},{\"dt\":1646686800,\"main\":{\"temp\":4.8,\"feels_like\":1.13,\"temp_min\":4.16,\"temp_max\":4.8,\"pressure\":1020,\"sea_level\":1020,\"grnd_level\":1017,\"humidity\":55,\"temp_kf\":0.64},\"weather\":[{\"id\":801,\"main\":\"Clouds\",\"description\":\"few clouds\",\"icon\":\"02n\"}],\"clouds\":{\"all\":14},\"wind\":{\"speed\":4.9,\"deg\":110,\"gust\":11.32},\"visibility\":10000,\"pop\":0,\"sys\":{\"pod\":\"n\"},\"dt_txt\":\"2022-03-07 21:00:00\"},{\"dt\":1646697600,\"main\":{\"temp\":3.19,\"feels_like\":-0.71,\"temp_min\":3.19,\"temp_max\":3.19,\"pressure\":1018,\"sea_level\":1018,\"grnd_level\":1015,\"humidity\":60,\"temp_kf\":0},\"weather\":[{\"id\":800,\"main\":\"Clear\",\"description\":\"clear sky\",\"icon\":\"01n\"}],\"clouds\":{\"all\":1},\"wind\":{\"speed\":4.6,\"deg\":122,\"gust\":11.91},\"visibility\":10000,\"pop\":0,\"sys\":{\"pod\":\"n\"},\"dt_txt\":\"2022-03-08 00:00:00\"},{\"dt\":1646708400,\"main\":{\"temp\":2.28,\"feels_like\":-1.87,\"temp_min\":2.28,\"temp_max\":2.28,\"pressure\":1017,\"sea_level\":1017,\"grnd_level\":1013,\"humidity\":61,\"temp_kf\":0},\"weather\":[{\"id\":800,\"main\":\"Clear\",\"description\":\"clear sky\",\"icon\":\"01n\"}],\"clouds\":{\"all\":0},\"wind\":{\"speed\":4.65,\"deg\":124,\"gust\":12.08},\"visibility\":10000,\"pop\":0,\"sys\":{\"pod\":\"n\"},\"dt_txt\":\"2022-03-08 03:00:00\"},{\"dt\":1646719200,\"main\":{\"temp\":1.81,\"feels_like\":-2.39,\"temp_min\":1.81,\"temp_max\":1.81,\"pressure\":1016,\"sea_level\":1016,\"grnd_level\":1012,\"humidity\":68,\"temp_kf\":0},\"weather\":[{\"id\":800,\"main\":\"Clear\",\"description\":\"clear sky\",\"icon\":\"01n\"}],\"clouds\":{\"all\":0},\"wind\":{\"speed\":4.53,\"deg\":126,\"gust\":12.68},\"visibility\":10000,\"pop\":0,\"sys\":{\"pod\":\"n\"},\"dt_txt\":\"2022-03-08 06:00:00\"},{\"dt\":1646730000,\"main\":{\"temp\":4.63,\"feels_like\":0.96,\"temp_min\":4.63,\"temp_max\":4.63,\"pressure\":1016,\"sea_level\":1016,\"grnd_level\":1012,\"humidity\":60,\"temp_kf\":0},\"weather\":[{\"id\":800,\"main\":\"Clear\",\"description\":\"clear sky\",\"icon\":\"01d\"}],\"clouds\":{\"all\":0},\"wind\":{\"speed\":4.83,\"deg\":132,\"gust\":11.05},\"visibility\":10000,\"pop\":0,\"sys\":{\"pod\":\"d\"},\"dt_txt\":\"2022-03-08 09:00:00\"},{\"dt\":1646740800,\"main\":{\"temp\":8.74,\"feels_like\":5.85,\"temp_min\":8.74,\"temp_max\":8.74,\"pressure\":1015,\"sea_level\":1015,\"grnd_level\":1012,\"humidity\":48,\"temp_kf\":0},\"weather\":[{\"id\":800,\"main\":\"Clear\",\"description\":\"clear sky\",\"icon\":\"01d\"}],\"clouds\":{\"all\":0},\"wind\":{\"speed\":5.41,\"deg\":145,\"gust\":8.16},\"visibility\":10000,\"pop\":0,\"sys\":{\"pod\":\"d\"},\"dt_txt\":\"2022-03-08 12:00:00\"},{\"dt\":1646751600,\"main\":{\"temp\":9.77,\"feels_like\":7.01,\"temp_min\":9.77,\"temp_max\":9.77,\"pressure\":1014,\"sea_level\":1014,\"grnd_level\":1011,\"humidity\":49,\"temp_kf\":0},\"weather\":[{\"id\":801,\"main\":\"Clouds\",\"description\":\"few clouds\",\"icon\":\"02d\"}],\"clouds\":{\"all\":12},\"wind\":{\"speed\":5.81,\"deg\":151,\"gust\":9.54},\"visibility\":10000,\"pop\":0,\"sys\":{\"pod\":\"d\"},\"dt_txt\":\"2022-03-08 15:00:00\"},{\"dt\":1646762400,\"main\":{\"temp\":8.47,\"feels_like\":5.82,\"temp_min\":8.47,\"temp_max\":8.47,\"pressure\":1015,\"sea_level\":1015,\"grnd_level\":1011,\"humidity\":63,\"temp_kf\":0},\"weather\":[{\"id\":801,\"main\":\"Clouds\",\"description\":\"few clouds\",\"icon\":\"02n\"}],\"clouds\":{\"all\":13},\"wind\":{\"speed\":4.66,\"deg\":154,\"gust\":12.59},\"visibility\":10000,\"pop\":0,\"sys\":{\"pod\":\"n\"},\"dt_txt\":\"2022-03-08 18:00:00\"},{\"dt\":1646773200,\"main\":{\"temp\":8.06,\"feels_like\":5.83,\"temp_min\":8.06,\"temp_max\":8.06,\"pressure\":1016,\"sea_level\":1016,\"grnd_level\":1013,\"humidity\":82,\"temp_kf\":0},\"weather\":[{\"id\":804,\"main\":\"Clouds\",\"description\":\"overcast clouds\",\"icon\":\"04n\"}],\"clouds\":{\"all\":100},\"wind\":{\"speed\":3.59,\"deg\":167,\"gust\":10.57},\"visibility\":10000,\"pop\":0,\"sys\":{\"pod\":\"n\"},\"dt_txt\":\"2022-03-08 21:00:00\"},{\"dt\":1646784000,\"main\":{\"temp\":7.23,\"feels_like\":5.09,\"temp_min\":7.23,\"temp_max\":7.23,\"pressure\":1017,\"sea_level\":1017,\"grnd_level\":1014,\"humidity\":92,\"temp_kf\":0},\"weather\":[{\"id\":803,\"main\":\"Clouds\",\"description\":\"broken clouds\",\"icon\":\"04n\"}],\"clouds\":{\"all\":60},\"wind\":{\"speed\":3.14,\"deg\":181,\"gust\":9.25},\"visibility\":10000,\"pop\":0,\"sys\":{\"pod\":\"n\"},\"dt_txt\":\"2022-03-09 00:00:00\"},{\"dt\":1646794800,\"main\":{\"temp\":6.34,\"feels_like\":4.36,\"temp_min\":6.34,\"temp_max\":6.34,\"pressure\":1017,\"sea_level\":1017,\"grnd_level\":1014,\"humidity\":96,\"temp_kf\":0},\"weather\":[{\"id\":803,\"main\":\"Clouds\",\"description\":\"broken clouds\",\"icon\":\"04n\"}],\"clouds\":{\"all\":54},\"wind\":{\"speed\":2.66,\"deg\":171,\"gust\":9.2},\"visibility\":10000,\"pop\":0,\"sys\":{\"pod\":\"n\"},\"dt_txt\":\"2022-03-09 03:00:00\"},{\"dt\":1646805600,\"main\":{\"temp\":6.49,\"feels_like\":3.87,\"temp_min\":6.49,\"temp_max\":6.49,\"pressure\":1018,\"sea_level\":1018,\"grnd_level\":1014,\"humidity\":96,\"temp_kf\":0},\"weather\":[{\"id\":803,\"main\":\"Clouds\",\"description\":\"broken clouds\",\"icon\":\"04n\"}],\"clouds\":{\"all\":65},\"wind\":{\"speed\":3.68,\"deg\":179,\"gust\":11.61},\"visibility\":10000,\"pop\":0,\"sys\":{\"pod\":\"n\"},\"dt_txt\":\"2022-03-09 06:00:00\"},{\"dt\":1646816400,\"main\":{\"temp\":8.79,\"feels_like\":6.17,\"temp_min\":8.79,\"temp_max\":8.79,\"pressure\":1018,\"sea_level\":1018,\"grnd_level\":1015,\"humidity\":83,\"temp_kf\":0},\"weather\":[{\"id\":804,\"main\":\"Clouds\",\"description\":\"overcast clouds\",\"icon\":\"04d\"}],\"clouds\":{\"all\":90},\"wind\":{\"speed\":4.78,\"deg\":172,\"gust\":11.64},\"visibility\":10000,\"pop\":0,\"sys\":{\"pod\":\"d\"},\"dt_txt\":\"2022-03-09 09:00:00\"},{\"dt\":1646827200,\"main\":{\"temp\":11.6,\"feels_like\":10.38,\"temp_min\":11.6,\"temp_max\":11.6,\"pressure\":1018,\"sea_level\":1018,\"grnd_level\":1015,\"humidity\":60,\"temp_kf\":0},\"weather\":[{\"id\":804,\"main\":\"Clouds\",\"description\":\"overcast clouds\",\"icon\":\"04d\"}],\"clouds\":{\"all\":94},\"wind\":{\"speed\":6.54,\"deg\":188,\"gust\":12.07},\"visibility\":10000,\"pop\":0,\"sys\":{\"pod\":\"d\"},\"dt_txt\":\"2022-03-09 12:00:00\"},{\"dt\":1646838000,\"main\":{\"temp\":11.56,\"feels_like\":10.44,\"temp_min\":11.56,\"temp_max\":11.56,\"pressure\":1017,\"sea_level\":1017,\"grnd_level\":1014,\"humidity\":64,\"temp_kf\":0},\"weather\":[{\"id\":804,\"main\":\"Clouds\",\"description\":\"overcast clouds\",\"icon\":\"04d\"}],\"clouds\":{\"all\":100},\"wind\":{\"speed\":6.47,\"deg\":183,\"gust\":12.44},\"visibility\":10000,\"pop\":0,\"sys\":{\"pod\":\"d\"},\"dt_txt\":\"2022-03-09 15:00:00\"},{\"dt\":1646848800,\"main\":{\"temp\":10.6,\"feels_like\":9.44,\"temp_min\":10.6,\"temp_max\":10.6,\"pressure\":1017,\"sea_level\":1017,\"grnd_level\":1014,\"humidity\":66,\"temp_kf\":0},\"weather\":[{\"id\":804,\"main\":\"Clouds\",\"description\":\"overcast clouds\",\"icon\":\"04n\"}],\"clouds\":{\"all\":100},\"wind\":{\"speed\":6.07,\"deg\":179,\"gust\":13.46},\"visibility\":10000,\"pop\":0,\"sys\":{\"pod\":\"n\"},\"dt_txt\":\"2022-03-09 18:00:00\"},{\"dt\":1646859600,\"main\":{\"temp\":11.18,\"feels_like\":10.16,\"temp_min\":11.18,\"temp_max\":11.18,\"pressure\":1017,\"sea_level\":1017,\"grnd_level\":1014,\"humidity\":69,\"temp_kf\":0},\"weather\":[{\"id\":804,\"main\":\"Clouds\",\"description\":\"overcast clouds\",\"icon\":\"04n\"}],\"clouds\":{\"all\":100},\"wind\":{\"speed\":6.84,\"deg\":189,\"gust\":14.41},\"visibility\":10000,\"pop\":0.08,\"sys\":{\"pod\":\"n\"},\"dt_txt\":\"2022-03-09 21:00:00\"},{\"dt\":1646870400,\"main\":{\"temp\":10.3,\"feels_like\":9.42,\"temp_min\":10.3,\"temp_max\":10.3,\"pressure\":1017,\"sea_level\":1017,\"grnd_level\":1014,\"humidity\":78,\"temp_kf\":0},\"weather\":[{\"id\":500,\"main\":\"Rain\",\"description\":\"light rain\",\"icon\":\"10n\"}],\"clouds\":{\"all\":100},\"wind\":{\"speed\":6.46,\"deg\":191,\"gust\":14.47},\"visibility\":10000,\"pop\":0.38,\"rain\":{\"3h\":0.19},\"sys\":{\"pod\":\"n\"},\"dt_txt\":\"2022-03-10 00:00:00\"},{\"dt\":1646881200,\"main\":{\"temp\":10.07,\"feels_like\":9.22,\"temp_min\":10.07,\"temp_max\":10.07,\"pressure\":1017,\"sea_level\":1017,\"grnd_level\":1014,\"humidity\":80,\"temp_kf\":0},\"weather\":[{\"id\":500,\"main\":\"Rain\",\"description\":\"light rain\",\"icon\":\"10n\"}],\"clouds\":{\"all\":100},\"wind\":{\"speed\":5.54,\"deg\":196,\"gust\":13.09},\"visibility\":10000,\"pop\":0.75,\"rain\":{\"3h\":0.86},\"sys\":{\"pod\":\"n\"},\"dt_txt\":\"2022-03-10 03:00:00\"},{\"dt\":1646892000,\"main\":{\"temp\":9.91,\"feels_like\":7.53,\"temp_min\":9.91,\"temp_max\":9.91,\"pressure\":1017,\"sea_level\":1017,\"grnd_level\":1014,\"humidity\":85,\"temp_kf\":0},\"weather\":[{\"id\":500,\"main\":\"Rain\",\"description\":\"light rain\",\"icon\":\"10n\"}],\"clouds\":{\"all\":100},\"wind\":{\"speed\":4.85,\"deg\":191,\"gust\":11.82},\"visibility\":10000,\"pop\":0.75,\"rain\":{\"3h\":0.28},\"sys\":{\"pod\":\"n\"},\"dt_txt\":\"2022-03-10 06:00:00\"},{\"dt\":1646902800,\"main\":{\"temp\":10.39,\"feels_like\":9.73,\"temp_min\":10.39,\"temp_max\":10.39,\"pressure\":1018,\"sea_level\":1018,\"grnd_level\":1015,\"humidity\":86,\"temp_kf\":0},\"weather\":[{\"id\":804,\"main\":\"Clouds\",\"description\":\"overcast clouds\",\"icon\":\"04d\"}],\"clouds\":{\"all\":99},\"wind\":{\"speed\":4.75,\"deg\":202,\"gust\":10.85},\"visibility\":10000,\"pop\":0,\"sys\":{\"pod\":\"d\"},\"dt_txt\":\"2022-03-10 09:00:00\"},{\"dt\":1646913600,\"main\":{\"temp\":12.13,\"feels_like\":11.1,\"temp_min\":12.13,\"temp_max\":12.13,\"pressure\":1018,\"sea_level\":1018,\"grnd_level\":1015,\"humidity\":65,\"temp_kf\":0},\"weather\":[{\"id\":804,\"main\":\"Clouds\",\"description\":\"overcast clouds\",\"icon\":\"04d\"}],\"clouds\":{\"all\":94},\"wind\":{\"speed\":5.33,\"deg\":210,\"gust\":9.33},\"visibility\":10000,\"pop\":0,\"sys\":{\"pod\":\"d\"},\"dt_txt\":\"2022-03-10 12:00:00\"},{\"dt\":1646924400,\"main\":{\"temp\":13.35,\"feels_like\":12.26,\"temp_min\":13.35,\"temp_max\":13.35,\"pressure\":1017,\"sea_level\":1017,\"grnd_level\":1014,\"humidity\":58,\"temp_kf\":0},\"weather\":[{\"id\":804,\"main\":\"Clouds\",\"description\":\"overcast clouds\",\"icon\":\"04d\"}],\"clouds\":{\"all\":88},\"wind\":{\"speed\":5.61,\"deg\":204,\"gust\":10.45},\"visibility\":10000,\"pop\":0,\"sys\":{\"pod\":\"d\"},\"dt_txt\":\"2022-03-10 15:00:00\"},{\"dt\":1646935200,\"main\":{\"temp\":11.74,\"feels_like\":11.14,\"temp_min\":11.74,\"temp_max\":11.74,\"pressure\":1017,\"sea_level\":1017,\"grnd_level\":1013,\"humidity\":83,\"temp_kf\":0},\"weather\":[{\"id\":500,\"main\":\"Rain\",\"description\":\"light rain\",\"icon\":\"10n\"}],\"clouds\":{\"all\":89},\"wind\":{\"speed\":5.03,\"deg\":194,\"gust\":11.86},\"visibility\":10000,\"pop\":0.2,\"rain\":{\"3h\":0.15},\"sys\":{\"pod\":\"n\"},\"dt_txt\":\"2022-03-10 18:00:00\"},{\"dt\":1646946000,\"main\":{\"temp\":11.62,\"feels_like\":10.8,\"temp_min\":11.62,\"temp_max\":11.62,\"pressure\":1016,\"sea_level\":1016,\"grnd_level\":1013,\"humidity\":75,\"temp_kf\":0},\"weather\":[{\"id\":500,\"main\":\"Rain\",\"description\":\"light rain\",\"icon\":\"10n\"}],\"clouds\":{\"all\":76},\"wind\":{\"speed\":4.44,\"deg\":197,\"gust\":12.23},\"visibility\":10000,\"pop\":0.32,\"rain\":{\"3h\":0.19},\"sys\":{\"pod\":\"n\"},\"dt_txt\":\"2022-03-10 21:00:00\"},{\"dt\":1646956800,\"main\":{\"temp\":10.45,\"feels_like\":9.77,\"temp_min\":10.45,\"temp_max\":10.45,\"pressure\":1014,\"sea_level\":1014,\"grnd_level\":1011,\"humidity\":85,\"temp_kf\":0},\"weather\":[{\"id\":500,\"main\":\"Rain\",\"description\":\"light rain\",\"icon\":\"10n\"}],\"clouds\":{\"all\":74},\"wind\":{\"speed\":4.53,\"deg\":171,\"gust\":13.84},\"visibility\":10000,\"pop\":0.39,\"rain\":{\"3h\":0.12},\"sys\":{\"pod\":\"n\"},\"dt_txt\":\"2022-03-11 00:00:00\"},{\"dt\":1646967600,\"main\":{\"temp\":9.85,\"feels_like\":7.56,\"temp_min\":9.85,\"temp_max\":9.85,\"pressure\":1012,\"sea_level\":1012,\"grnd_level\":1009,\"humidity\":83,\"temp_kf\":0},\"weather\":[{\"id\":500,\"main\":\"Rain\",\"description\":\"light rain\",\"icon\":\"10n\"}],\"clouds\":{\"all\":57},\"wind\":{\"speed\":4.6,\"deg\":170,\"gust\":14.01},\"visibility\":10000,\"pop\":0.2,\"rain\":{\"3h\":0.12},\"sys\":{\"pod\":\"n\"},\"dt_txt\":\"2022-03-11 03:00:00\"},{\"dt\":1646978400,\"main\":{\"temp\":8.88,\"feels_like\":6.39,\"temp_min\":8.88,\"temp_max\":8.88,\"pressure\":1011,\"sea_level\":1011,\"grnd_level\":1008,\"humidity\":85,\"temp_kf\":0},\"weather\":[{\"id\":802,\"main\":\"Clouds\",\"description\":\"scattered clouds\",\"icon\":\"03n\"}],\"clouds\":{\"all\":38},\"wind\":{\"speed\":4.51,\"deg\":166,\"gust\":12.53},\"visibility\":10000,\"pop\":0,\"sys\":{\"pod\":\"n\"},\"dt_txt\":\"2022-03-11 06:00:00\"},{\"dt\":1646989200,\"main\":{\"temp\":10.74,\"feels_like\":9.85,\"temp_min\":10.74,\"temp_max\":10.74,\"pressure\":1010,\"sea_level\":1010,\"grnd_level\":1006,\"humidity\":76,\"temp_kf\":0},\"weather\":[{\"id\":800,\"main\":\"Clear\",\"description\":\"clear sky\",\"icon\":\"01d\"}],\"clouds\":{\"all\":10},\"wind\":{\"speed\":4.7,\"deg\":168,\"gust\":10.8},\"visibility\":10000,\"pop\":0,\"sys\":{\"pod\":\"d\"},\"dt_txt\":\"2022-03-11 09:00:00\"},{\"dt\":1647000000,\"main\":{\"temp\":12.97,\"feels_like\":12.05,\"temp_min\":12.97,\"temp_max\":12.97,\"pressure\":1008,\"sea_level\":1008,\"grnd_level\":1005,\"humidity\":66,\"temp_kf\":0},\"weather\":[{\"id\":802,\"main\":\"Clouds\",\"description\":\"scattered clouds\",\"icon\":\"03d\"}],\"clouds\":{\"all\":50},\"wind\":{\"speed\":6.31,\"deg\":181,\"gust\":10.74},\"visibility\":10000,\"pop\":0.04,\"sys\":{\"pod\":\"d\"},\"dt_txt\":\"2022-03-11 12:00:00\"},{\"dt\":1647010800,\"main\":{\"temp\":9.93,\"feels_like\":7.28,\"temp_min\":9.93,\"temp_max\":9.93,\"pressure\":1007,\"sea_level\":1007,\"grnd_level\":1004,\"humidity\":89,\"temp_kf\":0},\"weather\":[{\"id\":500,\"main\":\"Rain\",\"description\":\"light rain\",\"icon\":\"10d\"}],\"clouds\":{\"all\":100},\"wind\":{\"speed\":5.63,\"deg\":180,\"gust\":11.2},\"visibility\":10000,\"pop\":1,\"rain\":{\"3h\":2.64},\"sys\":{\"pod\":\"d\"},\"dt_txt\":\"2022-03-11 15:00:00\"},{\"dt\":1647021600,\"main\":{\"temp\":9.65,\"feels_like\":7.32,\"temp_min\":9.65,\"temp_max\":9.65,\"pressure\":1008,\"sea_level\":1008,\"grnd_level\":1005,\"humidity\":84,\"temp_kf\":0},\"weather\":[{\"id\":500,\"main\":\"Rain\",\"description\":\"light rain\",\"icon\":\"10n\"}],\"clouds\":{\"all\":100},\"wind\":{\"speed\":4.58,\"deg\":207,\"gust\":10.54},\"visibility\":10000,\"pop\":1,\"rain\":{\"3h\":0.29},\"sys\":{\"pod\":\"n\"},\"dt_txt\":\"2022-03-11 18:00:00\"},{\"dt\":1647032400,\"main\":{\"temp\":8.19,\"feels_like\":5.81,\"temp_min\":8.19,\"temp_max\":8.19,\"pressure\":1009,\"sea_level\":1009,\"grnd_level\":1006,\"humidity\":88,\"temp_kf\":0},\"weather\":[{\"id\":800,\"main\":\"Clear\",\"description\":\"clear sky\",\"icon\":\"01n\"}],\"clouds\":{\"all\":3},\"wind\":{\"speed\":3.93,\"deg\":190,\"gust\":11.3},\"visibility\":10000,\"pop\":0,\"sys\":{\"pod\":\"n\"},\"dt_txt\":\"2022-03-11 21:00:00\"},{\"dt\":1647043200,\"main\":{\"temp\":8.02,\"feels_like\":5.78,\"temp_min\":8.02,\"temp_max\":8.02,\"pressure\":1009,\"sea_level\":1009,\"grnd_level\":1006,\"humidity\":86,\"temp_kf\":0},\"weather\":[{\"id\":802,\"main\":\"Clouds\",\"description\":\"scattered clouds\",\"icon\":\"03n\"}],\"clouds\":{\"all\":28},\"wind\":{\"speed\":3.59,\"deg\":186,\"gust\":11.02},\"visibility\":10000,\"pop\":0,\"sys\":{\"pod\":\"n\"},\"dt_txt\":\"2022-03-12 00:00:00\"},{\"dt\":1647054000,\"main\":{\"temp\":8.07,\"feels_like\":5.49,\"temp_min\":8.07,\"temp_max\":8.07,\"pressure\":1010,\"sea_level\":1010,\"grnd_level\":1007,\"humidity\":86,\"temp_kf\":0},\"weather\":[{\"id\":803,\"main\":\"Clouds\",\"description\":\"broken clouds\",\"icon\":\"04n\"}],\"clouds\":{\"all\":64},\"wind\":{\"speed\":4.3,\"deg\":227,\"gust\":8.87},\"visibility\":10000,\"pop\":0,\"sys\":{\"pod\":\"n\"},\"dt_txt\":\"2022-03-12 03:00:00\"},{\"dt\":1647064800,\"main\":{\"temp\":6.46,\"feels_like\":5.36,\"temp_min\":6.46,\"temp_max\":6.46,\"pressure\":1012,\"sea_level\":1012,\"grnd_level\":1009,\"humidity\":91,\"temp_kf\":0},\"weather\":[{\"id\":803,\"main\":\"Clouds\",\"description\":\"broken clouds\",\"icon\":\"04n\"}],\"clouds\":{\"all\":81},\"wind\":{\"speed\":1.72,\"deg\":169,\"gust\":4.48},\"visibility\":10000,\"pop\":0,\"sys\":{\"pod\":\"n\"},\"dt_txt\":\"2022-03-12 06:00:00\"},{\"dt\":1647075600,\"main\":{\"temp\":9.09,\"feels_like\":6.79,\"temp_min\":9.09,\"temp_max\":9.09,\"pressure\":1012,\"sea_level\":1012,\"grnd_level\":1009,\"humidity\":78,\"temp_kf\":0},\"weather\":[{\"id\":801,\"main\":\"Clouds\",\"description\":\"few clouds\",\"icon\":\"02d\"}],\"clouds\":{\"all\":14},\"wind\":{\"speed\":4.2,\"deg\":171,\"gust\":8.68},\"visibility\":10000,\"pop\":0,\"sys\":{\"pod\":\"d\"},\"dt_txt\":\"2022-03-12 09:00:00\"},{\"dt\":1647086400,\"main\":{\"temp\":11.78,\"feels_like\":10.45,\"temp_min\":11.78,\"temp_max\":11.78,\"pressure\":1011,\"sea_level\":1011,\"grnd_level\":1008,\"humidity\":55,\"temp_kf\":0},\"weather\":[{\"id\":801,\"main\":\"Clouds\",\"description\":\"few clouds\",\"icon\":\"02d\"}],\"clouds\":{\"all\":11},\"wind\":{\"speed\":6.27,\"deg\":180,\"gust\":9.93},\"visibility\":10000,\"pop\":0,\"sys\":{\"pod\":\"d\"},\"dt_txt\":\"2022-03-12 12:00:00\"},{\"dt\":1647097200,\"main\":{\"temp\":11.56,\"feels_like\":10.29,\"temp_min\":11.56,\"temp_max\":11.56,\"pressure\":1010,\"sea_level\":1010,\"grnd_level\":1007,\"humidity\":58,\"temp_kf\":0},\"weather\":[{\"id\":804,\"main\":\"Clouds\",\"description\":\"overcast clouds\",\"icon\":\"04d\"}],\"clouds\":{\"all\":100},\"wind\":{\"speed\":6.15,\"deg\":179,\"gust\":11.57},\"visibility\":10000,\"pop\":0,\"sys\":{\"pod\":\"d\"},\"dt_txt\":\"2022-03-12 15:00:00\"}],\"city\":{\"id\":2643743,\"name\":\"London\",\"coord\":{\"lat\":51.5085,\"lon\":-0.1257},\"country\":\"GB\",\"population\":1000000,\"timezone\":0,\"sunrise\":1646634786,\"sunset\":1646675419}}'"
      ]
     },
     "execution_count": 15,
     "metadata": {},
     "output_type": "execute_result"
    }
   ],
   "source": [
    "current"
   ]
  },
  {
   "cell_type": "code",
   "execution_count": null,
   "id": "5acebe11",
   "metadata": {},
   "outputs": [],
   "source": []
  },
  {
   "cell_type": "code",
   "execution_count": null,
   "id": "f9b533be",
   "metadata": {},
   "outputs": [],
   "source": []
  },
  {
   "cell_type": "code",
   "execution_count": null,
   "id": "c88b0606",
   "metadata": {},
   "outputs": [],
   "source": []
  },
  {
   "cell_type": "code",
   "execution_count": null,
   "id": "80ccf97d",
   "metadata": {},
   "outputs": [],
   "source": []
  },
  {
   "cell_type": "code",
   "execution_count": null,
   "id": "6ca11609",
   "metadata": {},
   "outputs": [],
   "source": []
  },
  {
   "cell_type": "code",
   "execution_count": null,
   "id": "0c07f6b5",
   "metadata": {},
   "outputs": [],
   "source": []
  },
  {
   "cell_type": "code",
   "execution_count": null,
   "id": "029b43a3",
   "metadata": {},
   "outputs": [],
   "source": []
  },
  {
   "cell_type": "code",
   "execution_count": null,
   "id": "126b67d8",
   "metadata": {},
   "outputs": [],
   "source": []
  },
  {
   "cell_type": "code",
   "execution_count": null,
   "id": "f5b539e6",
   "metadata": {},
   "outputs": [],
   "source": []
  },
  {
   "cell_type": "code",
   "execution_count": null,
   "id": "bd4228fb",
   "metadata": {},
   "outputs": [],
   "source": []
  },
  {
   "cell_type": "code",
   "execution_count": null,
   "id": "4af74944",
   "metadata": {},
   "outputs": [],
   "source": []
  },
  {
   "cell_type": "code",
   "execution_count": null,
   "id": "04bbbd3b",
   "metadata": {},
   "outputs": [],
   "source": []
  },
  {
   "cell_type": "code",
   "execution_count": null,
   "id": "bda89b87",
   "metadata": {},
   "outputs": [],
   "source": []
  },
  {
   "cell_type": "code",
   "execution_count": null,
   "id": "8b2acdcf",
   "metadata": {},
   "outputs": [],
   "source": []
  }
 ],
 "metadata": {
  "kernelspec": {
   "display_name": "Python 3 (ipykernel)",
   "language": "python",
   "name": "python3"
  },
  "language_info": {
   "codemirror_mode": {
    "name": "ipython",
    "version": 3
   },
   "file_extension": ".py",
   "mimetype": "text/x-python",
   "name": "python",
   "nbconvert_exporter": "python",
   "pygments_lexer": "ipython3",
   "version": "3.9.7"
  },
  "toc": {
   "base_numbering": 1,
   "nav_menu": {},
   "number_sections": true,
   "sideBar": true,
   "skip_h1_title": false,
   "title_cell": "Table of Contents",
   "title_sidebar": "Contents",
   "toc_cell": false,
   "toc_position": {},
   "toc_section_display": true,
   "toc_window_display": false
  },
  "varInspector": {
   "cols": {
    "lenName": 16,
    "lenType": 16,
    "lenVar": 40
   },
   "kernels_config": {
    "python": {
     "delete_cmd_postfix": "",
     "delete_cmd_prefix": "del ",
     "library": "var_list.py",
     "varRefreshCmd": "print(var_dic_list())"
    },
    "r": {
     "delete_cmd_postfix": ") ",
     "delete_cmd_prefix": "rm(",
     "library": "var_list.r",
     "varRefreshCmd": "cat(var_dic_list()) "
    }
   },
   "types_to_exclude": [
    "module",
    "function",
    "builtin_function_or_method",
    "instance",
    "_Feature"
   ],
   "window_display": false
  }
 },
 "nbformat": 4,
 "nbformat_minor": 5
}
