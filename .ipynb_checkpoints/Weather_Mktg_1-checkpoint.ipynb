{
 "cells": [
  {
   "cell_type": "code",
   "execution_count": null,
   "id": "ad65a681",
   "metadata": {},
   "outputs": [],
   "source": [
    "#First let's load all the data so we can have a look at it. "
   ]
  },
  {
   "cell_type": "code",
   "execution_count": 45,
   "id": "f0eec541",
   "metadata": {},
   "outputs": [],
   "source": [
    "import pandas as pd\n",
    "import numpy as np\n",
    "pd.set_option('display.max_columns', None)\n",
    "import seaborn as sns\n",
    "import matplotlib.pyplot as plt\n",
    "%matplotlib inline"
   ]
  },
  {
   "cell_type": "markdown",
   "id": "4935a467",
   "metadata": {},
   "source": [
    "# Starting with the weather data"
   ]
  },
  {
   "cell_type": "code",
   "execution_count": 12,
   "id": "1648e052",
   "metadata": {},
   "outputs": [
    {
     "data": {
      "text/html": [
       "<div>\n",
       "<style scoped>\n",
       "    .dataframe tbody tr th:only-of-type {\n",
       "        vertical-align: middle;\n",
       "    }\n",
       "\n",
       "    .dataframe tbody tr th {\n",
       "        vertical-align: top;\n",
       "    }\n",
       "\n",
       "    .dataframe thead th {\n",
       "        text-align: right;\n",
       "    }\n",
       "</style>\n",
       "<table border=\"1\" class=\"dataframe\">\n",
       "  <thead>\n",
       "    <tr style=\"text-align: right;\">\n",
       "      <th></th>\n",
       "      <th>dt</th>\n",
       "      <th>dt_iso</th>\n",
       "      <th>timezone</th>\n",
       "      <th>city_name</th>\n",
       "      <th>lat</th>\n",
       "      <th>lon</th>\n",
       "      <th>temp</th>\n",
       "      <th>visibility</th>\n",
       "      <th>dew_point</th>\n",
       "      <th>feels_like</th>\n",
       "      <th>temp_min</th>\n",
       "      <th>temp_max</th>\n",
       "      <th>pressure</th>\n",
       "      <th>sea_level</th>\n",
       "      <th>grnd_level</th>\n",
       "      <th>humidity</th>\n",
       "      <th>wind_speed</th>\n",
       "      <th>wind_deg</th>\n",
       "      <th>wind_gust</th>\n",
       "      <th>rain_1h</th>\n",
       "      <th>rain_3h</th>\n",
       "      <th>snow_1h</th>\n",
       "      <th>snow_3h</th>\n",
       "      <th>clouds_all</th>\n",
       "      <th>weather_id</th>\n",
       "      <th>weather_main</th>\n",
       "      <th>weather_description</th>\n",
       "      <th>weather_icon</th>\n",
       "    </tr>\n",
       "  </thead>\n",
       "  <tbody>\n",
       "    <tr>\n",
       "      <th>0</th>\n",
       "      <td>1199145600</td>\n",
       "      <td>2008-01-01 00:00:00 +0000 UTC</td>\n",
       "      <td>0</td>\n",
       "      <td>Custom location</td>\n",
       "      <td>51.497256</td>\n",
       "      <td>-0.098179</td>\n",
       "      <td>9.07</td>\n",
       "      <td>5000.0</td>\n",
       "      <td>7.19</td>\n",
       "      <td>8.03</td>\n",
       "      <td>7.99</td>\n",
       "      <td>9.4</td>\n",
       "      <td>1027</td>\n",
       "      <td>NaN</td>\n",
       "      <td>NaN</td>\n",
       "      <td>88</td>\n",
       "      <td>2.1</td>\n",
       "      <td>270</td>\n",
       "      <td>NaN</td>\n",
       "      <td>NaN</td>\n",
       "      <td>NaN</td>\n",
       "      <td>NaN</td>\n",
       "      <td>NaN</td>\n",
       "      <td>75</td>\n",
       "      <td>803</td>\n",
       "      <td>Clouds</td>\n",
       "      <td>broken clouds</td>\n",
       "      <td>04n</td>\n",
       "    </tr>\n",
       "    <tr>\n",
       "      <th>1</th>\n",
       "      <td>1199149200</td>\n",
       "      <td>2008-01-01 01:00:00 +0000 UTC</td>\n",
       "      <td>0</td>\n",
       "      <td>Custom location</td>\n",
       "      <td>51.497256</td>\n",
       "      <td>-0.098179</td>\n",
       "      <td>8.92</td>\n",
       "      <td>5000.0</td>\n",
       "      <td>7.37</td>\n",
       "      <td>8.92</td>\n",
       "      <td>7.99</td>\n",
       "      <td>9.2</td>\n",
       "      <td>1026</td>\n",
       "      <td>NaN</td>\n",
       "      <td>NaN</td>\n",
       "      <td>90</td>\n",
       "      <td>1.0</td>\n",
       "      <td>260</td>\n",
       "      <td>NaN</td>\n",
       "      <td>NaN</td>\n",
       "      <td>NaN</td>\n",
       "      <td>NaN</td>\n",
       "      <td>NaN</td>\n",
       "      <td>90</td>\n",
       "      <td>804</td>\n",
       "      <td>Clouds</td>\n",
       "      <td>overcast clouds</td>\n",
       "      <td>04n</td>\n",
       "    </tr>\n",
       "    <tr>\n",
       "      <th>2</th>\n",
       "      <td>1199152800</td>\n",
       "      <td>2008-01-01 02:00:00 +0000 UTC</td>\n",
       "      <td>0</td>\n",
       "      <td>Custom location</td>\n",
       "      <td>51.497256</td>\n",
       "      <td>-0.098179</td>\n",
       "      <td>8.69</td>\n",
       "      <td>4900.0</td>\n",
       "      <td>7.14</td>\n",
       "      <td>7.58</td>\n",
       "      <td>7.85</td>\n",
       "      <td>8.9</td>\n",
       "      <td>1026</td>\n",
       "      <td>NaN</td>\n",
       "      <td>NaN</td>\n",
       "      <td>90</td>\n",
       "      <td>2.1</td>\n",
       "      <td>210</td>\n",
       "      <td>NaN</td>\n",
       "      <td>NaN</td>\n",
       "      <td>NaN</td>\n",
       "      <td>NaN</td>\n",
       "      <td>NaN</td>\n",
       "      <td>75</td>\n",
       "      <td>803</td>\n",
       "      <td>Clouds</td>\n",
       "      <td>broken clouds</td>\n",
       "      <td>04n</td>\n",
       "    </tr>\n",
       "    <tr>\n",
       "      <th>3</th>\n",
       "      <td>1199156400</td>\n",
       "      <td>2008-01-01 03:00:00 +0000 UTC</td>\n",
       "      <td>0</td>\n",
       "      <td>Custom location</td>\n",
       "      <td>51.497256</td>\n",
       "      <td>-0.098179</td>\n",
       "      <td>8.69</td>\n",
       "      <td>4100.0</td>\n",
       "      <td>7.14</td>\n",
       "      <td>8.15</td>\n",
       "      <td>7.25</td>\n",
       "      <td>8.9</td>\n",
       "      <td>1025</td>\n",
       "      <td>NaN</td>\n",
       "      <td>NaN</td>\n",
       "      <td>90</td>\n",
       "      <td>1.5</td>\n",
       "      <td>210</td>\n",
       "      <td>NaN</td>\n",
       "      <td>NaN</td>\n",
       "      <td>NaN</td>\n",
       "      <td>NaN</td>\n",
       "      <td>NaN</td>\n",
       "      <td>75</td>\n",
       "      <td>803</td>\n",
       "      <td>Clouds</td>\n",
       "      <td>broken clouds</td>\n",
       "      <td>04n</td>\n",
       "    </tr>\n",
       "    <tr>\n",
       "      <th>4</th>\n",
       "      <td>1199160000</td>\n",
       "      <td>2008-01-01 04:00:00 +0000 UTC</td>\n",
       "      <td>0</td>\n",
       "      <td>Custom location</td>\n",
       "      <td>51.497256</td>\n",
       "      <td>-0.098179</td>\n",
       "      <td>9.00</td>\n",
       "      <td>3900.0</td>\n",
       "      <td>7.45</td>\n",
       "      <td>8.51</td>\n",
       "      <td>7.45</td>\n",
       "      <td>9.3</td>\n",
       "      <td>1025</td>\n",
       "      <td>NaN</td>\n",
       "      <td>NaN</td>\n",
       "      <td>90</td>\n",
       "      <td>1.5</td>\n",
       "      <td>220</td>\n",
       "      <td>NaN</td>\n",
       "      <td>NaN</td>\n",
       "      <td>NaN</td>\n",
       "      <td>NaN</td>\n",
       "      <td>NaN</td>\n",
       "      <td>90</td>\n",
       "      <td>804</td>\n",
       "      <td>Clouds</td>\n",
       "      <td>overcast clouds</td>\n",
       "      <td>04n</td>\n",
       "    </tr>\n",
       "  </tbody>\n",
       "</table>\n",
       "</div>"
      ],
      "text/plain": [
       "           dt                         dt_iso  timezone        city_name  \\\n",
       "0  1199145600  2008-01-01 00:00:00 +0000 UTC         0  Custom location   \n",
       "1  1199149200  2008-01-01 01:00:00 +0000 UTC         0  Custom location   \n",
       "2  1199152800  2008-01-01 02:00:00 +0000 UTC         0  Custom location   \n",
       "3  1199156400  2008-01-01 03:00:00 +0000 UTC         0  Custom location   \n",
       "4  1199160000  2008-01-01 04:00:00 +0000 UTC         0  Custom location   \n",
       "\n",
       "         lat       lon  temp  visibility  dew_point  feels_like  temp_min  \\\n",
       "0  51.497256 -0.098179  9.07      5000.0       7.19        8.03      7.99   \n",
       "1  51.497256 -0.098179  8.92      5000.0       7.37        8.92      7.99   \n",
       "2  51.497256 -0.098179  8.69      4900.0       7.14        7.58      7.85   \n",
       "3  51.497256 -0.098179  8.69      4100.0       7.14        8.15      7.25   \n",
       "4  51.497256 -0.098179  9.00      3900.0       7.45        8.51      7.45   \n",
       "\n",
       "   temp_max  pressure  sea_level  grnd_level  humidity  wind_speed  wind_deg  \\\n",
       "0       9.4      1027        NaN         NaN        88         2.1       270   \n",
       "1       9.2      1026        NaN         NaN        90         1.0       260   \n",
       "2       8.9      1026        NaN         NaN        90         2.1       210   \n",
       "3       8.9      1025        NaN         NaN        90         1.5       210   \n",
       "4       9.3      1025        NaN         NaN        90         1.5       220   \n",
       "\n",
       "   wind_gust  rain_1h  rain_3h  snow_1h  snow_3h  clouds_all  weather_id  \\\n",
       "0        NaN      NaN      NaN      NaN      NaN          75         803   \n",
       "1        NaN      NaN      NaN      NaN      NaN          90         804   \n",
       "2        NaN      NaN      NaN      NaN      NaN          75         803   \n",
       "3        NaN      NaN      NaN      NaN      NaN          75         803   \n",
       "4        NaN      NaN      NaN      NaN      NaN          90         804   \n",
       "\n",
       "  weather_main weather_description weather_icon  \n",
       "0       Clouds       broken clouds          04n  \n",
       "1       Clouds     overcast clouds          04n  \n",
       "2       Clouds       broken clouds          04n  \n",
       "3       Clouds       broken clouds          04n  \n",
       "4       Clouds     overcast clouds          04n  "
      ]
     },
     "execution_count": 12,
     "metadata": {},
     "output_type": "execute_result"
    }
   ],
   "source": [
    "weather = pd.read_csv('weather.csv')\n",
    "weather.head()"
   ]
  },
  {
   "cell_type": "code",
   "execution_count": 7,
   "id": "a91a8f81",
   "metadata": {},
   "outputs": [
    {
     "data": {
      "text/plain": [
       "(35267, 28)"
      ]
     },
     "execution_count": 7,
     "metadata": {},
     "output_type": "execute_result"
    }
   ],
   "source": [
    "weather.shape"
   ]
  },
  {
   "cell_type": "code",
   "execution_count": 8,
   "id": "6ddc1554",
   "metadata": {},
   "outputs": [
    {
     "data": {
      "text/plain": [
       "['dt',\n",
       " 'dt_iso',\n",
       " 'timezone',\n",
       " 'city_name',\n",
       " 'lat',\n",
       " 'lon',\n",
       " 'temp',\n",
       " 'visibility',\n",
       " 'dew_point',\n",
       " 'feels_like',\n",
       " 'temp_min',\n",
       " 'temp_max',\n",
       " 'pressure',\n",
       " 'sea_level',\n",
       " 'grnd_level',\n",
       " 'humidity',\n",
       " 'wind_speed',\n",
       " 'wind_deg',\n",
       " 'wind_gust',\n",
       " 'rain_1h',\n",
       " 'rain_3h',\n",
       " 'snow_1h',\n",
       " 'snow_3h',\n",
       " 'clouds_all',\n",
       " 'weather_id',\n",
       " 'weather_main',\n",
       " 'weather_description',\n",
       " 'weather_icon']"
      ]
     },
     "execution_count": 8,
     "metadata": {},
     "output_type": "execute_result"
    }
   ],
   "source": [
    "list(weather.columns)"
   ]
  },
  {
   "cell_type": "code",
   "execution_count": null,
   "id": "a9ee8ee9",
   "metadata": {},
   "outputs": [],
   "source": [
    "#cleaning up the file to remove columns with all/many NaNs, columns with no variance, etc.)"
   ]
  },
  {
   "cell_type": "code",
   "execution_count": 89,
   "id": "222fdf0e",
   "metadata": {},
   "outputs": [
    {
     "data": {
      "text/html": [
       "<div>\n",
       "<style scoped>\n",
       "    .dataframe tbody tr th:only-of-type {\n",
       "        vertical-align: middle;\n",
       "    }\n",
       "\n",
       "    .dataframe tbody tr th {\n",
       "        vertical-align: top;\n",
       "    }\n",
       "\n",
       "    .dataframe thead th {\n",
       "        text-align: right;\n",
       "    }\n",
       "</style>\n",
       "<table border=\"1\" class=\"dataframe\">\n",
       "  <thead>\n",
       "    <tr style=\"text-align: right;\">\n",
       "      <th></th>\n",
       "      <th>dt_iso</th>\n",
       "      <th>temp</th>\n",
       "      <th>visibility</th>\n",
       "      <th>dew_point</th>\n",
       "      <th>feels_like</th>\n",
       "      <th>temp_min</th>\n",
       "      <th>temp_max</th>\n",
       "      <th>pressure</th>\n",
       "      <th>humidity</th>\n",
       "      <th>wind_speed</th>\n",
       "      <th>wind_deg</th>\n",
       "      <th>clouds_all</th>\n",
       "      <th>weather_id</th>\n",
       "      <th>weather_main</th>\n",
       "      <th>weather_icon</th>\n",
       "    </tr>\n",
       "  </thead>\n",
       "  <tbody>\n",
       "    <tr>\n",
       "      <th>0</th>\n",
       "      <td>2008-01-01 00:00:00 +0000 UTC</td>\n",
       "      <td>9.07</td>\n",
       "      <td>5000.0</td>\n",
       "      <td>7.19</td>\n",
       "      <td>8.03</td>\n",
       "      <td>7.99</td>\n",
       "      <td>9.4</td>\n",
       "      <td>1027</td>\n",
       "      <td>88</td>\n",
       "      <td>2.1</td>\n",
       "      <td>270</td>\n",
       "      <td>75</td>\n",
       "      <td>803</td>\n",
       "      <td>Clouds</td>\n",
       "      <td>04n</td>\n",
       "    </tr>\n",
       "    <tr>\n",
       "      <th>1</th>\n",
       "      <td>2008-01-01 01:00:00 +0000 UTC</td>\n",
       "      <td>8.92</td>\n",
       "      <td>5000.0</td>\n",
       "      <td>7.37</td>\n",
       "      <td>8.92</td>\n",
       "      <td>7.99</td>\n",
       "      <td>9.2</td>\n",
       "      <td>1026</td>\n",
       "      <td>90</td>\n",
       "      <td>1.0</td>\n",
       "      <td>260</td>\n",
       "      <td>90</td>\n",
       "      <td>804</td>\n",
       "      <td>Clouds</td>\n",
       "      <td>04n</td>\n",
       "    </tr>\n",
       "    <tr>\n",
       "      <th>2</th>\n",
       "      <td>2008-01-01 02:00:00 +0000 UTC</td>\n",
       "      <td>8.69</td>\n",
       "      <td>4900.0</td>\n",
       "      <td>7.14</td>\n",
       "      <td>7.58</td>\n",
       "      <td>7.85</td>\n",
       "      <td>8.9</td>\n",
       "      <td>1026</td>\n",
       "      <td>90</td>\n",
       "      <td>2.1</td>\n",
       "      <td>210</td>\n",
       "      <td>75</td>\n",
       "      <td>803</td>\n",
       "      <td>Clouds</td>\n",
       "      <td>04n</td>\n",
       "    </tr>\n",
       "    <tr>\n",
       "      <th>3</th>\n",
       "      <td>2008-01-01 03:00:00 +0000 UTC</td>\n",
       "      <td>8.69</td>\n",
       "      <td>4100.0</td>\n",
       "      <td>7.14</td>\n",
       "      <td>8.15</td>\n",
       "      <td>7.25</td>\n",
       "      <td>8.9</td>\n",
       "      <td>1025</td>\n",
       "      <td>90</td>\n",
       "      <td>1.5</td>\n",
       "      <td>210</td>\n",
       "      <td>75</td>\n",
       "      <td>803</td>\n",
       "      <td>Clouds</td>\n",
       "      <td>04n</td>\n",
       "    </tr>\n",
       "    <tr>\n",
       "      <th>4</th>\n",
       "      <td>2008-01-01 04:00:00 +0000 UTC</td>\n",
       "      <td>9.00</td>\n",
       "      <td>3900.0</td>\n",
       "      <td>7.45</td>\n",
       "      <td>8.51</td>\n",
       "      <td>7.45</td>\n",
       "      <td>9.3</td>\n",
       "      <td>1025</td>\n",
       "      <td>90</td>\n",
       "      <td>1.5</td>\n",
       "      <td>220</td>\n",
       "      <td>90</td>\n",
       "      <td>804</td>\n",
       "      <td>Clouds</td>\n",
       "      <td>04n</td>\n",
       "    </tr>\n",
       "  </tbody>\n",
       "</table>\n",
       "</div>"
      ],
      "text/plain": [
       "                          dt_iso  temp  visibility  dew_point  feels_like  \\\n",
       "0  2008-01-01 00:00:00 +0000 UTC  9.07      5000.0       7.19        8.03   \n",
       "1  2008-01-01 01:00:00 +0000 UTC  8.92      5000.0       7.37        8.92   \n",
       "2  2008-01-01 02:00:00 +0000 UTC  8.69      4900.0       7.14        7.58   \n",
       "3  2008-01-01 03:00:00 +0000 UTC  8.69      4100.0       7.14        8.15   \n",
       "4  2008-01-01 04:00:00 +0000 UTC  9.00      3900.0       7.45        8.51   \n",
       "\n",
       "   temp_min  temp_max  pressure  humidity  wind_speed  wind_deg  clouds_all  \\\n",
       "0      7.99       9.4      1027        88         2.1       270          75   \n",
       "1      7.99       9.2      1026        90         1.0       260          90   \n",
       "2      7.85       8.9      1026        90         2.1       210          75   \n",
       "3      7.25       8.9      1025        90         1.5       210          75   \n",
       "4      7.45       9.3      1025        90         1.5       220          90   \n",
       "\n",
       "   weather_id weather_main weather_icon  \n",
       "0         803       Clouds          04n  \n",
       "1         804       Clouds          04n  \n",
       "2         803       Clouds          04n  \n",
       "3         803       Clouds          04n  \n",
       "4         804       Clouds          04n  "
      ]
     },
     "execution_count": 89,
     "metadata": {},
     "output_type": "execute_result"
    }
   ],
   "source": [
    "weather2 = weather.drop(['dt','timezone', 'city_name', 'lat', 'lon', 'sea_level', 'grnd_level', 'wind_gust', 'rain_1h', 'rain_3h', 'snow_1h', 'snow_3h','weather_description'],axis=1)\n",
    "weather2.head()"
   ]
  },
  {
   "cell_type": "code",
   "execution_count": 90,
   "id": "74b7c631",
   "metadata": {},
   "outputs": [
    {
     "data": {
      "text/plain": [
       "dt_iso           object\n",
       "temp            float64\n",
       "visibility      float64\n",
       "dew_point       float64\n",
       "feels_like      float64\n",
       "temp_min        float64\n",
       "temp_max        float64\n",
       "pressure          int64\n",
       "humidity          int64\n",
       "wind_speed      float64\n",
       "wind_deg          int64\n",
       "clouds_all        int64\n",
       "weather_id        int64\n",
       "weather_main     object\n",
       "weather_icon     object\n",
       "dtype: object"
      ]
     },
     "execution_count": 90,
     "metadata": {},
     "output_type": "execute_result"
    }
   ],
   "source": [
    "weather2.dtypes"
   ]
  },
  {
   "cell_type": "code",
   "execution_count": 91,
   "id": "4e303853",
   "metadata": {
    "scrolled": true
   },
   "outputs": [
    {
     "data": {
      "text/plain": [
       "Clouds          0.469050\n",
       "Clear           0.350810\n",
       "Rain            0.144129\n",
       "Mist            0.017268\n",
       "Drizzle         0.006919\n",
       "Snow            0.004849\n",
       "Haze            0.003743\n",
       "Fog             0.002637\n",
       "Thunderstorm    0.000595\n",
       "Name: weather_main, dtype: float64"
      ]
     },
     "execution_count": 91,
     "metadata": {},
     "output_type": "execute_result"
    }
   ],
   "source": [
    "weather2.weather_main.value_counts(normalize=True)"
   ]
  },
  {
   "cell_type": "code",
   "execution_count": 92,
   "id": "c8123268",
   "metadata": {},
   "outputs": [
    {
     "data": {
      "text/plain": [
       "01n    0.211387\n",
       "04n    0.143165\n",
       "01d    0.139422\n",
       "04d    0.119602\n",
       "10d    0.075453\n",
       "02d    0.074092\n",
       "03d    0.068449\n",
       "10n    0.053421\n",
       "02n    0.035189\n",
       "03n    0.028554\n",
       "09d    0.017126\n",
       "50d    0.016134\n",
       "50n    0.007514\n",
       "09n    0.005047\n",
       "13n    0.002467\n",
       "13d    0.002382\n",
       "11d    0.000539\n",
       "11n    0.000057\n",
       "Name: weather_icon, dtype: float64"
      ]
     },
     "execution_count": 92,
     "metadata": {},
     "output_type": "execute_result"
    }
   ],
   "source": [
    "weather2.weather_icon.value_counts(normalize=True)"
   ]
  },
  {
   "cell_type": "code",
   "execution_count": null,
   "id": "cf2d952e",
   "metadata": {},
   "outputs": [],
   "source": [
    "#Both columns with objects have a reasonably low number of categories so won't be a problem to categorize later on. "
   ]
  },
  {
   "cell_type": "code",
   "execution_count": 93,
   "id": "e36e9a4f",
   "metadata": {
    "scrolled": true
   },
   "outputs": [
    {
     "data": {
      "text/plain": [
       "dt_iso          0.00\n",
       "temp            0.00\n",
       "visibility      1.32\n",
       "dew_point       0.00\n",
       "feels_like      0.00\n",
       "temp_min        0.00\n",
       "temp_max        0.00\n",
       "pressure        0.00\n",
       "humidity        0.00\n",
       "wind_speed      0.00\n",
       "wind_deg        0.00\n",
       "clouds_all      0.00\n",
       "weather_id      0.00\n",
       "weather_main    0.00\n",
       "weather_icon    0.00\n",
       "dtype: float64"
      ]
     },
     "execution_count": 93,
     "metadata": {},
     "output_type": "execute_result"
    }
   ],
   "source": [
    "round(weather2.isna().sum()/len(weather2),4)*100"
   ]
  },
  {
   "cell_type": "code",
   "execution_count": null,
   "id": "fd913d56",
   "metadata": {},
   "outputs": [],
   "source": [
    "#we have some NaNs in the visibility column, will check the distribution and fill with appropriate figure"
   ]
  },
  {
   "cell_type": "code",
   "execution_count": 94,
   "id": "6a1413b1",
   "metadata": {},
   "outputs": [
    {
     "data": {
      "image/png": "[encoded data removed]",
      "text/plain": [
       "<Figure size 360x360 with 1 Axes>"
      ]
     },
     "metadata": {
      "needs_background": "light"
     },
     "output_type": "display_data"
    }
   ],
   "source": [
    "sns.displot(weather2['visibility'])\n",
    "plt.show()"
   ]
  },
  {
   "cell_type": "code",
   "execution_count": 95,
   "id": "60fe2860",
   "metadata": {},
   "outputs": [
    {
     "name": "stdout",
     "output_type": "stream",
     "text": [
      "9244.414274631497\n",
      "10000.0\n"
     ]
    }
   ],
   "source": [
    "print(weather2['visibility'].mean())\n",
    "print(weather2['visibility'].median())"
   ]
  },
  {
   "cell_type": "code",
   "execution_count": 96,
   "id": "409b50d5",
   "metadata": {},
   "outputs": [],
   "source": [
    "weather2['visibility'] = weather2['visibility'].fillna(np.mean(weather2['visibility']))"
   ]
  },
  {
   "cell_type": "code",
   "execution_count": 97,
   "id": "3516f893",
   "metadata": {},
   "outputs": [
    {
     "name": "stdout",
     "output_type": "stream",
     "text": [
      "9244.414274631514\n",
      "10000.0\n"
     ]
    }
   ],
   "source": [
    "print(weather2['visibility'].mean())\n",
    "print(weather2['visibility'].median())"
   ]
  },
  {
   "cell_type": "code",
   "execution_count": 98,
   "id": "f4b8bf45",
   "metadata": {},
   "outputs": [
    {
     "data": {
      "text/plain": [
       "dt_iso          0.0\n",
       "temp            0.0\n",
       "visibility      0.0\n",
       "dew_point       0.0\n",
       "feels_like      0.0\n",
       "temp_min        0.0\n",
       "temp_max        0.0\n",
       "pressure        0.0\n",
       "humidity        0.0\n",
       "wind_speed      0.0\n",
       "wind_deg        0.0\n",
       "clouds_all      0.0\n",
       "weather_id      0.0\n",
       "weather_main    0.0\n",
       "weather_icon    0.0\n",
       "dtype: float64"
      ]
     },
     "execution_count": 98,
     "metadata": {},
     "output_type": "execute_result"
    }
   ],
   "source": [
    "round(weather2.isna().sum()/len(weather2),4)*100"
   ]
  },
  {
   "cell_type": "code",
   "execution_count": null,
   "id": "ddff8e00",
   "metadata": {},
   "outputs": [],
   "source": [
    "#No more NaNs and we didn't significantly change the distribution of the visibility. "
   ]
  },
  {
   "cell_type": "code",
   "execution_count": null,
   "id": "0ae89b5e",
   "metadata": {},
   "outputs": [],
   "source": [
    "#Now let's tackle the dt_iso - remove part of the string and convert the rest to an actual datetime. "
   ]
  },
  {
   "cell_type": "code",
   "execution_count": 101,
   "id": "7fa8d645",
   "metadata": {},
   "outputs": [],
   "source": [
    "weather2['dt_iso'] = weather2['dt_iso'].str[:-10]"
   ]
  },
  {
   "cell_type": "code",
   "execution_count": 103,
   "id": "20b76e52",
   "metadata": {},
   "outputs": [],
   "source": [
    "weather2['dt_iso'] = pd.to_datetime(weather2['dt_iso'], format='%Y-%m-%d %H:%M:%S')"
   ]
  },
  {
   "cell_type": "code",
   "execution_count": 105,
   "id": "4f398fe0",
   "metadata": {},
   "outputs": [
    {
     "data": {
      "text/plain": [
       "dt_iso          datetime64[ns]\n",
       "temp                   float64\n",
       "visibility             float64\n",
       "dew_point              float64\n",
       "feels_like             float64\n",
       "temp_min               float64\n",
       "temp_max               float64\n",
       "pressure                 int64\n",
       "humidity                 int64\n",
       "wind_speed             float64\n",
       "wind_deg                 int64\n",
       "clouds_all               int64\n",
       "weather_id               int64\n",
       "weather_main            object\n",
       "weather_icon            object\n",
       "dtype: object"
      ]
     },
     "execution_count": 105,
     "metadata": {},
     "output_type": "execute_result"
    }
   ],
   "source": [
    "weather2.dtypes"
   ]
  },
  {
   "cell_type": "code",
   "execution_count": null,
   "id": "bed7d37a",
   "metadata": {},
   "outputs": [],
   "source": []
  },
  {
   "cell_type": "code",
   "execution_count": null,
   "id": "76e57ea3",
   "metadata": {},
   "outputs": [],
   "source": []
  },
  {
   "cell_type": "code",
   "execution_count": null,
   "id": "866fcaab",
   "metadata": {},
   "outputs": [],
   "source": []
  },
  {
   "cell_type": "code",
   "execution_count": null,
   "id": "24ff0d8a",
   "metadata": {},
   "outputs": [],
   "source": []
  },
  {
   "cell_type": "code",
   "execution_count": null,
   "id": "61d6429f",
   "metadata": {},
   "outputs": [],
   "source": []
  },
  {
   "cell_type": "code",
   "execution_count": null,
   "id": "f5f65c63",
   "metadata": {},
   "outputs": [],
   "source": []
  },
  {
   "cell_type": "markdown",
   "id": "4bd9729a",
   "metadata": {},
   "source": [
    "# Now the sales data"
   ]
  },
  {
   "cell_type": "code",
   "execution_count": 65,
   "id": "2cb86077",
   "metadata": {},
   "outputs": [
    {
     "data": {
      "text/html": [
       "<div>\n",
       "<style scoped>\n",
       "    .dataframe tbody tr th:only-of-type {\n",
       "        vertical-align: middle;\n",
       "    }\n",
       "\n",
       "    .dataframe tbody tr th {\n",
       "        vertical-align: top;\n",
       "    }\n",
       "\n",
       "    .dataframe thead th {\n",
       "        text-align: right;\n",
       "    }\n",
       "</style>\n",
       "<table border=\"1\" class=\"dataframe\">\n",
       "  <thead>\n",
       "    <tr style=\"text-align: right;\">\n",
       "      <th></th>\n",
       "      <th>Unnamed: 0</th>\n",
       "      <th>Invoice</th>\n",
       "      <th>StockCode</th>\n",
       "      <th>Description</th>\n",
       "      <th>Quantity</th>\n",
       "      <th>InvoiceDate</th>\n",
       "      <th>Price</th>\n",
       "      <th>Customer ID</th>\n",
       "    </tr>\n",
       "  </thead>\n",
       "  <tbody>\n",
       "    <tr>\n",
       "      <th>0</th>\n",
       "      <td>0</td>\n",
       "      <td>489434</td>\n",
       "      <td>85048</td>\n",
       "      <td>15CM CHRISTMAS GLASS BALL 20 LIGHTS</td>\n",
       "      <td>12</td>\n",
       "      <td>2009-12-01 07:45:00</td>\n",
       "      <td>6.95</td>\n",
       "      <td>13085.0</td>\n",
       "    </tr>\n",
       "    <tr>\n",
       "      <th>1</th>\n",
       "      <td>1</td>\n",
       "      <td>489434</td>\n",
       "      <td>79323P</td>\n",
       "      <td>PINK CHERRY LIGHTS</td>\n",
       "      <td>12</td>\n",
       "      <td>2009-12-01 07:45:00</td>\n",
       "      <td>6.75</td>\n",
       "      <td>13085.0</td>\n",
       "    </tr>\n",
       "    <tr>\n",
       "      <th>2</th>\n",
       "      <td>2</td>\n",
       "      <td>489434</td>\n",
       "      <td>79323W</td>\n",
       "      <td>WHITE CHERRY LIGHTS</td>\n",
       "      <td>12</td>\n",
       "      <td>2009-12-01 07:45:00</td>\n",
       "      <td>6.75</td>\n",
       "      <td>13085.0</td>\n",
       "    </tr>\n",
       "    <tr>\n",
       "      <th>3</th>\n",
       "      <td>3</td>\n",
       "      <td>489434</td>\n",
       "      <td>22041</td>\n",
       "      <td>RECORD FRAME 7\" SINGLE SIZE</td>\n",
       "      <td>48</td>\n",
       "      <td>2009-12-01 07:45:00</td>\n",
       "      <td>2.10</td>\n",
       "      <td>13085.0</td>\n",
       "    </tr>\n",
       "    <tr>\n",
       "      <th>4</th>\n",
       "      <td>4</td>\n",
       "      <td>489434</td>\n",
       "      <td>21232</td>\n",
       "      <td>STRAWBERRY CERAMIC TRINKET BOX</td>\n",
       "      <td>24</td>\n",
       "      <td>2009-12-01 07:45:00</td>\n",
       "      <td>1.25</td>\n",
       "      <td>13085.0</td>\n",
       "    </tr>\n",
       "  </tbody>\n",
       "</table>\n",
       "</div>"
      ],
      "text/plain": [
       "   Unnamed: 0 Invoice StockCode                          Description  \\\n",
       "0           0  489434     85048  15CM CHRISTMAS GLASS BALL 20 LIGHTS   \n",
       "1           1  489434    79323P                   PINK CHERRY LIGHTS   \n",
       "2           2  489434    79323W                  WHITE CHERRY LIGHTS   \n",
       "3           3  489434     22041         RECORD FRAME 7\" SINGLE SIZE    \n",
       "4           4  489434     21232       STRAWBERRY CERAMIC TRINKET BOX   \n",
       "\n",
       "   Quantity          InvoiceDate  Price  Customer ID  \n",
       "0        12  2009-12-01 07:45:00   6.95      13085.0  \n",
       "1        12  2009-12-01 07:45:00   6.75      13085.0  \n",
       "2        12  2009-12-01 07:45:00   6.75      13085.0  \n",
       "3        48  2009-12-01 07:45:00   2.10      13085.0  \n",
       "4        24  2009-12-01 07:45:00   1.25      13085.0  "
      ]
     },
     "execution_count": 65,
     "metadata": {},
     "output_type": "execute_result"
    }
   ],
   "source": [
    "sales = pd.read_csv('sales.csv')\n",
    "sales.head()"
   ]
  },
  {
   "cell_type": "code",
   "execution_count": 66,
   "id": "3ee777fa",
   "metadata": {},
   "outputs": [],
   "source": [
    "sales = sales.drop(['Unnamed: 0'],axis=1)"
   ]
  },
  {
   "cell_type": "code",
   "execution_count": 67,
   "id": "eb31a2d4",
   "metadata": {},
   "outputs": [
    {
     "data": {
      "text/plain": [
       "(981330, 7)"
      ]
     },
     "execution_count": 67,
     "metadata": {},
     "output_type": "execute_result"
    }
   ],
   "source": [
    "sales.shape"
   ]
  },
  {
   "cell_type": "code",
   "execution_count": 68,
   "id": "baf50b03",
   "metadata": {},
   "outputs": [],
   "source": [
    "sales = sales.drop_duplicates()"
   ]
  },
  {
   "cell_type": "code",
   "execution_count": 69,
   "id": "a4a63b0d",
   "metadata": {},
   "outputs": [
    {
     "data": {
      "text/plain": [
       "(948321, 7)"
      ]
     },
     "execution_count": 69,
     "metadata": {},
     "output_type": "execute_result"
    }
   ],
   "source": [
    "sales.shape"
   ]
  },
  {
   "cell_type": "code",
   "execution_count": 70,
   "id": "c9b5d9a4",
   "metadata": {},
   "outputs": [
    {
     "data": {
      "text/plain": [
       "Invoice         object\n",
       "StockCode       object\n",
       "Description     object\n",
       "Quantity         int64\n",
       "InvoiceDate     object\n",
       "Price          float64\n",
       "Customer ID    float64\n",
       "dtype: object"
      ]
     },
     "execution_count": 70,
     "metadata": {},
     "output_type": "execute_result"
    }
   ],
   "source": [
    "sales.dtypes"
   ]
  },
  {
   "cell_type": "code",
   "execution_count": 73,
   "id": "cbc6ce40",
   "metadata": {},
   "outputs": [],
   "source": [
    "sales['InvoiceDate'] = pd.to_datetime(sales['InvoiceDate'], format='%Y-%m-%d %H:%M:%S')"
   ]
  },
  {
   "cell_type": "code",
   "execution_count": 74,
   "id": "f632fbf3",
   "metadata": {},
   "outputs": [
    {
     "data": {
      "text/html": [
       "<div>\n",
       "<style scoped>\n",
       "    .dataframe tbody tr th:only-of-type {\n",
       "        vertical-align: middle;\n",
       "    }\n",
       "\n",
       "    .dataframe tbody tr th {\n",
       "        vertical-align: top;\n",
       "    }\n",
       "\n",
       "    .dataframe thead th {\n",
       "        text-align: right;\n",
       "    }\n",
       "</style>\n",
       "<table border=\"1\" class=\"dataframe\">\n",
       "  <thead>\n",
       "    <tr style=\"text-align: right;\">\n",
       "      <th></th>\n",
       "      <th>Invoice</th>\n",
       "      <th>StockCode</th>\n",
       "      <th>Description</th>\n",
       "      <th>Quantity</th>\n",
       "      <th>InvoiceDate</th>\n",
       "      <th>Price</th>\n",
       "      <th>Customer ID</th>\n",
       "    </tr>\n",
       "  </thead>\n",
       "  <tbody>\n",
       "    <tr>\n",
       "      <th>0</th>\n",
       "      <td>489434</td>\n",
       "      <td>85048</td>\n",
       "      <td>15CM CHRISTMAS GLASS BALL 20 LIGHTS</td>\n",
       "      <td>12</td>\n",
       "      <td>2009-12-01 07:45:00</td>\n",
       "      <td>6.95</td>\n",
       "      <td>13085.0</td>\n",
       "    </tr>\n",
       "    <tr>\n",
       "      <th>1</th>\n",
       "      <td>489434</td>\n",
       "      <td>79323P</td>\n",
       "      <td>PINK CHERRY LIGHTS</td>\n",
       "      <td>12</td>\n",
       "      <td>2009-12-01 07:45:00</td>\n",
       "      <td>6.75</td>\n",
       "      <td>13085.0</td>\n",
       "    </tr>\n",
       "    <tr>\n",
       "      <th>2</th>\n",
       "      <td>489434</td>\n",
       "      <td>79323W</td>\n",
       "      <td>WHITE CHERRY LIGHTS</td>\n",
       "      <td>12</td>\n",
       "      <td>2009-12-01 07:45:00</td>\n",
       "      <td>6.75</td>\n",
       "      <td>13085.0</td>\n",
       "    </tr>\n",
       "    <tr>\n",
       "      <th>3</th>\n",
       "      <td>489434</td>\n",
       "      <td>22041</td>\n",
       "      <td>RECORD FRAME 7\" SINGLE SIZE</td>\n",
       "      <td>48</td>\n",
       "      <td>2009-12-01 07:45:00</td>\n",
       "      <td>2.10</td>\n",
       "      <td>13085.0</td>\n",
       "    </tr>\n",
       "    <tr>\n",
       "      <th>4</th>\n",
       "      <td>489434</td>\n",
       "      <td>21232</td>\n",
       "      <td>STRAWBERRY CERAMIC TRINKET BOX</td>\n",
       "      <td>24</td>\n",
       "      <td>2009-12-01 07:45:00</td>\n",
       "      <td>1.25</td>\n",
       "      <td>13085.0</td>\n",
       "    </tr>\n",
       "  </tbody>\n",
       "</table>\n",
       "</div>"
      ],
      "text/plain": [
       "  Invoice StockCode                          Description  Quantity  \\\n",
       "0  489434     85048  15CM CHRISTMAS GLASS BALL 20 LIGHTS        12   \n",
       "1  489434    79323P                   PINK CHERRY LIGHTS        12   \n",
       "2  489434    79323W                  WHITE CHERRY LIGHTS        12   \n",
       "3  489434     22041         RECORD FRAME 7\" SINGLE SIZE         48   \n",
       "4  489434     21232       STRAWBERRY CERAMIC TRINKET BOX        24   \n",
       "\n",
       "          InvoiceDate  Price  Customer ID  \n",
       "0 2009-12-01 07:45:00   6.95      13085.0  \n",
       "1 2009-12-01 07:45:00   6.75      13085.0  \n",
       "2 2009-12-01 07:45:00   6.75      13085.0  \n",
       "3 2009-12-01 07:45:00   2.10      13085.0  \n",
       "4 2009-12-01 07:45:00   1.25      13085.0  "
      ]
     },
     "execution_count": 74,
     "metadata": {},
     "output_type": "execute_result"
    }
   ],
   "source": [
    "sales.head()"
   ]
  },
  {
   "cell_type": "code",
   "execution_count": 75,
   "id": "9ea8c98b",
   "metadata": {},
   "outputs": [
    {
     "data": {
      "text/plain": [
       "Invoice                object\n",
       "StockCode              object\n",
       "Description            object\n",
       "Quantity                int64\n",
       "InvoiceDate    datetime64[ns]\n",
       "Price                 float64\n",
       "Customer ID           float64\n",
       "dtype: object"
      ]
     },
     "execution_count": 75,
     "metadata": {},
     "output_type": "execute_result"
    }
   ],
   "source": [
    "sales.dtypes"
   ]
  }
 ],
 "metadata": {
  "kernelspec": {
   "display_name": "Python 3 (ipykernel)",
   "language": "python",
   "name": "python3"
  },
  "language_info": {
   "codemirror_mode": {
    "name": "ipython",
    "version": 3
   },
   "file_extension": ".py",
   "mimetype": "text/x-python",
   "name": "python",
   "nbconvert_exporter": "python",
   "pygments_lexer": "ipython3",
   "version": "3.9.7"
  },
  "toc": {
   "base_numbering": 1,
   "nav_menu": {},
   "number_sections": true,
   "sideBar": true,
   "skip_h1_title": false,
   "title_cell": "Table of Contents",
   "title_sidebar": "Contents",
   "toc_cell": false,
   "toc_position": {},
   "toc_section_display": true,
   "toc_window_display": false
  },
  "varInspector": {
   "cols": {
    "lenName": 16,
    "lenType": 16,
    "lenVar": 40
   },
   "kernels_config": {
    "python": {
     "delete_cmd_postfix": "",
     "delete_cmd_prefix": "del ",
     "library": "var_list.py",
     "varRefreshCmd": "print(var_dic_list())"
    },
    "r": {
     "delete_cmd_postfix": ") ",
     "delete_cmd_prefix": "rm(",
     "library": "var_list.r",
     "varRefreshCmd": "cat(var_dic_list()) "
    }
   },
   "types_to_exclude": [
    "module",
    "function",
    "builtin_function_or_method",
    "instance",
    "_Feature"
   ],
   "window_display": false
  }
 },
 "nbformat": 4,
 "nbformat_minor": 5
}
