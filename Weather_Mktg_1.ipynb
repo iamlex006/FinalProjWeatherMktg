{
 "cells": [
  {
   "cell_type": "code",
   "execution_count": 1,
   "id": "ad65a681",
   "metadata": {},
   "outputs": [],
   "source": [
    "#First let's load all the data so we can have a look at it. "
   ]
  },
  {
   "cell_type": "code",
   "execution_count": 2,
   "id": "f0eec541",
   "metadata": {},
   "outputs": [],
   "source": [
    "import pandas as pd\n",
    "import numpy as np\n",
    "pd.set_option('display.max_columns', None)\n",
    "import seaborn as sns\n",
    "import matplotlib.pyplot as plt\n",
    "%matplotlib inline\n",
    "from pandas import json_normalize\n",
    "import requests"
   ]
  },
  {
   "cell_type": "markdown",
   "id": "4935a467",
   "metadata": {},
   "source": [
    "# Starting with the historical weather data"
   ]
  },
  {
   "cell_type": "code",
   "execution_count": 3,
   "id": "1648e052",
   "metadata": {},
   "outputs": [
    {
     "data": {
      "text/html": [
       "<div>\n",
       "<style scoped>\n",
       "    .dataframe tbody tr th:only-of-type {\n",
       "        vertical-align: middle;\n",
       "    }\n",
       "\n",
       "    .dataframe tbody tr th {\n",
       "        vertical-align: top;\n",
       "    }\n",
       "\n",
       "    .dataframe thead th {\n",
       "        text-align: right;\n",
       "    }\n",
       "</style>\n",
       "<table border=\"1\" class=\"dataframe\">\n",
       "  <thead>\n",
       "    <tr style=\"text-align: right;\">\n",
       "      <th></th>\n",
       "      <th>dt</th>\n",
       "      <th>dt_iso</th>\n",
       "      <th>timezone</th>\n",
       "      <th>city_name</th>\n",
       "      <th>lat</th>\n",
       "      <th>lon</th>\n",
       "      <th>temp</th>\n",
       "      <th>visibility</th>\n",
       "      <th>dew_point</th>\n",
       "      <th>feels_like</th>\n",
       "      <th>temp_min</th>\n",
       "      <th>temp_max</th>\n",
       "      <th>pressure</th>\n",
       "      <th>sea_level</th>\n",
       "      <th>grnd_level</th>\n",
       "      <th>humidity</th>\n",
       "      <th>wind_speed</th>\n",
       "      <th>wind_deg</th>\n",
       "      <th>wind_gust</th>\n",
       "      <th>rain_1h</th>\n",
       "      <th>rain_3h</th>\n",
       "      <th>snow_1h</th>\n",
       "      <th>snow_3h</th>\n",
       "      <th>clouds_all</th>\n",
       "      <th>weather_id</th>\n",
       "      <th>weather_main</th>\n",
       "      <th>weather_description</th>\n",
       "      <th>weather_icon</th>\n",
       "    </tr>\n",
       "  </thead>\n",
       "  <tbody>\n",
       "    <tr>\n",
       "      <th>0</th>\n",
       "      <td>1199145600</td>\n",
       "      <td>2008-01-01 00:00:00 +0000 UTC</td>\n",
       "      <td>0</td>\n",
       "      <td>Custom location</td>\n",
       "      <td>51.497256</td>\n",
       "      <td>-0.098179</td>\n",
       "      <td>9.07</td>\n",
       "      <td>5000.0</td>\n",
       "      <td>7.19</td>\n",
       "      <td>8.03</td>\n",
       "      <td>7.99</td>\n",
       "      <td>9.4</td>\n",
       "      <td>1027</td>\n",
       "      <td>NaN</td>\n",
       "      <td>NaN</td>\n",
       "      <td>88</td>\n",
       "      <td>2.1</td>\n",
       "      <td>270</td>\n",
       "      <td>NaN</td>\n",
       "      <td>NaN</td>\n",
       "      <td>NaN</td>\n",
       "      <td>NaN</td>\n",
       "      <td>NaN</td>\n",
       "      <td>75</td>\n",
       "      <td>803</td>\n",
       "      <td>Clouds</td>\n",
       "      <td>broken clouds</td>\n",
       "      <td>04n</td>\n",
       "    </tr>\n",
       "    <tr>\n",
       "      <th>1</th>\n",
       "      <td>1199149200</td>\n",
       "      <td>2008-01-01 01:00:00 +0000 UTC</td>\n",
       "      <td>0</td>\n",
       "      <td>Custom location</td>\n",
       "      <td>51.497256</td>\n",
       "      <td>-0.098179</td>\n",
       "      <td>8.92</td>\n",
       "      <td>5000.0</td>\n",
       "      <td>7.37</td>\n",
       "      <td>8.92</td>\n",
       "      <td>7.99</td>\n",
       "      <td>9.2</td>\n",
       "      <td>1026</td>\n",
       "      <td>NaN</td>\n",
       "      <td>NaN</td>\n",
       "      <td>90</td>\n",
       "      <td>1.0</td>\n",
       "      <td>260</td>\n",
       "      <td>NaN</td>\n",
       "      <td>NaN</td>\n",
       "      <td>NaN</td>\n",
       "      <td>NaN</td>\n",
       "      <td>NaN</td>\n",
       "      <td>90</td>\n",
       "      <td>804</td>\n",
       "      <td>Clouds</td>\n",
       "      <td>overcast clouds</td>\n",
       "      <td>04n</td>\n",
       "    </tr>\n",
       "    <tr>\n",
       "      <th>2</th>\n",
       "      <td>1199152800</td>\n",
       "      <td>2008-01-01 02:00:00 +0000 UTC</td>\n",
       "      <td>0</td>\n",
       "      <td>Custom location</td>\n",
       "      <td>51.497256</td>\n",
       "      <td>-0.098179</td>\n",
       "      <td>8.69</td>\n",
       "      <td>4900.0</td>\n",
       "      <td>7.14</td>\n",
       "      <td>7.58</td>\n",
       "      <td>7.85</td>\n",
       "      <td>8.9</td>\n",
       "      <td>1026</td>\n",
       "      <td>NaN</td>\n",
       "      <td>NaN</td>\n",
       "      <td>90</td>\n",
       "      <td>2.1</td>\n",
       "      <td>210</td>\n",
       "      <td>NaN</td>\n",
       "      <td>NaN</td>\n",
       "      <td>NaN</td>\n",
       "      <td>NaN</td>\n",
       "      <td>NaN</td>\n",
       "      <td>75</td>\n",
       "      <td>803</td>\n",
       "      <td>Clouds</td>\n",
       "      <td>broken clouds</td>\n",
       "      <td>04n</td>\n",
       "    </tr>\n",
       "    <tr>\n",
       "      <th>3</th>\n",
       "      <td>1199156400</td>\n",
       "      <td>2008-01-01 03:00:00 +0000 UTC</td>\n",
       "      <td>0</td>\n",
       "      <td>Custom location</td>\n",
       "      <td>51.497256</td>\n",
       "      <td>-0.098179</td>\n",
       "      <td>8.69</td>\n",
       "      <td>4100.0</td>\n",
       "      <td>7.14</td>\n",
       "      <td>8.15</td>\n",
       "      <td>7.25</td>\n",
       "      <td>8.9</td>\n",
       "      <td>1025</td>\n",
       "      <td>NaN</td>\n",
       "      <td>NaN</td>\n",
       "      <td>90</td>\n",
       "      <td>1.5</td>\n",
       "      <td>210</td>\n",
       "      <td>NaN</td>\n",
       "      <td>NaN</td>\n",
       "      <td>NaN</td>\n",
       "      <td>NaN</td>\n",
       "      <td>NaN</td>\n",
       "      <td>75</td>\n",
       "      <td>803</td>\n",
       "      <td>Clouds</td>\n",
       "      <td>broken clouds</td>\n",
       "      <td>04n</td>\n",
       "    </tr>\n",
       "    <tr>\n",
       "      <th>4</th>\n",
       "      <td>1199160000</td>\n",
       "      <td>2008-01-01 04:00:00 +0000 UTC</td>\n",
       "      <td>0</td>\n",
       "      <td>Custom location</td>\n",
       "      <td>51.497256</td>\n",
       "      <td>-0.098179</td>\n",
       "      <td>9.00</td>\n",
       "      <td>3900.0</td>\n",
       "      <td>7.45</td>\n",
       "      <td>8.51</td>\n",
       "      <td>7.45</td>\n",
       "      <td>9.3</td>\n",
       "      <td>1025</td>\n",
       "      <td>NaN</td>\n",
       "      <td>NaN</td>\n",
       "      <td>90</td>\n",
       "      <td>1.5</td>\n",
       "      <td>220</td>\n",
       "      <td>NaN</td>\n",
       "      <td>NaN</td>\n",
       "      <td>NaN</td>\n",
       "      <td>NaN</td>\n",
       "      <td>NaN</td>\n",
       "      <td>90</td>\n",
       "      <td>804</td>\n",
       "      <td>Clouds</td>\n",
       "      <td>overcast clouds</td>\n",
       "      <td>04n</td>\n",
       "    </tr>\n",
       "  </tbody>\n",
       "</table>\n",
       "</div>"
      ],
      "text/plain": [
       "           dt                         dt_iso  timezone        city_name  \\\n",
       "0  1199145600  2008-01-01 00:00:00 +0000 UTC         0  Custom location   \n",
       "1  1199149200  2008-01-01 01:00:00 +0000 UTC         0  Custom location   \n",
       "2  1199152800  2008-01-01 02:00:00 +0000 UTC         0  Custom location   \n",
       "3  1199156400  2008-01-01 03:00:00 +0000 UTC         0  Custom location   \n",
       "4  1199160000  2008-01-01 04:00:00 +0000 UTC         0  Custom location   \n",
       "\n",
       "         lat       lon  temp  visibility  dew_point  feels_like  temp_min  \\\n",
       "0  51.497256 -0.098179  9.07      5000.0       7.19        8.03      7.99   \n",
       "1  51.497256 -0.098179  8.92      5000.0       7.37        8.92      7.99   \n",
       "2  51.497256 -0.098179  8.69      4900.0       7.14        7.58      7.85   \n",
       "3  51.497256 -0.098179  8.69      4100.0       7.14        8.15      7.25   \n",
       "4  51.497256 -0.098179  9.00      3900.0       7.45        8.51      7.45   \n",
       "\n",
       "   temp_max  pressure  sea_level  grnd_level  humidity  wind_speed  wind_deg  \\\n",
       "0       9.4      1027        NaN         NaN        88         2.1       270   \n",
       "1       9.2      1026        NaN         NaN        90         1.0       260   \n",
       "2       8.9      1026        NaN         NaN        90         2.1       210   \n",
       "3       8.9      1025        NaN         NaN        90         1.5       210   \n",
       "4       9.3      1025        NaN         NaN        90         1.5       220   \n",
       "\n",
       "   wind_gust  rain_1h  rain_3h  snow_1h  snow_3h  clouds_all  weather_id  \\\n",
       "0        NaN      NaN      NaN      NaN      NaN          75         803   \n",
       "1        NaN      NaN      NaN      NaN      NaN          90         804   \n",
       "2        NaN      NaN      NaN      NaN      NaN          75         803   \n",
       "3        NaN      NaN      NaN      NaN      NaN          75         803   \n",
       "4        NaN      NaN      NaN      NaN      NaN          90         804   \n",
       "\n",
       "  weather_main weather_description weather_icon  \n",
       "0       Clouds       broken clouds          04n  \n",
       "1       Clouds     overcast clouds          04n  \n",
       "2       Clouds       broken clouds          04n  \n",
       "3       Clouds       broken clouds          04n  \n",
       "4       Clouds     overcast clouds          04n  "
      ]
     },
     "execution_count": 3,
     "metadata": {},
     "output_type": "execute_result"
    }
   ],
   "source": [
    "weather = pd.read_csv('weather.csv')\n",
    "weather.head()"
   ]
  },
  {
   "cell_type": "code",
   "execution_count": 4,
   "id": "a91a8f81",
   "metadata": {},
   "outputs": [
    {
     "data": {
      "text/plain": [
       "(35267, 28)"
      ]
     },
     "execution_count": 4,
     "metadata": {},
     "output_type": "execute_result"
    }
   ],
   "source": [
    "weather.shape"
   ]
  },
  {
   "cell_type": "code",
   "execution_count": 5,
   "id": "6ddc1554",
   "metadata": {},
   "outputs": [
    {
     "data": {
      "text/plain": [
       "['dt',\n",
       " 'dt_iso',\n",
       " 'timezone',\n",
       " 'city_name',\n",
       " 'lat',\n",
       " 'lon',\n",
       " 'temp',\n",
       " 'visibility',\n",
       " 'dew_point',\n",
       " 'feels_like',\n",
       " 'temp_min',\n",
       " 'temp_max',\n",
       " 'pressure',\n",
       " 'sea_level',\n",
       " 'grnd_level',\n",
       " 'humidity',\n",
       " 'wind_speed',\n",
       " 'wind_deg',\n",
       " 'wind_gust',\n",
       " 'rain_1h',\n",
       " 'rain_3h',\n",
       " 'snow_1h',\n",
       " 'snow_3h',\n",
       " 'clouds_all',\n",
       " 'weather_id',\n",
       " 'weather_main',\n",
       " 'weather_description',\n",
       " 'weather_icon']"
      ]
     },
     "execution_count": 5,
     "metadata": {},
     "output_type": "execute_result"
    }
   ],
   "source": [
    "list(weather.columns)"
   ]
  },
  {
   "cell_type": "code",
   "execution_count": 6,
   "id": "a9ee8ee9",
   "metadata": {},
   "outputs": [],
   "source": [
    "#cleaning up the file to remove columns with all/many NaNs, columns with no variance, etc.)"
   ]
  },
  {
   "cell_type": "code",
   "execution_count": 49,
   "id": "222fdf0e",
   "metadata": {},
   "outputs": [
    {
     "data": {
      "text/html": [
       "<div>\n",
       "<style scoped>\n",
       "    .dataframe tbody tr th:only-of-type {\n",
       "        vertical-align: middle;\n",
       "    }\n",
       "\n",
       "    .dataframe tbody tr th {\n",
       "        vertical-align: top;\n",
       "    }\n",
       "\n",
       "    .dataframe thead th {\n",
       "        text-align: right;\n",
       "    }\n",
       "</style>\n",
       "<table border=\"1\" class=\"dataframe\">\n",
       "  <thead>\n",
       "    <tr style=\"text-align: right;\">\n",
       "      <th></th>\n",
       "      <th>dt_iso</th>\n",
       "      <th>temp</th>\n",
       "      <th>feels_like</th>\n",
       "      <th>temp_min</th>\n",
       "      <th>temp_max</th>\n",
       "      <th>pressure</th>\n",
       "      <th>humidity</th>\n",
       "      <th>wind_speed</th>\n",
       "      <th>wind_deg</th>\n",
       "      <th>clouds_all</th>\n",
       "      <th>weather_id</th>\n",
       "      <th>weather_main</th>\n",
       "      <th>weather_description</th>\n",
       "      <th>weather_icon</th>\n",
       "    </tr>\n",
       "  </thead>\n",
       "  <tbody>\n",
       "    <tr>\n",
       "      <th>0</th>\n",
       "      <td>2008-01-01 00:00:00 +0000 UTC</td>\n",
       "      <td>9.07</td>\n",
       "      <td>8.03</td>\n",
       "      <td>7.99</td>\n",
       "      <td>9.4</td>\n",
       "      <td>1027</td>\n",
       "      <td>88</td>\n",
       "      <td>2.1</td>\n",
       "      <td>270</td>\n",
       "      <td>75</td>\n",
       "      <td>803</td>\n",
       "      <td>Clouds</td>\n",
       "      <td>broken clouds</td>\n",
       "      <td>04n</td>\n",
       "    </tr>\n",
       "    <tr>\n",
       "      <th>1</th>\n",
       "      <td>2008-01-01 01:00:00 +0000 UTC</td>\n",
       "      <td>8.92</td>\n",
       "      <td>8.92</td>\n",
       "      <td>7.99</td>\n",
       "      <td>9.2</td>\n",
       "      <td>1026</td>\n",
       "      <td>90</td>\n",
       "      <td>1.0</td>\n",
       "      <td>260</td>\n",
       "      <td>90</td>\n",
       "      <td>804</td>\n",
       "      <td>Clouds</td>\n",
       "      <td>overcast clouds</td>\n",
       "      <td>04n</td>\n",
       "    </tr>\n",
       "    <tr>\n",
       "      <th>2</th>\n",
       "      <td>2008-01-01 02:00:00 +0000 UTC</td>\n",
       "      <td>8.69</td>\n",
       "      <td>7.58</td>\n",
       "      <td>7.85</td>\n",
       "      <td>8.9</td>\n",
       "      <td>1026</td>\n",
       "      <td>90</td>\n",
       "      <td>2.1</td>\n",
       "      <td>210</td>\n",
       "      <td>75</td>\n",
       "      <td>803</td>\n",
       "      <td>Clouds</td>\n",
       "      <td>broken clouds</td>\n",
       "      <td>04n</td>\n",
       "    </tr>\n",
       "    <tr>\n",
       "      <th>3</th>\n",
       "      <td>2008-01-01 03:00:00 +0000 UTC</td>\n",
       "      <td>8.69</td>\n",
       "      <td>8.15</td>\n",
       "      <td>7.25</td>\n",
       "      <td>8.9</td>\n",
       "      <td>1025</td>\n",
       "      <td>90</td>\n",
       "      <td>1.5</td>\n",
       "      <td>210</td>\n",
       "      <td>75</td>\n",
       "      <td>803</td>\n",
       "      <td>Clouds</td>\n",
       "      <td>broken clouds</td>\n",
       "      <td>04n</td>\n",
       "    </tr>\n",
       "    <tr>\n",
       "      <th>4</th>\n",
       "      <td>2008-01-01 04:00:00 +0000 UTC</td>\n",
       "      <td>9.00</td>\n",
       "      <td>8.51</td>\n",
       "      <td>7.45</td>\n",
       "      <td>9.3</td>\n",
       "      <td>1025</td>\n",
       "      <td>90</td>\n",
       "      <td>1.5</td>\n",
       "      <td>220</td>\n",
       "      <td>90</td>\n",
       "      <td>804</td>\n",
       "      <td>Clouds</td>\n",
       "      <td>overcast clouds</td>\n",
       "      <td>04n</td>\n",
       "    </tr>\n",
       "  </tbody>\n",
       "</table>\n",
       "</div>"
      ],
      "text/plain": [
       "                          dt_iso  temp  feels_like  temp_min  temp_max  \\\n",
       "0  2008-01-01 00:00:00 +0000 UTC  9.07        8.03      7.99       9.4   \n",
       "1  2008-01-01 01:00:00 +0000 UTC  8.92        8.92      7.99       9.2   \n",
       "2  2008-01-01 02:00:00 +0000 UTC  8.69        7.58      7.85       8.9   \n",
       "3  2008-01-01 03:00:00 +0000 UTC  8.69        8.15      7.25       8.9   \n",
       "4  2008-01-01 04:00:00 +0000 UTC  9.00        8.51      7.45       9.3   \n",
       "\n",
       "   pressure  humidity  wind_speed  wind_deg  clouds_all  weather_id  \\\n",
       "0      1027        88         2.1       270          75         803   \n",
       "1      1026        90         1.0       260          90         804   \n",
       "2      1026        90         2.1       210          75         803   \n",
       "3      1025        90         1.5       210          75         803   \n",
       "4      1025        90         1.5       220          90         804   \n",
       "\n",
       "  weather_main weather_description weather_icon  \n",
       "0       Clouds       broken clouds          04n  \n",
       "1       Clouds     overcast clouds          04n  \n",
       "2       Clouds       broken clouds          04n  \n",
       "3       Clouds       broken clouds          04n  \n",
       "4       Clouds     overcast clouds          04n  "
      ]
     },
     "execution_count": 49,
     "metadata": {},
     "output_type": "execute_result"
    }
   ],
   "source": [
    "weather2 = weather.drop(['dt','timezone', 'city_name', 'lat', 'lon', 'sea_level', 'grnd_level', 'wind_gust', 'rain_1h', 'rain_3h', 'snow_1h', 'snow_3h','visibility','dew_point'],axis=1)\n",
    "weather2.head()"
   ]
  },
  {
   "cell_type": "code",
   "execution_count": 50,
   "id": "74b7c631",
   "metadata": {},
   "outputs": [
    {
     "data": {
      "text/plain": [
       "dt_iso                  object\n",
       "temp                   float64\n",
       "feels_like             float64\n",
       "temp_min               float64\n",
       "temp_max               float64\n",
       "pressure                 int64\n",
       "humidity                 int64\n",
       "wind_speed             float64\n",
       "wind_deg                 int64\n",
       "clouds_all               int64\n",
       "weather_id               int64\n",
       "weather_main            object\n",
       "weather_description     object\n",
       "weather_icon            object\n",
       "dtype: object"
      ]
     },
     "execution_count": 50,
     "metadata": {},
     "output_type": "execute_result"
    }
   ],
   "source": [
    "weather2.dtypes"
   ]
  },
  {
   "cell_type": "code",
   "execution_count": 51,
   "id": "4e303853",
   "metadata": {
    "scrolled": true
   },
   "outputs": [
    {
     "data": {
      "text/plain": [
       "Clouds          0.469050\n",
       "Clear           0.350810\n",
       "Rain            0.144129\n",
       "Mist            0.017268\n",
       "Drizzle         0.006919\n",
       "Snow            0.004849\n",
       "Haze            0.003743\n",
       "Fog             0.002637\n",
       "Thunderstorm    0.000595\n",
       "Name: weather_main, dtype: float64"
      ]
     },
     "execution_count": 51,
     "metadata": {},
     "output_type": "execute_result"
    }
   ],
   "source": [
    "weather2.weather_main.value_counts(normalize=True)"
   ]
  },
  {
   "cell_type": "code",
   "execution_count": 52,
   "id": "c8123268",
   "metadata": {},
   "outputs": [
    {
     "data": {
      "text/plain": [
       "01n    0.211387\n",
       "04n    0.143165\n",
       "01d    0.139422\n",
       "04d    0.119602\n",
       "10d    0.075453\n",
       "02d    0.074092\n",
       "03d    0.068449\n",
       "10n    0.053421\n",
       "02n    0.035189\n",
       "03n    0.028554\n",
       "09d    0.017126\n",
       "50d    0.016134\n",
       "50n    0.007514\n",
       "09n    0.005047\n",
       "13n    0.002467\n",
       "13d    0.002382\n",
       "11d    0.000539\n",
       "11n    0.000057\n",
       "Name: weather_icon, dtype: float64"
      ]
     },
     "execution_count": 52,
     "metadata": {},
     "output_type": "execute_result"
    }
   ],
   "source": [
    "weather2.weather_icon.value_counts(normalize=True)"
   ]
  },
  {
   "cell_type": "code",
   "execution_count": 11,
   "id": "cf2d952e",
   "metadata": {},
   "outputs": [],
   "source": [
    "#Both columns with objects have a reasonably low number of categories so won't be a problem to categorize later on. "
   ]
  },
  {
   "cell_type": "code",
   "execution_count": 53,
   "id": "e36e9a4f",
   "metadata": {
    "scrolled": true
   },
   "outputs": [
    {
     "data": {
      "text/plain": [
       "dt_iso                 0.0\n",
       "temp                   0.0\n",
       "feels_like             0.0\n",
       "temp_min               0.0\n",
       "temp_max               0.0\n",
       "pressure               0.0\n",
       "humidity               0.0\n",
       "wind_speed             0.0\n",
       "wind_deg               0.0\n",
       "clouds_all             0.0\n",
       "weather_id             0.0\n",
       "weather_main           0.0\n",
       "weather_description    0.0\n",
       "weather_icon           0.0\n",
       "dtype: float64"
      ]
     },
     "execution_count": 53,
     "metadata": {},
     "output_type": "execute_result"
    }
   ],
   "source": [
    "round(weather2.isna().sum()/len(weather2),4)*100"
   ]
  },
  {
   "cell_type": "code",
   "execution_count": 13,
   "id": "fd913d56",
   "metadata": {},
   "outputs": [],
   "source": [
    "#we had some NaNs in the visibility column, but column was dropped as not present in the \"current weather\" df. "
   ]
  },
  {
   "cell_type": "code",
   "execution_count": 20,
   "id": "0ae89b5e",
   "metadata": {},
   "outputs": [],
   "source": [
    "#Now let's tackle the dt_iso - remove part of the string and convert the rest to an actual datetime. "
   ]
  },
  {
   "cell_type": "code",
   "execution_count": 21,
   "id": "7fa8d645",
   "metadata": {},
   "outputs": [],
   "source": [
    "weather2['dt_iso'] = weather2['dt_iso'].str[:-10]"
   ]
  },
  {
   "cell_type": "code",
   "execution_count": 22,
   "id": "20b76e52",
   "metadata": {},
   "outputs": [],
   "source": [
    "weather2['dt_iso'] = pd.to_datetime(weather2['dt_iso'], format='%Y-%m-%d %H:%M:%S')"
   ]
  },
  {
   "cell_type": "code",
   "execution_count": 23,
   "id": "4f398fe0",
   "metadata": {},
   "outputs": [
    {
     "data": {
      "text/plain": [
       "dt_iso                 datetime64[ns]\n",
       "temp                          float64\n",
       "visibility                    float64\n",
       "dew_point                     float64\n",
       "feels_like                    float64\n",
       "temp_min                      float64\n",
       "temp_max                      float64\n",
       "pressure                        int64\n",
       "humidity                        int64\n",
       "wind_speed                    float64\n",
       "wind_deg                        int64\n",
       "clouds_all                      int64\n",
       "weather_id                      int64\n",
       "weather_main                   object\n",
       "weather_description            object\n",
       "weather_icon                   object\n",
       "dtype: object"
      ]
     },
     "execution_count": 23,
     "metadata": {},
     "output_type": "execute_result"
    }
   ],
   "source": [
    "weather2.dtypes"
   ]
  },
  {
   "cell_type": "code",
   "execution_count": 24,
   "id": "bed7d37a",
   "metadata": {},
   "outputs": [],
   "source": [
    "#weather2.to_csv('weather_clean.csv',index=False)"
   ]
  },
  {
   "cell_type": "code",
   "execution_count": 25,
   "id": "76e57ea3",
   "metadata": {},
   "outputs": [],
   "source": [
    "#weather_clean = pd.read_csv('weather_clean.csv')"
   ]
  },
  {
   "cell_type": "code",
   "execution_count": 26,
   "id": "866fcaab",
   "metadata": {},
   "outputs": [],
   "source": [
    "#weather_clean.head()"
   ]
  },
  {
   "cell_type": "code",
   "execution_count": 27,
   "id": "24ff0d8a",
   "metadata": {},
   "outputs": [],
   "source": [
    "#weather_clean.dtypes"
   ]
  },
  {
   "cell_type": "code",
   "execution_count": 28,
   "id": "61d6429f",
   "metadata": {},
   "outputs": [],
   "source": [
    "#after going to csv and back the dt_iso is back to an object! "
   ]
  },
  {
   "cell_type": "code",
   "execution_count": null,
   "id": "f5f65c63",
   "metadata": {},
   "outputs": [],
   "source": []
  },
  {
   "cell_type": "markdown",
   "id": "4bd9729a",
   "metadata": {},
   "source": [
    "# Now the sales data"
   ]
  },
  {
   "cell_type": "code",
   "execution_count": 29,
   "id": "2cb86077",
   "metadata": {},
   "outputs": [
    {
     "data": {
      "text/html": [
       "<div>\n",
       "<style scoped>\n",
       "    .dataframe tbody tr th:only-of-type {\n",
       "        vertical-align: middle;\n",
       "    }\n",
       "\n",
       "    .dataframe tbody tr th {\n",
       "        vertical-align: top;\n",
       "    }\n",
       "\n",
       "    .dataframe thead th {\n",
       "        text-align: right;\n",
       "    }\n",
       "</style>\n",
       "<table border=\"1\" class=\"dataframe\">\n",
       "  <thead>\n",
       "    <tr style=\"text-align: right;\">\n",
       "      <th></th>\n",
       "      <th>Unnamed: 0</th>\n",
       "      <th>Invoice</th>\n",
       "      <th>StockCode</th>\n",
       "      <th>Description</th>\n",
       "      <th>Quantity</th>\n",
       "      <th>InvoiceDate</th>\n",
       "      <th>Price</th>\n",
       "      <th>Customer ID</th>\n",
       "    </tr>\n",
       "  </thead>\n",
       "  <tbody>\n",
       "    <tr>\n",
       "      <th>0</th>\n",
       "      <td>0</td>\n",
       "      <td>489434</td>\n",
       "      <td>85048</td>\n",
       "      <td>15CM CHRISTMAS GLASS BALL 20 LIGHTS</td>\n",
       "      <td>12</td>\n",
       "      <td>2009-12-01 07:45:00</td>\n",
       "      <td>6.95</td>\n",
       "      <td>13085.0</td>\n",
       "    </tr>\n",
       "    <tr>\n",
       "      <th>1</th>\n",
       "      <td>1</td>\n",
       "      <td>489434</td>\n",
       "      <td>79323P</td>\n",
       "      <td>PINK CHERRY LIGHTS</td>\n",
       "      <td>12</td>\n",
       "      <td>2009-12-01 07:45:00</td>\n",
       "      <td>6.75</td>\n",
       "      <td>13085.0</td>\n",
       "    </tr>\n",
       "    <tr>\n",
       "      <th>2</th>\n",
       "      <td>2</td>\n",
       "      <td>489434</td>\n",
       "      <td>79323W</td>\n",
       "      <td>WHITE CHERRY LIGHTS</td>\n",
       "      <td>12</td>\n",
       "      <td>2009-12-01 07:45:00</td>\n",
       "      <td>6.75</td>\n",
       "      <td>13085.0</td>\n",
       "    </tr>\n",
       "    <tr>\n",
       "      <th>3</th>\n",
       "      <td>3</td>\n",
       "      <td>489434</td>\n",
       "      <td>22041</td>\n",
       "      <td>RECORD FRAME 7\" SINGLE SIZE</td>\n",
       "      <td>48</td>\n",
       "      <td>2009-12-01 07:45:00</td>\n",
       "      <td>2.10</td>\n",
       "      <td>13085.0</td>\n",
       "    </tr>\n",
       "    <tr>\n",
       "      <th>4</th>\n",
       "      <td>4</td>\n",
       "      <td>489434</td>\n",
       "      <td>21232</td>\n",
       "      <td>STRAWBERRY CERAMIC TRINKET BOX</td>\n",
       "      <td>24</td>\n",
       "      <td>2009-12-01 07:45:00</td>\n",
       "      <td>1.25</td>\n",
       "      <td>13085.0</td>\n",
       "    </tr>\n",
       "  </tbody>\n",
       "</table>\n",
       "</div>"
      ],
      "text/plain": [
       "   Unnamed: 0 Invoice StockCode                          Description  \\\n",
       "0           0  489434     85048  15CM CHRISTMAS GLASS BALL 20 LIGHTS   \n",
       "1           1  489434    79323P                   PINK CHERRY LIGHTS   \n",
       "2           2  489434    79323W                  WHITE CHERRY LIGHTS   \n",
       "3           3  489434     22041         RECORD FRAME 7\" SINGLE SIZE    \n",
       "4           4  489434     21232       STRAWBERRY CERAMIC TRINKET BOX   \n",
       "\n",
       "   Quantity          InvoiceDate  Price  Customer ID  \n",
       "0        12  2009-12-01 07:45:00   6.95      13085.0  \n",
       "1        12  2009-12-01 07:45:00   6.75      13085.0  \n",
       "2        12  2009-12-01 07:45:00   6.75      13085.0  \n",
       "3        48  2009-12-01 07:45:00   2.10      13085.0  \n",
       "4        24  2009-12-01 07:45:00   1.25      13085.0  "
      ]
     },
     "execution_count": 29,
     "metadata": {},
     "output_type": "execute_result"
    }
   ],
   "source": [
    "sales = pd.read_csv('sales.csv')\n",
    "sales.head()"
   ]
  },
  {
   "cell_type": "code",
   "execution_count": 30,
   "id": "3ee777fa",
   "metadata": {},
   "outputs": [],
   "source": [
    "sales = sales.drop(['Unnamed: 0'],axis=1)"
   ]
  },
  {
   "cell_type": "code",
   "execution_count": 31,
   "id": "eb31a2d4",
   "metadata": {},
   "outputs": [
    {
     "data": {
      "text/plain": [
       "(981330, 7)"
      ]
     },
     "execution_count": 31,
     "metadata": {},
     "output_type": "execute_result"
    }
   ],
   "source": [
    "sales.shape"
   ]
  },
  {
   "cell_type": "code",
   "execution_count": 32,
   "id": "baf50b03",
   "metadata": {},
   "outputs": [],
   "source": [
    "sales = sales.drop_duplicates()"
   ]
  },
  {
   "cell_type": "code",
   "execution_count": 33,
   "id": "a4a63b0d",
   "metadata": {},
   "outputs": [
    {
     "data": {
      "text/plain": [
       "(948321, 7)"
      ]
     },
     "execution_count": 33,
     "metadata": {},
     "output_type": "execute_result"
    }
   ],
   "source": [
    "sales.shape"
   ]
  },
  {
   "cell_type": "code",
   "execution_count": 34,
   "id": "c9b5d9a4",
   "metadata": {},
   "outputs": [
    {
     "data": {
      "text/plain": [
       "Invoice         object\n",
       "StockCode       object\n",
       "Description     object\n",
       "Quantity         int64\n",
       "InvoiceDate     object\n",
       "Price          float64\n",
       "Customer ID    float64\n",
       "dtype: object"
      ]
     },
     "execution_count": 34,
     "metadata": {},
     "output_type": "execute_result"
    }
   ],
   "source": [
    "sales.dtypes"
   ]
  },
  {
   "cell_type": "code",
   "execution_count": 35,
   "id": "cbc6ce40",
   "metadata": {},
   "outputs": [],
   "source": [
    "sales['InvoiceDate'] = pd.to_datetime(sales['InvoiceDate'], format='%Y-%m-%d %H:%M:%S')"
   ]
  },
  {
   "cell_type": "code",
   "execution_count": 36,
   "id": "f632fbf3",
   "metadata": {},
   "outputs": [
    {
     "data": {
      "text/html": [
       "<div>\n",
       "<style scoped>\n",
       "    .dataframe tbody tr th:only-of-type {\n",
       "        vertical-align: middle;\n",
       "    }\n",
       "\n",
       "    .dataframe tbody tr th {\n",
       "        vertical-align: top;\n",
       "    }\n",
       "\n",
       "    .dataframe thead th {\n",
       "        text-align: right;\n",
       "    }\n",
       "</style>\n",
       "<table border=\"1\" class=\"dataframe\">\n",
       "  <thead>\n",
       "    <tr style=\"text-align: right;\">\n",
       "      <th></th>\n",
       "      <th>Invoice</th>\n",
       "      <th>StockCode</th>\n",
       "      <th>Description</th>\n",
       "      <th>Quantity</th>\n",
       "      <th>InvoiceDate</th>\n",
       "      <th>Price</th>\n",
       "      <th>Customer ID</th>\n",
       "    </tr>\n",
       "  </thead>\n",
       "  <tbody>\n",
       "    <tr>\n",
       "      <th>0</th>\n",
       "      <td>489434</td>\n",
       "      <td>85048</td>\n",
       "      <td>15CM CHRISTMAS GLASS BALL 20 LIGHTS</td>\n",
       "      <td>12</td>\n",
       "      <td>2009-12-01 07:45:00</td>\n",
       "      <td>6.95</td>\n",
       "      <td>13085.0</td>\n",
       "    </tr>\n",
       "    <tr>\n",
       "      <th>1</th>\n",
       "      <td>489434</td>\n",
       "      <td>79323P</td>\n",
       "      <td>PINK CHERRY LIGHTS</td>\n",
       "      <td>12</td>\n",
       "      <td>2009-12-01 07:45:00</td>\n",
       "      <td>6.75</td>\n",
       "      <td>13085.0</td>\n",
       "    </tr>\n",
       "    <tr>\n",
       "      <th>2</th>\n",
       "      <td>489434</td>\n",
       "      <td>79323W</td>\n",
       "      <td>WHITE CHERRY LIGHTS</td>\n",
       "      <td>12</td>\n",
       "      <td>2009-12-01 07:45:00</td>\n",
       "      <td>6.75</td>\n",
       "      <td>13085.0</td>\n",
       "    </tr>\n",
       "    <tr>\n",
       "      <th>3</th>\n",
       "      <td>489434</td>\n",
       "      <td>22041</td>\n",
       "      <td>RECORD FRAME 7\" SINGLE SIZE</td>\n",
       "      <td>48</td>\n",
       "      <td>2009-12-01 07:45:00</td>\n",
       "      <td>2.10</td>\n",
       "      <td>13085.0</td>\n",
       "    </tr>\n",
       "    <tr>\n",
       "      <th>4</th>\n",
       "      <td>489434</td>\n",
       "      <td>21232</td>\n",
       "      <td>STRAWBERRY CERAMIC TRINKET BOX</td>\n",
       "      <td>24</td>\n",
       "      <td>2009-12-01 07:45:00</td>\n",
       "      <td>1.25</td>\n",
       "      <td>13085.0</td>\n",
       "    </tr>\n",
       "  </tbody>\n",
       "</table>\n",
       "</div>"
      ],
      "text/plain": [
       "  Invoice StockCode                          Description  Quantity  \\\n",
       "0  489434     85048  15CM CHRISTMAS GLASS BALL 20 LIGHTS        12   \n",
       "1  489434    79323P                   PINK CHERRY LIGHTS        12   \n",
       "2  489434    79323W                  WHITE CHERRY LIGHTS        12   \n",
       "3  489434     22041         RECORD FRAME 7\" SINGLE SIZE         48   \n",
       "4  489434     21232       STRAWBERRY CERAMIC TRINKET BOX        24   \n",
       "\n",
       "          InvoiceDate  Price  Customer ID  \n",
       "0 2009-12-01 07:45:00   6.95      13085.0  \n",
       "1 2009-12-01 07:45:00   6.75      13085.0  \n",
       "2 2009-12-01 07:45:00   6.75      13085.0  \n",
       "3 2009-12-01 07:45:00   2.10      13085.0  \n",
       "4 2009-12-01 07:45:00   1.25      13085.0  "
      ]
     },
     "execution_count": 36,
     "metadata": {},
     "output_type": "execute_result"
    }
   ],
   "source": [
    "sales.head()"
   ]
  },
  {
   "cell_type": "code",
   "execution_count": 37,
   "id": "9ea8c98b",
   "metadata": {},
   "outputs": [
    {
     "data": {
      "text/plain": [
       "Invoice                object\n",
       "StockCode              object\n",
       "Description            object\n",
       "Quantity                int64\n",
       "InvoiceDate    datetime64[ns]\n",
       "Price                 float64\n",
       "Customer ID           float64\n",
       "dtype: object"
      ]
     },
     "execution_count": 37,
     "metadata": {},
     "output_type": "execute_result"
    }
   ],
   "source": [
    "sales.dtypes"
   ]
  },
  {
   "cell_type": "markdown",
   "id": "0a5ab720",
   "metadata": {},
   "source": [
    "# Now the current weather data/API call"
   ]
  },
  {
   "cell_type": "code",
   "execution_count": 38,
   "id": "c9b6ef2f",
   "metadata": {},
   "outputs": [],
   "source": [
    "import requests"
   ]
  },
  {
   "cell_type": "code",
   "execution_count": 39,
   "id": "1449f56a",
   "metadata": {},
   "outputs": [],
   "source": [
    "#delete API key before uploading to Github!!! "
   ]
  },
  {
   "cell_type": "code",
   "execution_count": 40,
   "id": "d4c8570a",
   "metadata": {},
   "outputs": [],
   "source": [
    "response = requests.get(\"http://api.openweathermap.org/data/2.5/find?q=London,UK&units=metric&appid=d0ea3794a0dc22414dc46fce5459e53d\")"
   ]
  },
  {
   "cell_type": "code",
   "execution_count": 41,
   "id": "b3b973b6",
   "metadata": {},
   "outputs": [
    {
     "data": {
      "text/plain": [
       "<Response [200]>"
      ]
     },
     "execution_count": 41,
     "metadata": {},
     "output_type": "execute_result"
    }
   ],
   "source": [
    "response"
   ]
  },
  {
   "cell_type": "code",
   "execution_count": 42,
   "id": "abb66ddf",
   "metadata": {},
   "outputs": [
    {
     "name": "stdout",
     "output_type": "stream",
     "text": [
      "{'message': 'accurate', 'cod': '200', 'count': 1, 'list': [{'id': 2643743, 'name': 'London', 'coord': {'lat': 51.5085, 'lon': -0.1257}, 'main': {'temp': 6.27, 'feels_like': 4.62, 'temp_min': 4.5, 'temp_max': 8.18, 'pressure': 1026, 'humidity': 65}, 'dt': 1646651353, 'wind': {'speed': 2.24, 'deg': 93}, 'sys': {'country': 'GB'}, 'rain': None, 'snow': None, 'clouds': {'all': 100}, 'weather': [{'id': 804, 'main': 'Clouds', 'description': 'overcast clouds', 'icon': '04d'}]}]}\n"
     ]
    }
   ],
   "source": [
    "print(response.json())"
   ]
  },
  {
   "cell_type": "code",
   "execution_count": null,
   "id": "3eac6919",
   "metadata": {},
   "outputs": [],
   "source": []
  },
  {
   "cell_type": "code",
   "execution_count": 43,
   "id": "7dc0d634",
   "metadata": {},
   "outputs": [
    {
     "data": {
      "text/html": [
       "<div>\n",
       "<style scoped>\n",
       "    .dataframe tbody tr th:only-of-type {\n",
       "        vertical-align: middle;\n",
       "    }\n",
       "\n",
       "    .dataframe tbody tr th {\n",
       "        vertical-align: top;\n",
       "    }\n",
       "\n",
       "    .dataframe thead th {\n",
       "        text-align: right;\n",
       "    }\n",
       "</style>\n",
       "<table border=\"1\" class=\"dataframe\">\n",
       "  <thead>\n",
       "    <tr style=\"text-align: right;\">\n",
       "      <th></th>\n",
       "      <th>message</th>\n",
       "      <th>cod</th>\n",
       "      <th>count</th>\n",
       "      <th>list</th>\n",
       "    </tr>\n",
       "  </thead>\n",
       "  <tbody>\n",
       "    <tr>\n",
       "      <th>0</th>\n",
       "      <td>accurate</td>\n",
       "      <td>200</td>\n",
       "      <td>1</td>\n",
       "      <td>{'id': 2643743, 'name': 'London', 'coord': {'l...</td>\n",
       "    </tr>\n",
       "  </tbody>\n",
       "</table>\n",
       "</div>"
      ],
      "text/plain": [
       "    message  cod  count                                               list\n",
       "0  accurate  200      1  {'id': 2643743, 'name': 'London', 'coord': {'l..."
      ]
     },
     "execution_count": 43,
     "metadata": {},
     "output_type": "execute_result"
    }
   ],
   "source": [
    "current = response.text\n",
    "current_df = pd.read_json(current, orient='records')\n",
    "current_df"
   ]
  },
  {
   "cell_type": "code",
   "execution_count": 44,
   "id": "a5a0c6b2",
   "metadata": {
    "scrolled": true
   },
   "outputs": [
    {
     "data": {
      "text/html": [
       "<div>\n",
       "<style scoped>\n",
       "    .dataframe tbody tr th:only-of-type {\n",
       "        vertical-align: middle;\n",
       "    }\n",
       "\n",
       "    .dataframe tbody tr th {\n",
       "        vertical-align: top;\n",
       "    }\n",
       "\n",
       "    .dataframe thead th {\n",
       "        text-align: right;\n",
       "    }\n",
       "</style>\n",
       "<table border=\"1\" class=\"dataframe\">\n",
       "  <thead>\n",
       "    <tr style=\"text-align: right;\">\n",
       "      <th></th>\n",
       "      <th>name</th>\n",
       "      <th>dt</th>\n",
       "      <th>rain</th>\n",
       "      <th>snow</th>\n",
       "      <th>coord.lat</th>\n",
       "      <th>coord.lon</th>\n",
       "      <th>main.temp</th>\n",
       "      <th>main.feels_like</th>\n",
       "      <th>main.temp_min</th>\n",
       "      <th>main.temp_max</th>\n",
       "      <th>main.pressure</th>\n",
       "      <th>main.humidity</th>\n",
       "      <th>wind.speed</th>\n",
       "      <th>wind.deg</th>\n",
       "      <th>sys.country</th>\n",
       "      <th>clouds.all</th>\n",
       "    </tr>\n",
       "  </thead>\n",
       "  <tbody>\n",
       "    <tr>\n",
       "      <th>0</th>\n",
       "      <td>London</td>\n",
       "      <td>1646651353</td>\n",
       "      <td>None</td>\n",
       "      <td>None</td>\n",
       "      <td>51.5085</td>\n",
       "      <td>-0.1257</td>\n",
       "      <td>6.27</td>\n",
       "      <td>4.62</td>\n",
       "      <td>4.5</td>\n",
       "      <td>8.18</td>\n",
       "      <td>1026</td>\n",
       "      <td>65</td>\n",
       "      <td>2.24</td>\n",
       "      <td>93</td>\n",
       "      <td>GB</td>\n",
       "      <td>100</td>\n",
       "    </tr>\n",
       "  </tbody>\n",
       "</table>\n",
       "</div>"
      ],
      "text/plain": [
       "     name          dt  rain  snow  coord.lat  coord.lon  main.temp  \\\n",
       "0  London  1646651353  None  None    51.5085    -0.1257       6.27   \n",
       "\n",
       "   main.feels_like  main.temp_min  main.temp_max  main.pressure  \\\n",
       "0             4.62            4.5           8.18           1026   \n",
       "\n",
       "   main.humidity  wind.speed  wind.deg sys.country  clouds.all  \n",
       "0             65        2.24        93          GB         100  "
      ]
     },
     "execution_count": 44,
     "metadata": {},
     "output_type": "execute_result"
    }
   ],
   "source": [
    "flat1 = json_normalize(current_df['list'])\n",
    "flat1_df = pd.DataFrame(flat1)\n",
    "flat1_df = flat1_df.drop(['id','weather'],axis=1)\n",
    "flat1_df"
   ]
  },
  {
   "cell_type": "code",
   "execution_count": 45,
   "id": "d6eef625",
   "metadata": {
    "scrolled": true
   },
   "outputs": [
    {
     "data": {
      "text/html": [
       "<div>\n",
       "<style scoped>\n",
       "    .dataframe tbody tr th:only-of-type {\n",
       "        vertical-align: middle;\n",
       "    }\n",
       "\n",
       "    .dataframe tbody tr th {\n",
       "        vertical-align: top;\n",
       "    }\n",
       "\n",
       "    .dataframe thead th {\n",
       "        text-align: right;\n",
       "    }\n",
       "</style>\n",
       "<table border=\"1\" class=\"dataframe\">\n",
       "  <thead>\n",
       "    <tr style=\"text-align: right;\">\n",
       "      <th></th>\n",
       "      <th>id</th>\n",
       "      <th>main</th>\n",
       "      <th>description</th>\n",
       "      <th>icon</th>\n",
       "    </tr>\n",
       "  </thead>\n",
       "  <tbody>\n",
       "    <tr>\n",
       "      <th>0</th>\n",
       "      <td>804</td>\n",
       "      <td>Clouds</td>\n",
       "      <td>overcast clouds</td>\n",
       "      <td>04d</td>\n",
       "    </tr>\n",
       "  </tbody>\n",
       "</table>\n",
       "</div>"
      ],
      "text/plain": [
       "    id    main      description icon\n",
       "0  804  Clouds  overcast clouds  04d"
      ]
     },
     "execution_count": 45,
     "metadata": {},
     "output_type": "execute_result"
    }
   ],
   "source": [
    "weather_col = json_normalize(flat1['weather'][0])\n",
    "weather_df = pd.DataFrame(weather_col)\n",
    "weather_df"
   ]
  },
  {
   "cell_type": "code",
   "execution_count": 46,
   "id": "3529c598",
   "metadata": {
    "scrolled": false
   },
   "outputs": [
    {
     "data": {
      "text/html": [
       "<div>\n",
       "<style scoped>\n",
       "    .dataframe tbody tr th:only-of-type {\n",
       "        vertical-align: middle;\n",
       "    }\n",
       "\n",
       "    .dataframe tbody tr th {\n",
       "        vertical-align: top;\n",
       "    }\n",
       "\n",
       "    .dataframe thead th {\n",
       "        text-align: right;\n",
       "    }\n",
       "</style>\n",
       "<table border=\"1\" class=\"dataframe\">\n",
       "  <thead>\n",
       "    <tr style=\"text-align: right;\">\n",
       "      <th></th>\n",
       "      <th>name</th>\n",
       "      <th>dt</th>\n",
       "      <th>rain</th>\n",
       "      <th>snow</th>\n",
       "      <th>coord.lat</th>\n",
       "      <th>coord.lon</th>\n",
       "      <th>main.temp</th>\n",
       "      <th>main.feels_like</th>\n",
       "      <th>main.temp_min</th>\n",
       "      <th>main.temp_max</th>\n",
       "      <th>main.pressure</th>\n",
       "      <th>main.humidity</th>\n",
       "      <th>wind.speed</th>\n",
       "      <th>wind.deg</th>\n",
       "      <th>sys.country</th>\n",
       "      <th>clouds.all</th>\n",
       "      <th>id</th>\n",
       "      <th>main</th>\n",
       "      <th>description</th>\n",
       "      <th>icon</th>\n",
       "    </tr>\n",
       "  </thead>\n",
       "  <tbody>\n",
       "    <tr>\n",
       "      <th>0</th>\n",
       "      <td>London</td>\n",
       "      <td>1646651353</td>\n",
       "      <td>None</td>\n",
       "      <td>None</td>\n",
       "      <td>51.5085</td>\n",
       "      <td>-0.1257</td>\n",
       "      <td>6.27</td>\n",
       "      <td>4.62</td>\n",
       "      <td>4.5</td>\n",
       "      <td>8.18</td>\n",
       "      <td>1026</td>\n",
       "      <td>65</td>\n",
       "      <td>2.24</td>\n",
       "      <td>93</td>\n",
       "      <td>GB</td>\n",
       "      <td>100</td>\n",
       "      <td>804</td>\n",
       "      <td>Clouds</td>\n",
       "      <td>overcast clouds</td>\n",
       "      <td>04d</td>\n",
       "    </tr>\n",
       "  </tbody>\n",
       "</table>\n",
       "</div>"
      ],
      "text/plain": [
       "     name          dt  rain  snow  coord.lat  coord.lon  main.temp  \\\n",
       "0  London  1646651353  None  None    51.5085    -0.1257       6.27   \n",
       "\n",
       "   main.feels_like  main.temp_min  main.temp_max  main.pressure  \\\n",
       "0             4.62            4.5           8.18           1026   \n",
       "\n",
       "   main.humidity  wind.speed  wind.deg sys.country  clouds.all   id    main  \\\n",
       "0             65        2.24        93          GB         100  804  Clouds   \n",
       "\n",
       "       description icon  \n",
       "0  overcast clouds  04d  "
      ]
     },
     "execution_count": 46,
     "metadata": {},
     "output_type": "execute_result"
    }
   ],
   "source": [
    "current_weather = pd.concat([flat1_df,weather_df],axis=1)\n",
    "current_weather"
   ]
  },
  {
   "cell_type": "code",
   "execution_count": null,
   "id": "b29a2fb2",
   "metadata": {},
   "outputs": [],
   "source": [
    "#Now we need to \"format\" the current weather df so it matches the weather 2 df for modelling later. "
   ]
  },
  {
   "cell_type": "code",
   "execution_count": 55,
   "id": "24c6c454",
   "metadata": {
    "scrolled": true
   },
   "outputs": [
    {
     "data": {
      "text/plain": [
       "['dt_iso',\n",
       " 'temp',\n",
       " 'feels_like',\n",
       " 'temp_min',\n",
       " 'temp_max',\n",
       " 'pressure',\n",
       " 'humidity',\n",
       " 'wind_speed',\n",
       " 'wind_deg',\n",
       " 'clouds_all',\n",
       " 'weather_id',\n",
       " 'weather_main',\n",
       " 'weather_description',\n",
       " 'weather_icon']"
      ]
     },
     "execution_count": 55,
     "metadata": {},
     "output_type": "execute_result"
    }
   ],
   "source": [
    "list(weather2.columns)"
   ]
  },
  {
   "cell_type": "code",
   "execution_count": 48,
   "id": "e496477c",
   "metadata": {},
   "outputs": [
    {
     "data": {
      "text/plain": [
       "['name',\n",
       " 'dt',\n",
       " 'rain',\n",
       " 'snow',\n",
       " 'coord.lat',\n",
       " 'coord.lon',\n",
       " 'main.temp',\n",
       " 'main.feels_like',\n",
       " 'main.temp_min',\n",
       " 'main.temp_max',\n",
       " 'main.pressure',\n",
       " 'main.humidity',\n",
       " 'wind.speed',\n",
       " 'wind.deg',\n",
       " 'sys.country',\n",
       " 'clouds.all',\n",
       " 'id',\n",
       " 'main',\n",
       " 'description',\n",
       " 'icon']"
      ]
     },
     "execution_count": 48,
     "metadata": {},
     "output_type": "execute_result"
    }
   ],
   "source": [
    "list(current_weather.columns)"
   ]
  },
  {
   "cell_type": "code",
   "execution_count": null,
   "id": "e4cd41b9",
   "metadata": {},
   "outputs": [],
   "source": [
    "#dropping columns from current_weather that are not present in the historical weather data/not needed"
   ]
  },
  {
   "cell_type": "code",
   "execution_count": 56,
   "id": "528c0f0b",
   "metadata": {},
   "outputs": [],
   "source": [
    "current_weather = current_weather.drop(['name',\n",
    " 'dt',\n",
    " 'rain',\n",
    " 'snow',\n",
    " 'coord.lat',\n",
    " 'coord.lon','sys.country'], axis=1)"
   ]
  },
  {
   "cell_type": "code",
   "execution_count": null,
   "id": "064d76b5",
   "metadata": {},
   "outputs": [],
   "source": [
    "#Now have to rename the columns so they match. "
   ]
  },
  {
   "cell_type": "code",
   "execution_count": 58,
   "id": "9d60b6e6",
   "metadata": {},
   "outputs": [],
   "source": [
    "current_weather = current_weather.rename(columns={\n",
    "    'main.temp':'temp',\n",
    " 'main.feels_like':'feels_like',\n",
    " 'main.temp_min':'temp_min',\n",
    " 'main.temp_max':'temp_max',\n",
    " 'main.pressure':'pressure',\n",
    " 'main.humidity':'humidity',\n",
    " 'wind.speed':'wind_speed',\n",
    " 'wind.deg':'wind_deg',\n",
    " 'clouds.all':'clouds_all',\n",
    " 'id':'weather_id',\n",
    " 'main':'weather_main',\n",
    " 'description':'weather_description',\n",
    " 'icon':'weather_icon'})"
   ]
  },
  {
   "cell_type": "code",
   "execution_count": 60,
   "id": "022d31d0",
   "metadata": {},
   "outputs": [
    {
     "data": {
      "text/html": [
       "<div>\n",
       "<style scoped>\n",
       "    .dataframe tbody tr th:only-of-type {\n",
       "        vertical-align: middle;\n",
       "    }\n",
       "\n",
       "    .dataframe tbody tr th {\n",
       "        vertical-align: top;\n",
       "    }\n",
       "\n",
       "    .dataframe thead th {\n",
       "        text-align: right;\n",
       "    }\n",
       "</style>\n",
       "<table border=\"1\" class=\"dataframe\">\n",
       "  <thead>\n",
       "    <tr style=\"text-align: right;\">\n",
       "      <th></th>\n",
       "      <th>temp</th>\n",
       "      <th>feels_like</th>\n",
       "      <th>temp_min</th>\n",
       "      <th>temp_max</th>\n",
       "      <th>pressure</th>\n",
       "      <th>humidity</th>\n",
       "      <th>wind_speed</th>\n",
       "      <th>wind_deg</th>\n",
       "      <th>clouds_all</th>\n",
       "      <th>weather_id</th>\n",
       "      <th>weather_main</th>\n",
       "      <th>weather_description</th>\n",
       "      <th>weather_icon</th>\n",
       "    </tr>\n",
       "  </thead>\n",
       "  <tbody>\n",
       "    <tr>\n",
       "      <th>0</th>\n",
       "      <td>6.27</td>\n",
       "      <td>4.62</td>\n",
       "      <td>4.5</td>\n",
       "      <td>8.18</td>\n",
       "      <td>1026</td>\n",
       "      <td>65</td>\n",
       "      <td>2.24</td>\n",
       "      <td>93</td>\n",
       "      <td>100</td>\n",
       "      <td>804</td>\n",
       "      <td>Clouds</td>\n",
       "      <td>overcast clouds</td>\n",
       "      <td>04d</td>\n",
       "    </tr>\n",
       "  </tbody>\n",
       "</table>\n",
       "</div>"
      ],
      "text/plain": [
       "   temp  feels_like  temp_min  temp_max  pressure  humidity  wind_speed  \\\n",
       "0  6.27        4.62       4.5      8.18      1026        65        2.24   \n",
       "\n",
       "   wind_deg  clouds_all  weather_id weather_main weather_description  \\\n",
       "0        93         100         804       Clouds     overcast clouds   \n",
       "\n",
       "  weather_icon  \n",
       "0          04d  "
      ]
     },
     "execution_count": 60,
     "metadata": {},
     "output_type": "execute_result"
    }
   ],
   "source": [
    "current_weather"
   ]
  },
  {
   "cell_type": "code",
   "execution_count": null,
   "id": "1fa56931",
   "metadata": {},
   "outputs": [],
   "source": [
    "#Now putting all the current_weather cleaning into one function: "
   ]
  },
  {
   "cell_type": "code",
   "execution_count": 61,
   "id": "f21aea91",
   "metadata": {},
   "outputs": [
    {
     "data": {
      "text/html": [
       "<div>\n",
       "<style scoped>\n",
       "    .dataframe tbody tr th:only-of-type {\n",
       "        vertical-align: middle;\n",
       "    }\n",
       "\n",
       "    .dataframe tbody tr th {\n",
       "        vertical-align: top;\n",
       "    }\n",
       "\n",
       "    .dataframe thead th {\n",
       "        text-align: right;\n",
       "    }\n",
       "</style>\n",
       "<table border=\"1\" class=\"dataframe\">\n",
       "  <thead>\n",
       "    <tr style=\"text-align: right;\">\n",
       "      <th></th>\n",
       "      <th>temp</th>\n",
       "      <th>feels_like</th>\n",
       "      <th>temp_min</th>\n",
       "      <th>temp_max</th>\n",
       "      <th>pressure</th>\n",
       "      <th>humidity</th>\n",
       "      <th>wind_speed</th>\n",
       "      <th>wind_deg</th>\n",
       "      <th>clouds_all</th>\n",
       "      <th>weather_id</th>\n",
       "      <th>weather_main</th>\n",
       "      <th>weather_description</th>\n",
       "      <th>weather_icon</th>\n",
       "    </tr>\n",
       "  </thead>\n",
       "  <tbody>\n",
       "    <tr>\n",
       "      <th>0</th>\n",
       "      <td>6.27</td>\n",
       "      <td>4.62</td>\n",
       "      <td>4.5</td>\n",
       "      <td>8.18</td>\n",
       "      <td>1026</td>\n",
       "      <td>65</td>\n",
       "      <td>2.24</td>\n",
       "      <td>93</td>\n",
       "      <td>100</td>\n",
       "      <td>804</td>\n",
       "      <td>Clouds</td>\n",
       "      <td>overcast clouds</td>\n",
       "      <td>04d</td>\n",
       "    </tr>\n",
       "  </tbody>\n",
       "</table>\n",
       "</div>"
      ],
      "text/plain": [
       "   temp  feels_like  temp_min  temp_max  pressure  humidity  wind_speed  \\\n",
       "0  6.27        4.62       4.5      8.18      1026        65        2.24   \n",
       "\n",
       "   wind_deg  clouds_all  weather_id weather_main weather_description  \\\n",
       "0        93         100         804       Clouds     overcast clouds   \n",
       "\n",
       "  weather_icon  \n",
       "0          04d  "
      ]
     },
     "execution_count": 61,
     "metadata": {},
     "output_type": "execute_result"
    }
   ],
   "source": [
    "def clean_current_weather(response):\n",
    "    current = response.text\n",
    "    current_df = pd.read_json(current, orient='records')\n",
    "    flat1 = json_normalize(current_df['list'])\n",
    "    flat1_df = flat1.drop(['id','weather'],axis=1)\n",
    "    weather_df = json_normalize(flat1['weather'][0])\n",
    "    current_weather = pd.concat([flat1_df,weather_df],axis=1)\n",
    "    current_weather = current_weather.drop(['name','dt','rain','snow','coord.lat','coord.lon','sys.country'], axis=1)\n",
    "    current_weather = current_weather.rename(columns={\n",
    "    'main.temp':'temp',\n",
    "    'main.feels_like':'feels_like',\n",
    "    'main.temp_min':'temp_min',\n",
    "    'main.temp_max':'temp_max',\n",
    "    'main.pressure':'pressure',\n",
    "    'main.humidity':'humidity',\n",
    "    'wind.speed':'wind_speed',\n",
    "    'wind.deg':'wind_deg',\n",
    "    'clouds.all':'clouds_all',\n",
    "    'id':'weather_id',\n",
    "    'main':'weather_main',\n",
    "    'description':'weather_description',\n",
    "    'icon':'weather_icon'})\n",
    "    return (current_weather)\n",
    "current_weather = clean_current_weather(response)\n",
    "current_weather"
   ]
  },
  {
   "cell_type": "markdown",
   "id": "04226bd3",
   "metadata": {},
   "source": [
    "# Now we join the sales and the historical weather information"
   ]
  },
  {
   "cell_type": "code",
   "execution_count": null,
   "id": "fcda7fdd",
   "metadata": {},
   "outputs": [],
   "source": [
    "#Of course the date/time stamps of the sale don't match exactly the historical weather data (hourly record), so we'll have to \"merge_asof\""
   ]
  },
  {
   "cell_type": "code",
   "execution_count": null,
   "id": "9a6913e7",
   "metadata": {},
   "outputs": [],
   "source": []
  },
  {
   "cell_type": "code",
   "execution_count": null,
   "id": "8bd4cb42",
   "metadata": {},
   "outputs": [],
   "source": []
  },
  {
   "cell_type": "code",
   "execution_count": null,
   "id": "a3ac1558",
   "metadata": {},
   "outputs": [],
   "source": []
  },
  {
   "cell_type": "code",
   "execution_count": null,
   "id": "da22cf11",
   "metadata": {},
   "outputs": [],
   "source": []
  },
  {
   "cell_type": "code",
   "execution_count": null,
   "id": "f402c9f9",
   "metadata": {},
   "outputs": [],
   "source": []
  }
 ],
 "metadata": {
  "kernelspec": {
   "display_name": "Python 3 (ipykernel)",
   "language": "python",
   "name": "python3"
  },
  "language_info": {
   "codemirror_mode": {
    "name": "ipython",
    "version": 3
   },
   "file_extension": ".py",
   "mimetype": "text/x-python",
   "name": "python",
   "nbconvert_exporter": "python",
   "pygments_lexer": "ipython3",
   "version": "3.9.7"
  },
  "toc": {
   "base_numbering": 1,
   "nav_menu": {},
   "number_sections": true,
   "sideBar": true,
   "skip_h1_title": false,
   "title_cell": "Table of Contents",
   "title_sidebar": "Contents",
   "toc_cell": false,
   "toc_position": {},
   "toc_section_display": true,
   "toc_window_display": false
  },
  "varInspector": {
   "cols": {
    "lenName": 16,
    "lenType": 16,
    "lenVar": 40
   },
   "kernels_config": {
    "python": {
     "delete_cmd_postfix": "",
     "delete_cmd_prefix": "del ",
     "library": "var_list.py",
     "varRefreshCmd": "print(var_dic_list())"
    },
    "r": {
     "delete_cmd_postfix": ") ",
     "delete_cmd_prefix": "rm(",
     "library": "var_list.r",
     "varRefreshCmd": "cat(var_dic_list()) "
    }
   },
   "types_to_exclude": [
    "module",
    "function",
    "builtin_function_or_method",
    "instance",
    "_Feature"
   ],
   "window_display": false
  }
 },
 "nbformat": 4,
 "nbformat_minor": 5
}
