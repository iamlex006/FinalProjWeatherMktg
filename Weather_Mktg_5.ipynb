{
 "cells": [
  {
   "cell_type": "code",
   "execution_count": 2,
   "id": "21dd1937",
   "metadata": {},
   "outputs": [],
   "source": [
    "import pandas as pd\n",
    "import numpy as np\n",
    "pd.set_option('display.max_columns', None)\n",
    "import seaborn as sns\n",
    "import matplotlib.pyplot as plt\n",
    "%matplotlib inline\n",
    "from pandas import json_normalize\n",
    "import requests"
   ]
  },
  {
   "cell_type": "code",
   "execution_count": 17,
   "id": "3b8c4ac4",
   "metadata": {
    "scrolled": true
   },
   "outputs": [],
   "source": [
    "response = requests.get(\"http://api.openweathermap.org/data/2.5/forecast?q=London,UK&units=metric&appid=XXXXXX\")"
   ]
  },
  {
   "cell_type": "code",
   "execution_count": 18,
   "id": "ff3b2e7e",
   "metadata": {},
   "outputs": [
    {
     "name": "stdout",
     "output_type": "stream",
     "text": [
      "{'cod': '200', 'message': 0, 'cnt': 40, 'list': [{'dt': 1646827200, 'main': {'temp': 11.77, 'feels_like': 10.78, 'temp_min': 11.77, 'temp_max': 12.1, 'pressure': 1017, 'sea_level': 1017, 'grnd_level': 1014, 'humidity': 68, 'temp_kf': -0.33}, 'weather': [{'id': 802, 'main': 'Clouds', 'description': 'scattered clouds', 'icon': '03d'}], 'clouds': {'all': 40}, 'wind': {'speed': 6.23, 'deg': 185, 'gust': 10.75}, 'visibility': 10000, 'pop': 0, 'sys': {'pod': 'd'}, 'dt_txt': '2022-03-09 12:00:00'}, {'dt': 1646838000, 'main': {'temp': 11.98, 'feels_like': 10.9, 'temp_min': 11.98, 'temp_max': 12.4, 'pressure': 1017, 'sea_level': 1017, 'grnd_level': 1013, 'humidity': 64, 'temp_kf': -0.42}, 'weather': [{'id': 802, 'main': 'Clouds', 'description': 'scattered clouds', 'icon': '03d'}], 'clouds': {'all': 31}, 'wind': {'speed': 6.13, 'deg': 182, 'gust': 10.7}, 'visibility': 10000, 'pop': 0, 'sys': {'pod': 'd'}, 'dt_txt': '2022-03-09 15:00:00'}, {'dt': 1646848800, 'main': {'temp': 10.83, 'feels_like': 9.69, 'temp_min': 10.36, 'temp_max': 10.83, 'pressure': 1017, 'sea_level': 1017, 'grnd_level': 1014, 'humidity': 66, 'temp_kf': 0.47}, 'weather': [{'id': 803, 'main': 'Clouds', 'description': 'broken clouds', 'icon': '04n'}], 'clouds': {'all': 51}, 'wind': {'speed': 4.67, 'deg': 167, 'gust': 11.14}, 'visibility': 10000, 'pop': 0, 'sys': {'pod': 'n'}, 'dt_txt': '2022-03-09 18:00:00'}, {'dt': 1646859600, 'main': {'temp': 10.57, 'feels_like': 9.38, 'temp_min': 10.57, 'temp_max': 10.57, 'pressure': 1018, 'sea_level': 1018, 'grnd_level': 1014, 'humidity': 65, 'temp_kf': 0}, 'weather': [{'id': 804, 'main': 'Clouds', 'description': 'overcast clouds', 'icon': '04n'}], 'clouds': {'all': 97}, 'wind': {'speed': 5.09, 'deg': 164, 'gust': 12.75}, 'visibility': 10000, 'pop': 0, 'sys': {'pod': 'n'}, 'dt_txt': '2022-03-09 21:00:00'}, {'dt': 1646870400, 'main': {'temp': 10.18, 'feels_like': 9.03, 'temp_min': 10.18, 'temp_max': 10.18, 'pressure': 1017, 'sea_level': 1017, 'grnd_level': 1014, 'humidity': 68, 'temp_kf': 0}, 'weather': [{'id': 804, 'main': 'Clouds', 'description': 'overcast clouds', 'icon': '04n'}], 'clouds': {'all': 96}, 'wind': {'speed': 5.31, 'deg': 169, 'gust': 14.04}, 'visibility': 10000, 'pop': 0, 'sys': {'pod': 'n'}, 'dt_txt': '2022-03-10 00:00:00'}, {'dt': 1646881200, 'main': {'temp': 9.4, 'feels_like': 7.05, 'temp_min': 9.4, 'temp_max': 9.4, 'pressure': 1017, 'sea_level': 1017, 'grnd_level': 1014, 'humidity': 77, 'temp_kf': 0}, 'weather': [{'id': 804, 'main': 'Clouds', 'description': 'overcast clouds', 'icon': '04n'}], 'clouds': {'all': 85}, 'wind': {'speed': 4.48, 'deg': 172, 'gust': 12.7}, 'visibility': 10000, 'pop': 0, 'sys': {'pod': 'n'}, 'dt_txt': '2022-03-10 03:00:00'}, {'dt': 1646892000, 'main': {'temp': 8.7, 'feels_like': 6.47, 'temp_min': 8.7, 'temp_max': 8.7, 'pressure': 1018, 'sea_level': 1018, 'grnd_level': 1014, 'humidity': 81, 'temp_kf': 0}, 'weather': [{'id': 804, 'main': 'Clouds', 'description': 'overcast clouds', 'icon': '04n'}], 'clouds': {'all': 85}, 'wind': {'speed': 3.86, 'deg': 155, 'gust': 10.5}, 'visibility': 10000, 'pop': 0, 'sys': {'pod': 'n'}, 'dt_txt': '2022-03-10 06:00:00'}, {'dt': 1646902800, 'main': {'temp': 9.18, 'feels_like': 7.18, 'temp_min': 9.18, 'temp_max': 9.18, 'pressure': 1018, 'sea_level': 1018, 'grnd_level': 1015, 'humidity': 80, 'temp_kf': 0}, 'weather': [{'id': 804, 'main': 'Clouds', 'description': 'overcast clouds', 'icon': '04d'}], 'clouds': {'all': 100}, 'wind': {'speed': 3.63, 'deg': 142, 'gust': 9.6}, 'visibility': 10000, 'pop': 0, 'sys': {'pod': 'd'}, 'dt_txt': '2022-03-10 09:00:00'}, {'dt': 1646913600, 'main': {'temp': 13.94, 'feels_like': 13.01, 'temp_min': 13.94, 'temp_max': 13.94, 'pressure': 1017, 'sea_level': 1017, 'grnd_level': 1014, 'humidity': 62, 'temp_kf': 0}, 'weather': [{'id': 804, 'main': 'Clouds', 'description': 'overcast clouds', 'icon': '04d'}], 'clouds': {'all': 89}, 'wind': {'speed': 5.44, 'deg': 167, 'gust': 8.94}, 'visibility': 10000, 'pop': 0, 'sys': {'pod': 'd'}, 'dt_txt': '2022-03-10 12:00:00'}, {'dt': 1646924400, 'main': {'temp': 12.72, 'feels_like': 11.74, 'temp_min': 12.72, 'temp_max': 12.72, 'pressure': 1015, 'sea_level': 1015, 'grnd_level': 1012, 'humidity': 65, 'temp_kf': 0}, 'weather': [{'id': 804, 'main': 'Clouds', 'description': 'overcast clouds', 'icon': '04d'}], 'clouds': {'all': 96}, 'wind': {'speed': 5.22, 'deg': 155, 'gust': 10.18}, 'visibility': 10000, 'pop': 0, 'sys': {'pod': 'd'}, 'dt_txt': '2022-03-10 15:00:00'}, {'dt': 1646935200, 'main': {'temp': 11.13, 'feels_like': 10.31, 'temp_min': 11.13, 'temp_max': 11.13, 'pressure': 1014, 'sea_level': 1014, 'grnd_level': 1011, 'humidity': 77, 'temp_kf': 0}, 'weather': [{'id': 500, 'main': 'Rain', 'description': 'light rain', 'icon': '10n'}], 'clouds': {'all': 86}, 'wind': {'speed': 4.93, 'deg': 153, 'gust': 10.84}, 'visibility': 10000, 'pop': 0.2, 'rain': {'3h': 0.18}, 'sys': {'pod': 'n'}, 'dt_txt': '2022-03-10 18:00:00'}, {'dt': 1646946000, 'main': {'temp': 10.9, 'feels_like': 10.03, 'temp_min': 10.9, 'temp_max': 10.9, 'pressure': 1012, 'sea_level': 1012, 'grnd_level': 1009, 'humidity': 76, 'temp_kf': 0}, 'weather': [{'id': 500, 'main': 'Rain', 'description': 'light rain', 'icon': '10n'}], 'clouds': {'all': 100}, 'wind': {'speed': 5.51, 'deg': 164, 'gust': 12.26}, 'visibility': 10000, 'pop': 0.2, 'rain': {'3h': 0.16}, 'sys': {'pod': 'n'}, 'dt_txt': '2022-03-10 21:00:00'}, {'dt': 1646956800, 'main': {'temp': 10.81, 'feels_like': 9.9, 'temp_min': 10.81, 'temp_max': 10.81, 'pressure': 1010, 'sea_level': 1010, 'grnd_level': 1007, 'humidity': 75, 'temp_kf': 0}, 'weather': [{'id': 500, 'main': 'Rain', 'description': 'light rain', 'icon': '10n'}], 'clouds': {'all': 94}, 'wind': {'speed': 5.92, 'deg': 157, 'gust': 13.95}, 'visibility': 10000, 'pop': 0.32, 'rain': {'3h': 0.5}, 'sys': {'pod': 'n'}, 'dt_txt': '2022-03-11 00:00:00'}, {'dt': 1646967600, 'main': {'temp': 9.78, 'feels_like': 7.44, 'temp_min': 9.78, 'temp_max': 9.78, 'pressure': 1008, 'sea_level': 1008, 'grnd_level': 1005, 'humidity': 82, 'temp_kf': 0}, 'weather': [{'id': 803, 'main': 'Clouds', 'description': 'broken clouds', 'icon': '04n'}], 'clouds': {'all': 82}, 'wind': {'speed': 4.68, 'deg': 159, 'gust': 11.51}, 'visibility': 10000, 'pop': 0, 'sys': {'pod': 'n'}, 'dt_txt': '2022-03-11 03:00:00'}, {'dt': 1646978400, 'main': {'temp': 8.86, 'feels_like': 6.32, 'temp_min': 8.86, 'temp_max': 8.86, 'pressure': 1006, 'sea_level': 1006, 'grnd_level': 1003, 'humidity': 86, 'temp_kf': 0}, 'weather': [{'id': 804, 'main': 'Clouds', 'description': 'overcast clouds', 'icon': '04n'}], 'clouds': {'all': 91}, 'wind': {'speed': 4.62, 'deg': 145, 'gust': 11.84}, 'visibility': 10000, 'pop': 0, 'sys': {'pod': 'n'}, 'dt_txt': '2022-03-11 06:00:00'}, {'dt': 1646989200, 'main': {'temp': 10.28, 'feels_like': 9.4, 'temp_min': 10.28, 'temp_max': 10.28, 'pressure': 1004, 'sea_level': 1004, 'grnd_level': 1001, 'humidity': 78, 'temp_kf': 0}, 'weather': [{'id': 804, 'main': 'Clouds', 'description': 'overcast clouds', 'icon': '04d'}], 'clouds': {'all': 100}, 'wind': {'speed': 6.42, 'deg': 149, 'gust': 14.28}, 'visibility': 10000, 'pop': 0.06, 'sys': {'pod': 'd'}, 'dt_txt': '2022-03-11 09:00:00'}, {'dt': 1647000000, 'main': {'temp': 10.06, 'feels_like': 9.26, 'temp_min': 10.06, 'temp_max': 10.06, 'pressure': 1004, 'sea_level': 1004, 'grnd_level': 1000, 'humidity': 82, 'temp_kf': 0}, 'weather': [{'id': 500, 'main': 'Rain', 'description': 'light rain', 'icon': '10d'}], 'clouds': {'all': 100}, 'wind': {'speed': 6.86, 'deg': 168, 'gust': 12.97}, 'visibility': 10000, 'pop': 0.3, 'rain': {'3h': 0.28}, 'sys': {'pod': 'd'}, 'dt_txt': '2022-03-11 12:00:00'}, {'dt': 1647010800, 'main': {'temp': 10.89, 'feels_like': 10.07, 'temp_min': 10.89, 'temp_max': 10.89, 'pressure': 1004, 'sea_level': 1004, 'grnd_level': 1000, 'humidity': 78, 'temp_kf': 0}, 'weather': [{'id': 500, 'main': 'Rain', 'description': 'light rain', 'icon': '10d'}], 'clouds': {'all': 100}, 'wind': {'speed': 5.66, 'deg': 193, 'gust': 10.75}, 'visibility': 10000, 'pop': 0.82, 'rain': {'3h': 0.59}, 'sys': {'pod': 'd'}, 'dt_txt': '2022-03-11 15:00:00'}, {'dt': 1647021600, 'main': {'temp': 9.41, 'feels_like': 7.11, 'temp_min': 9.41, 'temp_max': 9.41, 'pressure': 1005, 'sea_level': 1005, 'grnd_level': 1002, 'humidity': 82, 'temp_kf': 0}, 'weather': [{'id': 804, 'main': 'Clouds', 'description': 'overcast clouds', 'icon': '04n'}], 'clouds': {'all': 100}, 'wind': {'speed': 4.38, 'deg': 189, 'gust': 10.45}, 'visibility': 10000, 'pop': 0.72, 'sys': {'pod': 'n'}, 'dt_txt': '2022-03-11 18:00:00'}, {'dt': 1647032400, 'main': {'temp': 8.88, 'feels_like': 6.46, 'temp_min': 8.88, 'temp_max': 8.88, 'pressure': 1006, 'sea_level': 1006, 'grnd_level': 1003, 'humidity': 81, 'temp_kf': 0}, 'weather': [{'id': 802, 'main': 'Clouds', 'description': 'scattered clouds', 'icon': '03n'}], 'clouds': {'all': 36}, 'wind': {'speed': 4.36, 'deg': 172, 'gust': 11.76}, 'visibility': 10000, 'pop': 0.1, 'sys': {'pod': 'n'}, 'dt_txt': '2022-03-11 21:00:00'}, {'dt': 1647043200, 'main': {'temp': 8.48, 'feels_like': 5.89, 'temp_min': 8.48, 'temp_max': 8.48, 'pressure': 1008, 'sea_level': 1008, 'grnd_level': 1004, 'humidity': 82, 'temp_kf': 0}, 'weather': [{'id': 803, 'main': 'Clouds', 'description': 'broken clouds', 'icon': '04n'}], 'clouds': {'all': 68}, 'wind': {'speed': 4.52, 'deg': 217, 'gust': 9.68}, 'visibility': 10000, 'pop': 0.14, 'sys': {'pod': 'n'}, 'dt_txt': '2022-03-12 00:00:00'}, {'dt': 1647054000, 'main': {'temp': 7.61, 'feels_like': 5.24, 'temp_min': 7.61, 'temp_max': 7.61, 'pressure': 1009, 'sea_level': 1009, 'grnd_level': 1006, 'humidity': 87, 'temp_kf': 0}, 'weather': [{'id': 500, 'main': 'Rain', 'description': 'light rain', 'icon': '10n'}], 'clouds': {'all': 87}, 'wind': {'speed': 3.67, 'deg': 186, 'gust': 9.05}, 'visibility': 10000, 'pop': 0.22, 'rain': {'3h': 0.12}, 'sys': {'pod': 'n'}, 'dt_txt': '2022-03-12 03:00:00'}, {'dt': 1647064800, 'main': {'temp': 6.3, 'feels_like': 4.89, 'temp_min': 6.3, 'temp_max': 6.3, 'pressure': 1011, 'sea_level': 1011, 'grnd_level': 1008, 'humidity': 92, 'temp_kf': 0}, 'weather': [{'id': 803, 'main': 'Clouds', 'description': 'broken clouds', 'icon': '04n'}], 'clouds': {'all': 79}, 'wind': {'speed': 1.99, 'deg': 196, 'gust': 5.81}, 'visibility': 10000, 'pop': 0, 'sys': {'pod': 'n'}, 'dt_txt': '2022-03-12 06:00:00'}, {'dt': 1647075600, 'main': {'temp': 8.25, 'feels_like': 6.4, 'temp_min': 8.25, 'temp_max': 8.25, 'pressure': 1013, 'sea_level': 1013, 'grnd_level': 1010, 'humidity': 74, 'temp_kf': 0}, 'weather': [{'id': 804, 'main': 'Clouds', 'description': 'overcast clouds', 'icon': '04d'}], 'clouds': {'all': 99}, 'wind': {'speed': 3.01, 'deg': 221, 'gust': 5.87}, 'visibility': 10000, 'pop': 0, 'sys': {'pod': 'd'}, 'dt_txt': '2022-03-12 09:00:00'}, {'dt': 1647086400, 'main': {'temp': 10.93, 'feels_like': 9.41, 'temp_min': 10.93, 'temp_max': 10.93, 'pressure': 1012, 'sea_level': 1012, 'grnd_level': 1009, 'humidity': 51, 'temp_kf': 0}, 'weather': [{'id': 804, 'main': 'Clouds', 'description': 'overcast clouds', 'icon': '04d'}], 'clouds': {'all': 99}, 'wind': {'speed': 3, 'deg': 191, 'gust': 4.43}, 'visibility': 10000, 'pop': 0, 'sys': {'pod': 'd'}, 'dt_txt': '2022-03-12 12:00:00'}, {'dt': 1647097200, 'main': {'temp': 12.03, 'feels_like': 10.52, 'temp_min': 12.03, 'temp_max': 12.03, 'pressure': 1012, 'sea_level': 1012, 'grnd_level': 1009, 'humidity': 47, 'temp_kf': 0}, 'weather': [{'id': 802, 'main': 'Clouds', 'description': 'scattered clouds', 'icon': '03d'}], 'clouds': {'all': 35}, 'wind': {'speed': 4.46, 'deg': 179, 'gust': 5.35}, 'visibility': 10000, 'pop': 0, 'sys': {'pod': 'd'}, 'dt_txt': '2022-03-12 15:00:00'}, {'dt': 1647108000, 'main': {'temp': 9.15, 'feels_like': 7.13, 'temp_min': 9.15, 'temp_max': 9.15, 'pressure': 1011, 'sea_level': 1011, 'grnd_level': 1008, 'humidity': 64, 'temp_kf': 0}, 'weather': [{'id': 801, 'main': 'Clouds', 'description': 'few clouds', 'icon': '02n'}], 'clouds': {'all': 20}, 'wind': {'speed': 3.65, 'deg': 133, 'gust': 7.38}, 'visibility': 10000, 'pop': 0, 'sys': {'pod': 'n'}, 'dt_txt': '2022-03-12 18:00:00'}, {'dt': 1647118800, 'main': {'temp': 7.95, 'feels_like': 4.94, 'temp_min': 7.95, 'temp_max': 7.95, 'pressure': 1009, 'sea_level': 1009, 'grnd_level': 1006, 'humidity': 74, 'temp_kf': 0}, 'weather': [{'id': 803, 'main': 'Clouds', 'description': 'broken clouds', 'icon': '04n'}], 'clouds': {'all': 61}, 'wind': {'speed': 5.21, 'deg': 123, 'gust': 12.35}, 'visibility': 10000, 'pop': 0, 'sys': {'pod': 'n'}, 'dt_txt': '2022-03-12 21:00:00'}, {'dt': 1647129600, 'main': {'temp': 7.74, 'feels_like': 4.44, 'temp_min': 7.74, 'temp_max': 7.74, 'pressure': 1008, 'sea_level': 1008, 'grnd_level': 1005, 'humidity': 85, 'temp_kf': 0}, 'weather': [{'id': 500, 'main': 'Rain', 'description': 'light rain', 'icon': '10n'}], 'clouds': {'all': 81}, 'wind': {'speed': 5.81, 'deg': 179, 'gust': 10.74}, 'visibility': 10000, 'pop': 0.75, 'rain': {'3h': 1.21}, 'sys': {'pod': 'n'}, 'dt_txt': '2022-03-13 00:00:00'}, {'dt': 1647140400, 'main': {'temp': 6.98, 'feels_like': 3.68, 'temp_min': 6.98, 'temp_max': 6.98, 'pressure': 1007, 'sea_level': 1007, 'grnd_level': 1004, 'humidity': 85, 'temp_kf': 0}, 'weather': [{'id': 500, 'main': 'Rain', 'description': 'light rain', 'icon': '10n'}], 'clouds': {'all': 87}, 'wind': {'speed': 5.3, 'deg': 187, 'gust': 11.45}, 'visibility': 10000, 'pop': 0.84, 'rain': {'3h': 0.54}, 'sys': {'pod': 'n'}, 'dt_txt': '2022-03-13 03:00:00'}, {'dt': 1647151200, 'main': {'temp': 6.77, 'feels_like': 3.28, 'temp_min': 6.77, 'temp_max': 6.77, 'pressure': 1008, 'sea_level': 1008, 'grnd_level': 1005, 'humidity': 84, 'temp_kf': 0}, 'weather': [{'id': 500, 'main': 'Rain', 'description': 'light rain', 'icon': '10n'}], 'clouds': {'all': 85}, 'wind': {'speed': 5.65, 'deg': 194, 'gust': 12.14}, 'visibility': 10000, 'pop': 0.74, 'rain': {'3h': 0.12}, 'sys': {'pod': 'n'}, 'dt_txt': '2022-03-13 06:00:00'}, {'dt': 1647162000, 'main': {'temp': 8.31, 'feels_like': 5.23, 'temp_min': 8.31, 'temp_max': 8.31, 'pressure': 1010, 'sea_level': 1010, 'grnd_level': 1007, 'humidity': 74, 'temp_kf': 0}, 'weather': [{'id': 500, 'main': 'Rain', 'description': 'light rain', 'icon': '10d'}], 'clouds': {'all': 98}, 'wind': {'speed': 5.62, 'deg': 208, 'gust': 10.91}, 'visibility': 10000, 'pop': 0.27, 'rain': {'3h': 0.22}, 'sys': {'pod': 'd'}, 'dt_txt': '2022-03-13 09:00:00'}, {'dt': 1647172800, 'main': {'temp': 11.04, 'feels_like': 9.56, 'temp_min': 11.04, 'temp_max': 11.04, 'pressure': 1012, 'sea_level': 1012, 'grnd_level': 1008, 'humidity': 52, 'temp_kf': 0}, 'weather': [{'id': 803, 'main': 'Clouds', 'description': 'broken clouds', 'icon': '04d'}], 'clouds': {'all': 61}, 'wind': {'speed': 6.03, 'deg': 208, 'gust': 9.59}, 'visibility': 10000, 'pop': 0.17, 'sys': {'pod': 'd'}, 'dt_txt': '2022-03-13 12:00:00'}, {'dt': 1647183600, 'main': {'temp': 10.82, 'feels_like': 9.45, 'temp_min': 10.82, 'temp_max': 10.82, 'pressure': 1013, 'sea_level': 1013, 'grnd_level': 1010, 'humidity': 57, 'temp_kf': 0}, 'weather': [{'id': 500, 'main': 'Rain', 'description': 'light rain', 'icon': '10d'}], 'clouds': {'all': 96}, 'wind': {'speed': 4.97, 'deg': 184, 'gust': 6.43}, 'visibility': 10000, 'pop': 0.28, 'rain': {'3h': 0.19}, 'sys': {'pod': 'd'}, 'dt_txt': '2022-03-13 15:00:00'}, {'dt': 1647194400, 'main': {'temp': 9.04, 'feels_like': 7.42, 'temp_min': 9.04, 'temp_max': 9.04, 'pressure': 1014, 'sea_level': 1014, 'grnd_level': 1011, 'humidity': 68, 'temp_kf': 0}, 'weather': [{'id': 804, 'main': 'Clouds', 'description': 'overcast clouds', 'icon': '04d'}], 'clouds': {'all': 98}, 'wind': {'speed': 2.9, 'deg': 138, 'gust': 6.5}, 'visibility': 10000, 'pop': 0, 'sys': {'pod': 'd'}, 'dt_txt': '2022-03-13 18:00:00'}, {'dt': 1647205200, 'main': {'temp': 8.31, 'feels_like': 5.59, 'temp_min': 8.31, 'temp_max': 8.31, 'pressure': 1016, 'sea_level': 1016, 'grnd_level': 1012, 'humidity': 74, 'temp_kf': 0}, 'weather': [{'id': 804, 'main': 'Clouds', 'description': 'overcast clouds', 'icon': '04n'}], 'clouds': {'all': 100}, 'wind': {'speed': 4.72, 'deg': 127, 'gust': 10.88}, 'visibility': 10000, 'pop': 0.06, 'sys': {'pod': 'n'}, 'dt_txt': '2022-03-13 21:00:00'}, {'dt': 1647216000, 'main': {'temp': 8.72, 'feels_like': 5.91, 'temp_min': 8.72, 'temp_max': 8.72, 'pressure': 1015, 'sea_level': 1015, 'grnd_level': 1012, 'humidity': 83, 'temp_kf': 0}, 'weather': [{'id': 804, 'main': 'Clouds', 'description': 'overcast clouds', 'icon': '04n'}], 'clouds': {'all': 100}, 'wind': {'speed': 5.21, 'deg': 100, 'gust': 11.52}, 'visibility': 10000, 'pop': 0.22, 'sys': {'pod': 'n'}, 'dt_txt': '2022-03-14 00:00:00'}, {'dt': 1647226800, 'main': {'temp': 8.77, 'feels_like': 6.02, 'temp_min': 8.77, 'temp_max': 8.77, 'pressure': 1015, 'sea_level': 1015, 'grnd_level': 1012, 'humidity': 84, 'temp_kf': 0}, 'weather': [{'id': 500, 'main': 'Rain', 'description': 'light rain', 'icon': '10n'}], 'clouds': {'all': 100}, 'wind': {'speed': 5.07, 'deg': 95, 'gust': 13.66}, 'visibility': 10000, 'pop': 0.92, 'rain': {'3h': 0.95}, 'sys': {'pod': 'n'}, 'dt_txt': '2022-03-14 03:00:00'}, {'dt': 1647237600, 'main': {'temp': 8.87, 'feels_like': 6.32, 'temp_min': 8.87, 'temp_max': 8.87, 'pressure': 1017, 'sea_level': 1017, 'grnd_level': 1013, 'humidity': 83, 'temp_kf': 0}, 'weather': [{'id': 500, 'main': 'Rain', 'description': 'light rain', 'icon': '10n'}], 'clouds': {'all': 100}, 'wind': {'speed': 4.66, 'deg': 114, 'gust': 11.1}, 'visibility': 10000, 'pop': 0.98, 'rain': {'3h': 0.14}, 'sys': {'pod': 'n'}, 'dt_txt': '2022-03-14 06:00:00'}, {'dt': 1647248400, 'main': {'temp': 9.18, 'feels_like': 7.04, 'temp_min': 9.18, 'temp_max': 9.18, 'pressure': 1019, 'sea_level': 1019, 'grnd_level': 1016, 'humidity': 83, 'temp_kf': 0}, 'weather': [{'id': 804, 'main': 'Clouds', 'description': 'overcast clouds', 'icon': '04d'}], 'clouds': {'all': 100}, 'wind': {'speed': 3.91, 'deg': 122, 'gust': 10.01}, 'visibility': 10000, 'pop': 0.06, 'sys': {'pod': 'd'}, 'dt_txt': '2022-03-14 09:00:00'}], 'city': {'id': 2643743, 'name': 'London', 'coord': {'lat': 51.5085, 'lon': -0.1257}, 'country': 'GB', 'population': 1000000, 'timezone': 0, 'sunrise': 1646807318, 'sunset': 1646848426}}\n"
     ]
    }
   ],
   "source": [
    "print(response.json())"
   ]
  },
  {
   "cell_type": "code",
   "execution_count": 19,
   "id": "db9199de",
   "metadata": {},
   "outputs": [
    {
     "ename": "FileNotFoundError",
     "evalue": "[Errno 2] No such file or directory: 'current'",
     "output_type": "error",
     "traceback": [
      "\u001b[0;31m---------------------------------------------------------------------------\u001b[0m",
      "\u001b[0;31mFileNotFoundError\u001b[0m                         Traceback (most recent call last)",
      "\u001b[0;32m/var/folders/4x/ppplmryx5_d7mfrd5d6968kr0000gn/T/ipykernel_11176/2592443990.py\u001b[0m in \u001b[0;36m<module>\u001b[0;34m\u001b[0m\n\u001b[1;32m      2\u001b[0m \u001b[0;32mimport\u001b[0m \u001b[0mpandas\u001b[0m \u001b[0;32mas\u001b[0m \u001b[0mpd\u001b[0m\u001b[0;34m\u001b[0m\u001b[0;34m\u001b[0m\u001b[0m\n\u001b[1;32m      3\u001b[0m \u001b[0mcurrent\u001b[0m \u001b[0;34m=\u001b[0m \u001b[0mresponse\u001b[0m\u001b[0;34m.\u001b[0m\u001b[0mtext\u001b[0m\u001b[0;34m\u001b[0m\u001b[0;34m\u001b[0m\u001b[0m\n\u001b[0;32m----> 4\u001b[0;31m \u001b[0mdata\u001b[0m \u001b[0;34m=\u001b[0m \u001b[0mjson\u001b[0m\u001b[0;34m.\u001b[0m\u001b[0mload\u001b[0m\u001b[0;34m(\u001b[0m\u001b[0mopen\u001b[0m\u001b[0;34m(\u001b[0m\u001b[0;34m'current'\u001b[0m\u001b[0;34m)\u001b[0m\u001b[0;34m)\u001b[0m\u001b[0;34m\u001b[0m\u001b[0;34m\u001b[0m\u001b[0m\n\u001b[0m\u001b[1;32m      5\u001b[0m \u001b[0;34m\u001b[0m\u001b[0m\n\u001b[1;32m      6\u001b[0m \u001b[0mdf\u001b[0m \u001b[0;34m=\u001b[0m \u001b[0mpd\u001b[0m\u001b[0;34m.\u001b[0m\u001b[0mDataFrame\u001b[0m\u001b[0;34m(\u001b[0m\u001b[0mdata\u001b[0m\u001b[0;34m[\u001b[0m\u001b[0;34m\"result\"\u001b[0m\u001b[0;34m]\u001b[0m\u001b[0;34m)\u001b[0m\u001b[0;34m\u001b[0m\u001b[0;34m\u001b[0m\u001b[0m\n",
      "\u001b[0;31mFileNotFoundError\u001b[0m: [Errno 2] No such file or directory: 'current'"
     ]
    }
   ],
   "source": [
    "import json\n",
    "import pandas as pd\n",
    "current = response.text\n",
    "data = json.load(open('current'))\n",
    "\n",
    "df = pd.DataFrame(data[\"result\"])"
   ]
  },
  {
   "cell_type": "code",
   "execution_count": 13,
   "id": "e72e7362",
   "metadata": {},
   "outputs": [
    {
     "ename": "FileNotFoundError",
     "evalue": "[Errno 2] No such file or directory: 'response.json'",
     "output_type": "error",
     "traceback": [
      "\u001b[0;31m---------------------------------------------------------------------------\u001b[0m",
      "\u001b[0;31mFileNotFoundError\u001b[0m                         Traceback (most recent call last)",
      "\u001b[0;32m/var/folders/4x/ppplmryx5_d7mfrd5d6968kr0000gn/T/ipykernel_11176/3447421346.py\u001b[0m in \u001b[0;36m<module>\u001b[0;34m\u001b[0m\n\u001b[1;32m      1\u001b[0m \u001b[0;32mimport\u001b[0m \u001b[0mjson\u001b[0m\u001b[0;34m\u001b[0m\u001b[0;34m\u001b[0m\u001b[0m\n\u001b[1;32m      2\u001b[0m \u001b[0;34m\u001b[0m\u001b[0m\n\u001b[0;32m----> 3\u001b[0;31m \u001b[0;32mwith\u001b[0m \u001b[0mopen\u001b[0m\u001b[0;34m(\u001b[0m\u001b[0;34m'response.json'\u001b[0m\u001b[0;34m)\u001b[0m \u001b[0;32mas\u001b[0m \u001b[0mproject_file\u001b[0m\u001b[0;34m:\u001b[0m\u001b[0;34m\u001b[0m\u001b[0;34m\u001b[0m\u001b[0m\n\u001b[0m\u001b[1;32m      4\u001b[0m     \u001b[0mdata\u001b[0m \u001b[0;34m=\u001b[0m \u001b[0mjson\u001b[0m\u001b[0;34m.\u001b[0m\u001b[0mload\u001b[0m\u001b[0;34m(\u001b[0m\u001b[0mproject_file\u001b[0m\u001b[0;34m)\u001b[0m\u001b[0;34m\u001b[0m\u001b[0;34m\u001b[0m\u001b[0m\n\u001b[1;32m      5\u001b[0m \u001b[0;34m\u001b[0m\u001b[0m\n",
      "\u001b[0;31mFileNotFoundError\u001b[0m: [Errno 2] No such file or directory: 'response.json'"
     ]
    }
   ],
   "source": [
    "import json\n",
    "\n",
    "with open('response.json') as project_file:    \n",
    "    data = json.load(project_file)  \n",
    "\n",
    "df = pd.json_normalize(data)"
   ]
  },
  {
   "cell_type": "code",
   "execution_count": 20,
   "id": "94641c5b",
   "metadata": {},
   "outputs": [
    {
     "data": {
      "text/html": [
       "<div>\n",
       "<style scoped>\n",
       "    .dataframe tbody tr th:only-of-type {\n",
       "        vertical-align: middle;\n",
       "    }\n",
       "\n",
       "    .dataframe tbody tr th {\n",
       "        vertical-align: top;\n",
       "    }\n",
       "\n",
       "    .dataframe thead th {\n",
       "        text-align: right;\n",
       "    }\n",
       "</style>\n",
       "<table border=\"1\" class=\"dataframe\">\n",
       "  <thead>\n",
       "    <tr style=\"text-align: right;\">\n",
       "      <th></th>\n",
       "      <th>cod</th>\n",
       "      <th>message</th>\n",
       "      <th>cnt</th>\n",
       "      <th>list</th>\n",
       "      <th>city</th>\n",
       "    </tr>\n",
       "  </thead>\n",
       "  <tbody>\n",
       "    <tr>\n",
       "      <th>0</th>\n",
       "      <td>200</td>\n",
       "      <td>0</td>\n",
       "      <td>40</td>\n",
       "      <td>[{'dt': 1646827200, 'main': {'temp': 11.77, 'f...</td>\n",
       "      <td>{'id': 2643743, 'name': 'London', 'coord': {'l...</td>\n",
       "    </tr>\n",
       "  </tbody>\n",
       "</table>\n",
       "</div>"
      ],
      "text/plain": [
       "   cod  message  cnt                                               list  \\\n",
       "0  200        0   40  [{'dt': 1646827200, 'main': {'temp': 11.77, 'f...   \n",
       "\n",
       "                                                city  \n",
       "0  {'id': 2643743, 'name': 'London', 'coord': {'l...  "
      ]
     },
     "execution_count": 20,
     "metadata": {},
     "output_type": "execute_result"
    }
   ],
   "source": [
    "current = response.text\n",
    "current_df = pd.read_json(current,lines=True)\n",
    "current_df"
   ]
  },
  {
   "cell_type": "code",
   "execution_count": 29,
   "id": "5e99a13d",
   "metadata": {},
   "outputs": [
    {
     "data": {
      "text/html": [
       "<div>\n",
       "<style scoped>\n",
       "    .dataframe tbody tr th:only-of-type {\n",
       "        vertical-align: middle;\n",
       "    }\n",
       "\n",
       "    .dataframe tbody tr th {\n",
       "        vertical-align: top;\n",
       "    }\n",
       "\n",
       "    .dataframe thead th {\n",
       "        text-align: right;\n",
       "    }\n",
       "</style>\n",
       "<table border=\"1\" class=\"dataframe\">\n",
       "  <thead>\n",
       "    <tr style=\"text-align: right;\">\n",
       "      <th></th>\n",
       "      <th>0</th>\n",
       "      <th>1</th>\n",
       "      <th>2</th>\n",
       "      <th>3</th>\n",
       "      <th>4</th>\n",
       "      <th>5</th>\n",
       "      <th>6</th>\n",
       "      <th>7</th>\n",
       "      <th>8</th>\n",
       "      <th>9</th>\n",
       "      <th>10</th>\n",
       "      <th>11</th>\n",
       "      <th>12</th>\n",
       "      <th>13</th>\n",
       "      <th>14</th>\n",
       "      <th>15</th>\n",
       "      <th>16</th>\n",
       "      <th>17</th>\n",
       "      <th>18</th>\n",
       "      <th>19</th>\n",
       "      <th>20</th>\n",
       "      <th>21</th>\n",
       "      <th>22</th>\n",
       "      <th>23</th>\n",
       "      <th>24</th>\n",
       "      <th>25</th>\n",
       "      <th>26</th>\n",
       "      <th>27</th>\n",
       "      <th>28</th>\n",
       "      <th>29</th>\n",
       "      <th>30</th>\n",
       "      <th>31</th>\n",
       "      <th>32</th>\n",
       "      <th>33</th>\n",
       "      <th>34</th>\n",
       "      <th>35</th>\n",
       "      <th>36</th>\n",
       "      <th>37</th>\n",
       "      <th>38</th>\n",
       "      <th>39</th>\n",
       "    </tr>\n",
       "  </thead>\n",
       "  <tbody>\n",
       "    <tr>\n",
       "      <th>0</th>\n",
       "      <td>{'dt': 1646827200, 'weather': [{'id': 802, 'ma...</td>\n",
       "      <td>{'dt': 1646838000, 'weather': [{'id': 802, 'ma...</td>\n",
       "      <td>{'dt': 1646848800, 'weather': [{'id': 803, 'ma...</td>\n",
       "      <td>{'dt': 1646859600, 'weather': [{'id': 804, 'ma...</td>\n",
       "      <td>{'dt': 1646870400, 'weather': [{'id': 804, 'ma...</td>\n",
       "      <td>{'dt': 1646881200, 'weather': [{'id': 804, 'ma...</td>\n",
       "      <td>{'dt': 1646892000, 'weather': [{'id': 804, 'ma...</td>\n",
       "      <td>{'dt': 1646902800, 'weather': [{'id': 804, 'ma...</td>\n",
       "      <td>{'dt': 1646913600, 'weather': [{'id': 804, 'ma...</td>\n",
       "      <td>{'dt': 1646924400, 'weather': [{'id': 804, 'ma...</td>\n",
       "      <td>{'dt': 1646935200, 'weather': [{'id': 500, 'ma...</td>\n",
       "      <td>{'dt': 1646946000, 'weather': [{'id': 500, 'ma...</td>\n",
       "      <td>{'dt': 1646956800, 'weather': [{'id': 500, 'ma...</td>\n",
       "      <td>{'dt': 1646967600, 'weather': [{'id': 803, 'ma...</td>\n",
       "      <td>{'dt': 1646978400, 'weather': [{'id': 804, 'ma...</td>\n",
       "      <td>{'dt': 1646989200, 'weather': [{'id': 804, 'ma...</td>\n",
       "      <td>{'dt': 1647000000, 'weather': [{'id': 500, 'ma...</td>\n",
       "      <td>{'dt': 1647010800, 'weather': [{'id': 500, 'ma...</td>\n",
       "      <td>{'dt': 1647021600, 'weather': [{'id': 804, 'ma...</td>\n",
       "      <td>{'dt': 1647032400, 'weather': [{'id': 802, 'ma...</td>\n",
       "      <td>{'dt': 1647043200, 'weather': [{'id': 803, 'ma...</td>\n",
       "      <td>{'dt': 1647054000, 'weather': [{'id': 500, 'ma...</td>\n",
       "      <td>{'dt': 1647064800, 'weather': [{'id': 803, 'ma...</td>\n",
       "      <td>{'dt': 1647075600, 'weather': [{'id': 804, 'ma...</td>\n",
       "      <td>{'dt': 1647086400, 'weather': [{'id': 804, 'ma...</td>\n",
       "      <td>{'dt': 1647097200, 'weather': [{'id': 802, 'ma...</td>\n",
       "      <td>{'dt': 1647108000, 'weather': [{'id': 801, 'ma...</td>\n",
       "      <td>{'dt': 1647118800, 'weather': [{'id': 803, 'ma...</td>\n",
       "      <td>{'dt': 1647129600, 'weather': [{'id': 500, 'ma...</td>\n",
       "      <td>{'dt': 1647140400, 'weather': [{'id': 500, 'ma...</td>\n",
       "      <td>{'dt': 1647151200, 'weather': [{'id': 500, 'ma...</td>\n",
       "      <td>{'dt': 1647162000, 'weather': [{'id': 500, 'ma...</td>\n",
       "      <td>{'dt': 1647172800, 'weather': [{'id': 803, 'ma...</td>\n",
       "      <td>{'dt': 1647183600, 'weather': [{'id': 500, 'ma...</td>\n",
       "      <td>{'dt': 1647194400, 'weather': [{'id': 804, 'ma...</td>\n",
       "      <td>{'dt': 1647205200, 'weather': [{'id': 804, 'ma...</td>\n",
       "      <td>{'dt': 1647216000, 'weather': [{'id': 804, 'ma...</td>\n",
       "      <td>{'dt': 1647226800, 'weather': [{'id': 500, 'ma...</td>\n",
       "      <td>{'dt': 1647237600, 'weather': [{'id': 500, 'ma...</td>\n",
       "      <td>{'dt': 1647248400, 'weather': [{'id': 804, 'ma...</td>\n",
       "    </tr>\n",
       "  </tbody>\n",
       "</table>\n",
       "</div>"
      ],
      "text/plain": [
       "                                                  0   \\\n",
       "0  {'dt': 1646827200, 'weather': [{'id': 802, 'ma...   \n",
       "\n",
       "                                                  1   \\\n",
       "0  {'dt': 1646838000, 'weather': [{'id': 802, 'ma...   \n",
       "\n",
       "                                                  2   \\\n",
       "0  {'dt': 1646848800, 'weather': [{'id': 803, 'ma...   \n",
       "\n",
       "                                                  3   \\\n",
       "0  {'dt': 1646859600, 'weather': [{'id': 804, 'ma...   \n",
       "\n",
       "                                                  4   \\\n",
       "0  {'dt': 1646870400, 'weather': [{'id': 804, 'ma...   \n",
       "\n",
       "                                                  5   \\\n",
       "0  {'dt': 1646881200, 'weather': [{'id': 804, 'ma...   \n",
       "\n",
       "                                                  6   \\\n",
       "0  {'dt': 1646892000, 'weather': [{'id': 804, 'ma...   \n",
       "\n",
       "                                                  7   \\\n",
       "0  {'dt': 1646902800, 'weather': [{'id': 804, 'ma...   \n",
       "\n",
       "                                                  8   \\\n",
       "0  {'dt': 1646913600, 'weather': [{'id': 804, 'ma...   \n",
       "\n",
       "                                                  9   \\\n",
       "0  {'dt': 1646924400, 'weather': [{'id': 804, 'ma...   \n",
       "\n",
       "                                                  10  \\\n",
       "0  {'dt': 1646935200, 'weather': [{'id': 500, 'ma...   \n",
       "\n",
       "                                                  11  \\\n",
       "0  {'dt': 1646946000, 'weather': [{'id': 500, 'ma...   \n",
       "\n",
       "                                                  12  \\\n",
       "0  {'dt': 1646956800, 'weather': [{'id': 500, 'ma...   \n",
       "\n",
       "                                                  13  \\\n",
       "0  {'dt': 1646967600, 'weather': [{'id': 803, 'ma...   \n",
       "\n",
       "                                                  14  \\\n",
       "0  {'dt': 1646978400, 'weather': [{'id': 804, 'ma...   \n",
       "\n",
       "                                                  15  \\\n",
       "0  {'dt': 1646989200, 'weather': [{'id': 804, 'ma...   \n",
       "\n",
       "                                                  16  \\\n",
       "0  {'dt': 1647000000, 'weather': [{'id': 500, 'ma...   \n",
       "\n",
       "                                                  17  \\\n",
       "0  {'dt': 1647010800, 'weather': [{'id': 500, 'ma...   \n",
       "\n",
       "                                                  18  \\\n",
       "0  {'dt': 1647021600, 'weather': [{'id': 804, 'ma...   \n",
       "\n",
       "                                                  19  \\\n",
       "0  {'dt': 1647032400, 'weather': [{'id': 802, 'ma...   \n",
       "\n",
       "                                                  20  \\\n",
       "0  {'dt': 1647043200, 'weather': [{'id': 803, 'ma...   \n",
       "\n",
       "                                                  21  \\\n",
       "0  {'dt': 1647054000, 'weather': [{'id': 500, 'ma...   \n",
       "\n",
       "                                                  22  \\\n",
       "0  {'dt': 1647064800, 'weather': [{'id': 803, 'ma...   \n",
       "\n",
       "                                                  23  \\\n",
       "0  {'dt': 1647075600, 'weather': [{'id': 804, 'ma...   \n",
       "\n",
       "                                                  24  \\\n",
       "0  {'dt': 1647086400, 'weather': [{'id': 804, 'ma...   \n",
       "\n",
       "                                                  25  \\\n",
       "0  {'dt': 1647097200, 'weather': [{'id': 802, 'ma...   \n",
       "\n",
       "                                                  26  \\\n",
       "0  {'dt': 1647108000, 'weather': [{'id': 801, 'ma...   \n",
       "\n",
       "                                                  27  \\\n",
       "0  {'dt': 1647118800, 'weather': [{'id': 803, 'ma...   \n",
       "\n",
       "                                                  28  \\\n",
       "0  {'dt': 1647129600, 'weather': [{'id': 500, 'ma...   \n",
       "\n",
       "                                                  29  \\\n",
       "0  {'dt': 1647140400, 'weather': [{'id': 500, 'ma...   \n",
       "\n",
       "                                                  30  \\\n",
       "0  {'dt': 1647151200, 'weather': [{'id': 500, 'ma...   \n",
       "\n",
       "                                                  31  \\\n",
       "0  {'dt': 1647162000, 'weather': [{'id': 500, 'ma...   \n",
       "\n",
       "                                                  32  \\\n",
       "0  {'dt': 1647172800, 'weather': [{'id': 803, 'ma...   \n",
       "\n",
       "                                                  33  \\\n",
       "0  {'dt': 1647183600, 'weather': [{'id': 500, 'ma...   \n",
       "\n",
       "                                                  34  \\\n",
       "0  {'dt': 1647194400, 'weather': [{'id': 804, 'ma...   \n",
       "\n",
       "                                                  35  \\\n",
       "0  {'dt': 1647205200, 'weather': [{'id': 804, 'ma...   \n",
       "\n",
       "                                                  36  \\\n",
       "0  {'dt': 1647216000, 'weather': [{'id': 804, 'ma...   \n",
       "\n",
       "                                                  37  \\\n",
       "0  {'dt': 1647226800, 'weather': [{'id': 500, 'ma...   \n",
       "\n",
       "                                                  38  \\\n",
       "0  {'dt': 1647237600, 'weather': [{'id': 500, 'ma...   \n",
       "\n",
       "                                                  39  \n",
       "0  {'dt': 1647248400, 'weather': [{'id': 804, 'ma...  "
      ]
     },
     "execution_count": 29,
     "metadata": {},
     "output_type": "execute_result"
    }
   ],
   "source": [
    "flat1 = json_normalize(current_df['list'])\n",
    "data = pd.DataFrame(flat1)\n",
    "data"
   ]
  },
  {
   "cell_type": "code",
   "execution_count": 30,
   "id": "0c59dbc0",
   "metadata": {},
   "outputs": [],
   "source": [
    "def flatten(data, col_list):\n",
    "    for column in col_list:\n",
    "        flattened = pd.DataFrame(dict(data[column])).transpose()\n",
    "        columns = [str(col) for col in flattened.columns]\n",
    "        flattened.columns = [column + '_' + colname for colname in columns]\n",
    "        data = pd.concat([data, flattened], axis=1)\n",
    "        data = data.drop(column, axis=1)\n",
    "    return data\n",
    "data2 = "
   ]
  },
  {
   "cell_type": "code",
   "execution_count": 28,
   "id": "d30eb054",
   "metadata": {},
   "outputs": [
    {
     "ename": "KeyError",
     "evalue": "'1'",
     "output_type": "error",
     "traceback": [
      "\u001b[0;31m---------------------------------------------------------------------------\u001b[0m",
      "\u001b[0;31mKeyError\u001b[0m                                  Traceback (most recent call last)",
      "\u001b[0;32m/var/folders/4x/ppplmryx5_d7mfrd5d6968kr0000gn/T/ipykernel_11176/1003233359.py\u001b[0m in \u001b[0;36m<module>\u001b[0;34m\u001b[0m\n\u001b[0;32m----> 1\u001b[0;31m \u001b[0mdict\u001b[0m\u001b[0;34m(\u001b[0m\u001b[0mflat1\u001b[0m\u001b[0;34m[\u001b[0m\u001b[0;34m'1'\u001b[0m\u001b[0;34m]\u001b[0m\u001b[0;34m)\u001b[0m\u001b[0;34m\u001b[0m\u001b[0;34m\u001b[0m\u001b[0m\n\u001b[0m\u001b[1;32m      2\u001b[0m \u001b[0mpd\u001b[0m\u001b[0;34m.\u001b[0m\u001b[0mDataFrame\u001b[0m\u001b[0;34m(\u001b[0m\u001b[0mdict\u001b[0m\u001b[0;34m(\u001b[0m\u001b[0mflat1\u001b[0m\u001b[0;34m[\u001b[0m\u001b[0;34m'1'\u001b[0m\u001b[0;34m]\u001b[0m\u001b[0;34m)\u001b[0m\u001b[0;34m)\u001b[0m\u001b[0;34m\u001b[0m\u001b[0;34m\u001b[0m\u001b[0m\n\u001b[1;32m      3\u001b[0m \u001b[0mpd\u001b[0m\u001b[0;34m.\u001b[0m\u001b[0mDataFrame\u001b[0m\u001b[0;34m(\u001b[0m\u001b[0mdict\u001b[0m\u001b[0;34m(\u001b[0m\u001b[0mflat1\u001b[0m\u001b[0;34m[\u001b[0m\u001b[0;34m'1'\u001b[0m\u001b[0;34m]\u001b[0m\u001b[0;34m)\u001b[0m\u001b[0;34m)\u001b[0m\u001b[0;34m.\u001b[0m\u001b[0mtranspose\u001b[0m\u001b[0;34m(\u001b[0m\u001b[0;34m)\u001b[0m\u001b[0;34m\u001b[0m\u001b[0;34m\u001b[0m\u001b[0m\n",
      "\u001b[0;32m~/opt/anaconda3/lib/python3.9/site-packages/pandas/core/frame.py\u001b[0m in \u001b[0;36m__getitem__\u001b[0;34m(self, key)\u001b[0m\n\u001b[1;32m   3456\u001b[0m             \u001b[0;32mif\u001b[0m \u001b[0mself\u001b[0m\u001b[0;34m.\u001b[0m\u001b[0mcolumns\u001b[0m\u001b[0;34m.\u001b[0m\u001b[0mnlevels\u001b[0m \u001b[0;34m>\u001b[0m \u001b[0;36m1\u001b[0m\u001b[0;34m:\u001b[0m\u001b[0;34m\u001b[0m\u001b[0;34m\u001b[0m\u001b[0m\n\u001b[1;32m   3457\u001b[0m                 \u001b[0;32mreturn\u001b[0m \u001b[0mself\u001b[0m\u001b[0;34m.\u001b[0m\u001b[0m_getitem_multilevel\u001b[0m\u001b[0;34m(\u001b[0m\u001b[0mkey\u001b[0m\u001b[0;34m)\u001b[0m\u001b[0;34m\u001b[0m\u001b[0;34m\u001b[0m\u001b[0m\n\u001b[0;32m-> 3458\u001b[0;31m             \u001b[0mindexer\u001b[0m \u001b[0;34m=\u001b[0m \u001b[0mself\u001b[0m\u001b[0;34m.\u001b[0m\u001b[0mcolumns\u001b[0m\u001b[0;34m.\u001b[0m\u001b[0mget_loc\u001b[0m\u001b[0;34m(\u001b[0m\u001b[0mkey\u001b[0m\u001b[0;34m)\u001b[0m\u001b[0;34m\u001b[0m\u001b[0;34m\u001b[0m\u001b[0m\n\u001b[0m\u001b[1;32m   3459\u001b[0m             \u001b[0;32mif\u001b[0m \u001b[0mis_integer\u001b[0m\u001b[0;34m(\u001b[0m\u001b[0mindexer\u001b[0m\u001b[0;34m)\u001b[0m\u001b[0;34m:\u001b[0m\u001b[0;34m\u001b[0m\u001b[0;34m\u001b[0m\u001b[0m\n\u001b[1;32m   3460\u001b[0m                 \u001b[0mindexer\u001b[0m \u001b[0;34m=\u001b[0m \u001b[0;34m[\u001b[0m\u001b[0mindexer\u001b[0m\u001b[0;34m]\u001b[0m\u001b[0;34m\u001b[0m\u001b[0;34m\u001b[0m\u001b[0m\n",
      "\u001b[0;32m~/opt/anaconda3/lib/python3.9/site-packages/pandas/core/indexes/range.py\u001b[0m in \u001b[0;36mget_loc\u001b[0;34m(self, key, method, tolerance)\u001b[0m\n\u001b[1;32m    386\u001b[0m                 \u001b[0;32mexcept\u001b[0m \u001b[0mValueError\u001b[0m \u001b[0;32mas\u001b[0m \u001b[0merr\u001b[0m\u001b[0;34m:\u001b[0m\u001b[0;34m\u001b[0m\u001b[0;34m\u001b[0m\u001b[0m\n\u001b[1;32m    387\u001b[0m                     \u001b[0;32mraise\u001b[0m \u001b[0mKeyError\u001b[0m\u001b[0;34m(\u001b[0m\u001b[0mkey\u001b[0m\u001b[0;34m)\u001b[0m \u001b[0;32mfrom\u001b[0m \u001b[0merr\u001b[0m\u001b[0;34m\u001b[0m\u001b[0;34m\u001b[0m\u001b[0m\n\u001b[0;32m--> 388\u001b[0;31m             \u001b[0;32mraise\u001b[0m \u001b[0mKeyError\u001b[0m\u001b[0;34m(\u001b[0m\u001b[0mkey\u001b[0m\u001b[0;34m)\u001b[0m\u001b[0;34m\u001b[0m\u001b[0;34m\u001b[0m\u001b[0m\n\u001b[0m\u001b[1;32m    389\u001b[0m         \u001b[0;32mreturn\u001b[0m \u001b[0msuper\u001b[0m\u001b[0;34m(\u001b[0m\u001b[0;34m)\u001b[0m\u001b[0;34m.\u001b[0m\u001b[0mget_loc\u001b[0m\u001b[0;34m(\u001b[0m\u001b[0mkey\u001b[0m\u001b[0;34m,\u001b[0m \u001b[0mmethod\u001b[0m\u001b[0;34m=\u001b[0m\u001b[0mmethod\u001b[0m\u001b[0;34m,\u001b[0m \u001b[0mtolerance\u001b[0m\u001b[0;34m=\u001b[0m\u001b[0mtolerance\u001b[0m\u001b[0;34m)\u001b[0m\u001b[0;34m\u001b[0m\u001b[0;34m\u001b[0m\u001b[0m\n\u001b[1;32m    390\u001b[0m \u001b[0;34m\u001b[0m\u001b[0m\n",
      "\u001b[0;31mKeyError\u001b[0m: '1'"
     ]
    }
   ],
   "source": [
    "dict(flat1['1'])\n",
    "pd.DataFrame(dict(flat1['1']))\n",
    "pd.DataFrame(dict(flat1['1'])).transpose()"
   ]
  },
  {
   "cell_type": "code",
   "execution_count": null,
   "id": "f27c55c2",
   "metadata": {},
   "outputs": [],
   "source": []
  },
  {
   "cell_type": "code",
   "execution_count": null,
   "id": "556cb164",
   "metadata": {},
   "outputs": [],
   "source": []
  },
  {
   "cell_type": "code",
   "execution_count": null,
   "id": "636f6126",
   "metadata": {},
   "outputs": [],
   "source": []
  },
  {
   "cell_type": "code",
   "execution_count": null,
   "id": "74b61c5e",
   "metadata": {},
   "outputs": [],
   "source": []
  },
  {
   "cell_type": "code",
   "execution_count": null,
   "id": "1ff8c324",
   "metadata": {},
   "outputs": [],
   "source": []
  },
  {
   "cell_type": "code",
   "execution_count": null,
   "id": "626e1fa2",
   "metadata": {},
   "outputs": [],
   "source": []
  },
  {
   "cell_type": "code",
   "execution_count": null,
   "id": "0080ff42",
   "metadata": {},
   "outputs": [],
   "source": []
  },
  {
   "cell_type": "code",
   "execution_count": null,
   "id": "eb3765ea",
   "metadata": {},
   "outputs": [],
   "source": []
  }
 ],
 "metadata": {
  "kernelspec": {
   "display_name": "Python 3 (ipykernel)",
   "language": "python",
   "name": "python3"
  },
  "language_info": {
   "codemirror_mode": {
    "name": "ipython",
    "version": 3
   },
   "file_extension": ".py",
   "mimetype": "text/x-python",
   "name": "python",
   "nbconvert_exporter": "python",
   "pygments_lexer": "ipython3",
   "version": "3.9.7"
  },
  "toc": {
   "base_numbering": 1,
   "nav_menu": {},
   "number_sections": true,
   "sideBar": true,
   "skip_h1_title": false,
   "title_cell": "Table of Contents",
   "title_sidebar": "Contents",
   "toc_cell": false,
   "toc_position": {},
   "toc_section_display": true,
   "toc_window_display": false
  },
  "varInspector": {
   "cols": {
    "lenName": 16,
    "lenType": 16,
    "lenVar": 40
   },
   "kernels_config": {
    "python": {
     "delete_cmd_postfix": "",
     "delete_cmd_prefix": "del ",
     "library": "var_list.py",
     "varRefreshCmd": "print(var_dic_list())"
    },
    "r": {
     "delete_cmd_postfix": ") ",
     "delete_cmd_prefix": "rm(",
     "library": "var_list.r",
     "varRefreshCmd": "cat(var_dic_list()) "
    }
   },
   "types_to_exclude": [
    "module",
    "function",
    "builtin_function_or_method",
    "instance",
    "_Feature"
   ],
   "window_display": false
  }
 },
 "nbformat": 4,
 "nbformat_minor": 5
}
